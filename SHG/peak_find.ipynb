{
 "cells": [
  {
   "cell_type": "code",
   "execution_count": 9,
   "metadata": {},
   "outputs": [],
   "source": [
    "import pandas as pd\n",
    "\n",
    "# 读取Excel文件\n",
    "df = pd.read_excel('p1.xlsx')\n",
    "\n",
    "# 假设我们要读取的列名为'Column_Name'\n",
    "data_a0 = df['n_0'].tolist()\n",
    "data_b0 = df['intense_0'].tolist()\n",
    "# 输出列表\n",
    "# print(data_list)"
   ]
  },
  {
   "cell_type": "code",
   "execution_count": 10,
   "metadata": {},
   "outputs": [
    {
     "ename": "TypeError",
     "evalue": "only integer scalar arrays can be converted to a scalar index",
     "output_type": "error",
     "traceback": [
      "\u001b[0;31m---------------------------------------------------------------------------\u001b[0m",
      "\u001b[0;31mTypeError\u001b[0m                                 Traceback (most recent call last)",
      "Cell \u001b[0;32mIn[10], line 12\u001b[0m\n\u001b[1;32m      9\u001b[0m peaks, _ \u001b[38;5;241m=\u001b[39m find_peaks(intensities, height\u001b[38;5;241m=\u001b[39m\u001b[38;5;241m0\u001b[39m)\n\u001b[1;32m     11\u001b[0m \u001b[38;5;66;03m# 提取峰值的波长和强度\u001b[39;00m\n\u001b[0;32m---> 12\u001b[0m peak_wavelengths \u001b[38;5;241m=\u001b[39m \u001b[43mwavelengths\u001b[49m\u001b[43m[\u001b[49m\u001b[43mpeaks\u001b[49m\u001b[43m]\u001b[49m\n\u001b[1;32m     13\u001b[0m peak_intensities \u001b[38;5;241m=\u001b[39m intensities[peaks]\n\u001b[1;32m     15\u001b[0m \u001b[38;5;66;03m# 打印结果\u001b[39;00m\n",
      "\u001b[0;31mTypeError\u001b[0m: only integer scalar arrays can be converted to a scalar index"
     ]
    }
   ],
   "source": [
    "import numpy as np\n",
    "from scipy.signal import find_peaks\n",
    "\n",
    "# 假设您的数据存储在两个列表中：波长和强度\n",
    "wavelengths = data_a0\n",
    "intensities = data_b0\n",
    "\n",
    "# 寻找峰值\n",
    "peaks, _ = find_peaks(intensities, height=0)\n",
    "\n",
    "# 提取峰值的波长和强度\n",
    "peak_wavelengths = wavelengths[peaks]\n",
    "peak_intensities = intensities[peaks]\n",
    "\n",
    "# 打印结果\n",
    "for wl, inten in zip(peak_wavelengths, peak_intensities):\n",
    "    print(f\"波长: {wl}, 峰位强度: {inten}\")\n"
   ]
  }
 ],
 "metadata": {
  "kernelspec": {
   "display_name": "base",
   "language": "python",
   "name": "python3"
  },
  "language_info": {
   "codemirror_mode": {
    "name": "ipython",
    "version": 3
   },
   "file_extension": ".py",
   "mimetype": "text/x-python",
   "name": "python",
   "nbconvert_exporter": "python",
   "pygments_lexer": "ipython3",
   "version": "3.9.16"
  }
 },
 "nbformat": 4,
 "nbformat_minor": 2
}
