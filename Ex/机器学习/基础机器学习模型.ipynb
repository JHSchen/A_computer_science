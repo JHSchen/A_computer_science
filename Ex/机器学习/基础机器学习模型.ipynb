{
 "cells": [
  {
   "cell_type": "markdown",
   "id": "01aab195",
   "metadata": {},
   "source": [
    "# Scikit-Learn的应用"
   ]
  },
  {
   "cell_type": "markdown",
   "id": "61574e8a",
   "metadata": {},
   "source": [
    "## 01 加载数据集"
   ]
  },
  {
   "cell_type": "code",
   "execution_count": 1,
   "id": "e2261c2a",
   "metadata": {},
   "outputs": [
    {
     "data": {
      "text/plain": [
       "dict_keys(['data', 'target', 'frame', 'feature_names', 'target_names', 'images', 'DESCR'])"
      ]
     },
     "execution_count": 1,
     "metadata": {},
     "output_type": "execute_result"
    }
   ],
   "source": [
    "from sklearn import datasets\n",
    "digits = datasets.load_digits()\n",
    "\n",
    "digits.keys()"
   ]
  },
  {
   "cell_type": "code",
   "execution_count": 2,
   "id": "20efe2b1",
   "metadata": {},
   "outputs": [
    {
     "data": {
      "text/plain": [
       "array([[ 0.,  0.,  5., ...,  0.,  0.,  0.],\n",
       "       [ 0.,  0.,  0., ..., 10.,  0.,  0.],\n",
       "       [ 0.,  0.,  0., ..., 16.,  9.,  0.],\n",
       "       ...,\n",
       "       [ 0.,  0.,  1., ...,  6.,  0.,  0.],\n",
       "       [ 0.,  0.,  2., ..., 12.,  0.,  0.],\n",
       "       [ 0.,  0., 10., ..., 12.,  1.,  0.]])"
      ]
     },
     "execution_count": 2,
     "metadata": {},
     "output_type": "execute_result"
    }
   ],
   "source": [
    "digits.data"
   ]
  },
  {
   "cell_type": "code",
   "execution_count": 3,
   "id": "4c4bf283",
   "metadata": {},
   "outputs": [
    {
     "name": "stdout",
     "output_type": "stream",
     "text": [
      "[0 1 2 ... 8 9 8]\n"
     ]
    },
    {
     "data": {
      "text/plain": [
       "array([[ 0.,  0.,  5., 13.,  9.,  1.,  0.,  0.],\n",
       "       [ 0.,  0., 13., 15., 10., 15.,  5.,  0.],\n",
       "       [ 0.,  3., 15.,  2.,  0., 11.,  8.,  0.],\n",
       "       [ 0.,  4., 12.,  0.,  0.,  8.,  8.,  0.],\n",
       "       [ 0.,  5.,  8.,  0.,  0.,  9.,  8.,  0.],\n",
       "       [ 0.,  4., 11.,  0.,  1., 12.,  7.,  0.],\n",
       "       [ 0.,  2., 14.,  5., 10., 12.,  0.,  0.],\n",
       "       [ 0.,  0.,  6., 13., 10.,  0.,  0.,  0.]])"
      ]
     },
     "execution_count": 3,
     "metadata": {},
     "output_type": "execute_result"
    }
   ],
   "source": [
    "print(digits.target)\n",
    "digits.images[0]"
   ]
  },
  {
   "cell_type": "code",
   "execution_count": 5,
   "id": "8ecc588d",
   "metadata": {},
   "outputs": [
    {
     "data": {
      "image/png": "[encoded data removed]",
      "text/plain": [
       "<Figure size 432x288 with 10 Axes>"
      ]
     },
     "metadata": {
      "needs_background": "light"
     },
     "output_type": "display_data"
    }
   ],
   "source": [
    "# 显示数据\n",
    "from matplotlib import pyplot as plt\n",
    "\n",
    "fig, ax = plt.subplots(\n",
    "    nrows=2,\n",
    "    ncols=5,\n",
    "    sharex=True,\n",
    "    sharey=True)\n",
    " \n",
    "ax = ax.flatten()\n",
    "for i in range(10):\n",
    "    ax[i].imshow(digits.data[i].reshape((8, 8)), cmap='Greys', interpolation='nearest')\n",
    "plt.show()"
   ]
  },
  {
   "cell_type": "markdown",
   "id": "de1fa33a",
   "metadata": {},
   "source": [
    "## 02 模型训练和预测"
   ]
  },
  {
   "cell_type": "markdown",
   "id": "163324be",
   "metadata": {},
   "source": [
    "SVM"
   ]
  },
  {
   "cell_type": "code",
   "execution_count": 6,
   "id": "b3793a45",
   "metadata": {},
   "outputs": [
    {
     "data": {
      "text/plain": [
       "SVC(C=100, gamma=0.001)"
      ]
     },
     "execution_count": 6,
     "metadata": {},
     "output_type": "execute_result"
    }
   ],
   "source": [
    "from sklearn import svm\n",
    "clf = svm.SVC(gamma = 0.001, C=100)\n",
    "\n",
    "clf.fit(digits.data[:-1], digits.target[:-1])   # 用digits.data[:-1], digits.target[:-1]作为训练数据训练clf"
   ]
  },
  {
   "cell_type": "code",
   "execution_count": 11,
   "id": "17761ac4",
   "metadata": {},
   "outputs": [
    {
     "data": {
      "text/plain": [
       "array([0, 1, 2])"
      ]
     },
     "execution_count": 11,
     "metadata": {},
     "output_type": "execute_result"
    }
   ],
   "source": [
    "clf.predict(digits.data[:3])  # 训练好的clf模型对digits.data[:2]的预测结果"
   ]
  },
  {
   "cell_type": "code",
   "execution_count": 13,
   "id": "28e02d01",
   "metadata": {},
   "outputs": [
    {
     "data": {
      "image/png": "[encoded data removed]",
      "text/plain": [
       "<Figure size 432x288 with 3 Axes>"
      ]
     },
     "metadata": {
      "needs_background": "light"
     },
     "output_type": "display_data"
    }
   ],
   "source": [
    "images = digits.data[:3]\n",
    "\n",
    "fig, axes = plt.subplots(nrows=1, ncols=3)\n",
    "\n",
    "for i, ax in enumerate(axes):\n",
    "    # 将图像数据重新调整为8x8的矩阵形状\n",
    "    image = images[i].reshape(8, 8)\n",
    "    # 显示图像\n",
    "    ax.imshow(image, cmap='gray')\n",
    "    ax.axis('off')\n",
    "\n",
    "# 展示图像\n",
    "plt.show()"
   ]
  },
  {
   "cell_type": "markdown",
   "id": "7742a6c1",
   "metadata": {},
   "source": [
    "朴素贝叶斯"
   ]
  },
  {
   "cell_type": "code",
   "execution_count": 35,
   "id": "bd4e7750",
   "metadata": {},
   "outputs": [
    {
     "data": {
      "text/plain": [
       "MultinomialNB()"
      ]
     },
     "execution_count": 35,
     "metadata": {},
     "output_type": "execute_result"
    }
   ],
   "source": [
    "from sklearn.naive_bayes import MultinomialNB\n",
    "model = MultinomialNB()\n",
    "model.fit(digits.data[:-1], digits.target[:-1])"
   ]
  },
  {
   "cell_type": "code",
   "execution_count": 37,
   "id": "8f6d9da3",
   "metadata": {},
   "outputs": [
    {
     "data": {
      "text/plain": [
       "array([1, 3, 4])"
      ]
     },
     "execution_count": 37,
     "metadata": {},
     "output_type": "execute_result"
    }
   ],
   "source": [
    "model.predict(digits.data[2:5])"
   ]
  },
  {
   "cell_type": "code",
   "execution_count": 38,
   "id": "398b7a1b",
   "metadata": {},
   "outputs": [
    {
     "data": {
      "image/png": "[encoded data removed]",
      "text/plain": [
       "<Figure size 432x288 with 3 Axes>"
      ]
     },
     "metadata": {
      "needs_background": "light"
     },
     "output_type": "display_data"
    }
   ],
   "source": [
    "images = digits.data[2:5]\n",
    "\n",
    "fig, axes = plt.subplots(nrows=1, ncols=3)\n",
    "\n",
    "for i, ax in enumerate(axes):\n",
    "    # 将图像数据重新调整为8x8的矩阵形状\n",
    "    image = images[i].reshape(8, 8)\n",
    "    # 显示图像\n",
    "    ax.imshow(image, cmap='gray')\n",
    "    ax.axis('off')\n",
    "\n",
    "# 展示图像\n",
    "plt.show()"
   ]
  },
  {
   "cell_type": "markdown",
   "id": "b709c161",
   "metadata": {},
   "source": [
    "神经网络"
   ]
  },
  {
   "cell_type": "code",
   "execution_count": 43,
   "id": "c7d6f4a0",
   "metadata": {},
   "outputs": [
    {
     "name": "stdout",
     "output_type": "stream",
     "text": [
      "Iteration 1, loss = 22.46094368\n",
      "Iteration 2, loss = 4.70572820\n",
      "Iteration 3, loss = 1.58970383\n",
      "Iteration 4, loss = 1.24468204\n",
      "Iteration 5, loss = 0.98084709\n",
      "Iteration 6, loss = 0.80614623\n",
      "Iteration 7, loss = 0.70919658\n",
      "Iteration 8, loss = 0.61886006\n",
      "Iteration 9, loss = 0.55994247\n",
      "Iteration 10, loss = 0.48754458\n"
     ]
    },
    {
     "name": "stderr",
     "output_type": "stream",
     "text": [
      "D:\\python\\conda\\anaconda\\lib\\site-packages\\sklearn\\neural_network\\_multilayer_perceptron.py:614: ConvergenceWarning: Stochastic Optimizer: Maximum iterations (10) reached and the optimization hasn't converged yet.\n",
      "  warnings.warn(\n"
     ]
    },
    {
     "data": {
      "text/plain": [
       "MLPClassifier(hidden_layer_sizes=(512,), learning_rate_init=0.1, max_iter=10,\n",
       "              random_state=1, verbose=1)"
      ]
     },
     "execution_count": 43,
     "metadata": {},
     "output_type": "execute_result"
    }
   ],
   "source": [
    "from sklearn.neural_network import MLPClassifier\n",
    "mlpc = MLPClassifier(solver='adam', activation='relu',alpha=1e-4,\n",
    "                     hidden_layer_sizes=(512,), random_state=1, max_iter=10,\n",
    "                     verbose=1, learning_rate_init=0.1)\n",
    "\n",
    "mlpc.fit(digits.data[:-10], digits.target[:-10])"
   ]
  },
  {
   "cell_type": "code",
   "execution_count": 44,
   "id": "edfdce42",
   "metadata": {},
   "outputs": [
    {
     "data": {
      "text/plain": [
       "array([9, 6, 7])"
      ]
     },
     "execution_count": 44,
     "metadata": {},
     "output_type": "execute_result"
    }
   ],
   "source": [
    "mlpc.predict(digits.data[5:8])"
   ]
  },
  {
   "cell_type": "code",
   "execution_count": 45,
   "id": "6c595bab",
   "metadata": {},
   "outputs": [
    {
     "data": {
      "image/png": "[encoded data removed]",
      "text/plain": [
       "<Figure size 432x288 with 3 Axes>"
      ]
     },
     "metadata": {
      "needs_background": "light"
     },
     "output_type": "display_data"
    }
   ],
   "source": [
    "images = digits.data[5:8]\n",
    "\n",
    "fig, axes = plt.subplots(nrows=1, ncols=3)\n",
    "\n",
    "for i, ax in enumerate(axes):\n",
    "    # 将图像数据重新调整为8x8的矩阵形状\n",
    "    image = images[i].reshape(8, 8)\n",
    "    # 显示图像\n",
    "    ax.imshow(image, cmap='gray')\n",
    "    ax.axis('off')\n",
    "\n",
    "# 展示图像\n",
    "plt.show()"
   ]
  },
  {
   "cell_type": "markdown",
   "id": "8d8faf45",
   "metadata": {},
   "source": [
    "## 03 模式测试"
   ]
  },
  {
   "cell_type": "markdown",
   "id": "bebf6bed",
   "metadata": {},
   "source": [
    "用测试数据计算准确率，注意要使用训练阶段未使用过的数据"
   ]
  },
  {
   "cell_type": "code",
   "execution_count": 49,
   "id": "9efad27f",
   "metadata": {},
   "outputs": [
    {
     "name": "stdout",
     "output_type": "stream",
     "text": [
      "0.7\n",
      "ground truth:  [5 4 8 8 4 9 0 8 9 8]\n",
      "pred:  [5 4 7 1 4 9 0 8 7 8]\n"
     ]
    }
   ],
   "source": [
    "# 计算对测试数据的预测准确率\n",
    "def cal_accuracy(prediction, y_test):\n",
    "    right = 0\n",
    "    total = 0\n",
    "    for i in range(len(y_test)):\n",
    "        total += 1\n",
    "        if prediction[i] == y_test[i]:\n",
    "            right += 1\n",
    "    acc = right / total\n",
    "    \n",
    "    return acc\n",
    "\n",
    "pred = mlpc.predict(digits.data[-10:])\n",
    "acc = cal_accuracy(digits.target[-10:], pred)\n",
    "print(acc)\n",
    "print('ground truth: ', digits.target[-10:])\n",
    "print('pred: ', pred)"
   ]
  },
  {
   "cell_type": "markdown",
   "id": "587173ac",
   "metadata": {},
   "source": [
    "## 数据稀疏表示"
   ]
  },
  {
   "cell_type": "markdown",
   "id": "e31adcf3",
   "metadata": {},
   "source": [
    "随机映射 random projection"
   ]
  },
  {
   "cell_type": "markdown",
   "id": "49101e37",
   "metadata": {},
   "source": [
    "sklearn.random_projection 模块实现了一种简单和计算高效的方法，通过交易控制量的精度（作为附加方差），以缩短数据的维数，从而缩短处理时间和缩小模型大小。\n",
    "\n",
    "该模块实现两种类型的非结构化随机矩阵：高斯随机矩阵 GaussianRandomProjection 和稀疏随机矩阵 SparseRandomProjection。\n",
    "\n",
    "- 高斯随机矩阵：通过将原始输入空间投影在随机生成的矩阵上来降低维度。\n",
    "- 稀疏随机矩阵：相比于高斯随机映射，稀疏随机映射会更能保证降维的质量，并带来内存的使用效率和运算效率。"
   ]
  },
  {
   "cell_type": "code",
   "execution_count": 33,
   "id": "7f38e142",
   "metadata": {},
   "outputs": [
    {
     "data": {
      "text/plain": [
       "array([[0.5488135 , 0.71518934, 0.60276335, ..., 0.83000296, 0.9328062 ,\n",
       "        0.30833843],\n",
       "       [0.29264206, 0.56651825, 0.13741443, ..., 0.8018282 , 0.5391446 ,\n",
       "        0.8372185 ],\n",
       "       [0.4577597 , 0.3769177 , 0.7023351 , ..., 0.84348094, 0.9429093 ,\n",
       "        0.83282244],\n",
       "       ...,\n",
       "       [0.9977274 , 0.5772973 , 0.10531813, ..., 0.23887452, 0.8411705 ,\n",
       "        0.10988224],\n",
       "       [0.366182  , 0.3506383 , 0.40236744, ..., 0.90022343, 0.49806663,\n",
       "        0.77000207],\n",
       "       [0.1620572 , 0.23990296, 0.4880867 , ..., 0.5882239 , 0.4246149 ,\n",
       "        0.90163267]], dtype=float32)"
      ]
     },
     "execution_count": 33,
     "metadata": {},
     "output_type": "execute_result"
    }
   ],
   "source": [
    "import numpy as np\n",
    "from sklearn import random_projection\n",
    "rng = np.random.RandomState(0)\n",
    "X = rng.rand(10, 4000)  # 生成10x4000的随机数组\n",
    "X = np.array(X, dtype='float32')\n",
    "X"
   ]
  },
  {
   "cell_type": "code",
   "execution_count": 34,
   "id": "cd2566c5",
   "metadata": {},
   "outputs": [
    {
     "name": "stdout",
     "output_type": "stream",
     "text": [
      "float64\n"
     ]
    },
    {
     "data": {
      "text/plain": [
       "(10, 1973)"
      ]
     },
     "execution_count": 34,
     "metadata": {},
     "output_type": "execute_result"
    }
   ],
   "source": [
    "transformer1 = random_projection.GaussianRandomProjection()\n",
    "X_new = transformer1.fit_transform(X)\n",
    "\n",
    "print(X_new.dtype)\n",
    "X_new.shape"
   ]
  },
  {
   "cell_type": "code",
   "execution_count": null,
   "id": "b1270a9e",
   "metadata": {},
   "outputs": [],
   "source": [
    "transformer2 = random_projection.SparseRandomProjection()\n",
    "X_new = transformer2.fit_transform(X)\n",
    "\n",
    "print(X_new.dtype)\n",
    "X_new.shape"
   ]
  },
  {
   "cell_type": "code",
   "execution_count": null,
   "id": "cd392438",
   "metadata": {},
   "outputs": [],
   "source": []
  }
 ],
 "metadata": {
  "kernelspec": {
   "display_name": "Python 3 (ipykernel)",
   "language": "python",
   "name": "python3"
  },
  "language_info": {
   "codemirror_mode": {
    "name": "ipython",
    "version": 3
   },
   "file_extension": ".py",
   "mimetype": "text/x-python",
   "name": "python",
   "nbconvert_exporter": "python",
   "pygments_lexer": "ipython3",
   "version": "3.9.7"
  }
 },
 "nbformat": 4,
 "nbformat_minor": 5
}
