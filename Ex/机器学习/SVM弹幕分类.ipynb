{
 "cells": [
  {
   "cell_type": "code",
   "execution_count": 13,
   "metadata": {},
   "outputs": [
    {
     "name": "stdout",
     "output_type": "stream",
     "text": [
      "Accuracy: 0.6666666666666666\n"
     ]
    }
   ],
   "source": [
    "import numpy as np\n",
    "from sklearn.svm import SVC\n",
    "from sklearn.feature_extraction.text import TfidfVectorizer\n",
    "from sklearn.model_selection import train_test_split\n",
    "from sklearn.metrics import accuracy_score\n",
    "\n",
    "# 1. 数据准备和预处理\n",
    "texts = ['hello','fuck','son of bitch','I love this product', 'This is horrible', 'Great experience', 'Terrible service','fuck you','you idiot', 'hi', 'shit', 'go to hell', 'This is amazing', 'What a waste of money', 'Best purchase ever', 'Rude staff', 'screw you', 'you rock', 'good morning', 'damn', 'eat shit', 'This is fantastic', 'This is garbage', 'Very satisfied', 'Bad customer service', 'fuck yourself', 'you are funny','bitch','you die'] # 弹幕文本列表 \n",
    "labels =[0,1,1,0,0,0,0,1,1,0,1,1,0,0,0,0,1,0,0,1,1,0,0,0,0,1,0,1,1] # 弹幕类别列表（0表示正常，1表示不良）\n",
    "\n",
    "# 2. 特征提取和向量化\n",
    "vectorizer = TfidfVectorizer()\n",
    "features = vectorizer.fit_transform(texts)\n",
    "\n",
    "# 3. 数据划分\n",
    "X_train, X_test, y_train, y_test = train_test_split(features, labels, test_size=0.2, random_state=42)\n",
    "\n",
    "# 4. 模型训练\n",
    "svm = SVC(kernel='linear')\n",
    "svm.fit(X_train, y_train)\n",
    "\n",
    "# 5. 模型评估\n",
    "y_pred = svm.predict(X_test)\n",
    "accuracy = accuracy_score(y_test, y_pred)\n",
    "print(\"Accuracy:\", accuracy)"
   ]
  },
  {
   "cell_type": "code",
   "execution_count": 19,
   "metadata": {},
   "outputs": [
    {
     "name": "stdout",
     "output_type": "stream",
     "text": [
      "正常弹幕： Wonderful\n",
      "正常弹幕： aboslutely\n",
      "正常弹幕： good\n",
      "正常弹幕： bad\n",
      "不良弹幕： fuck you man\n",
      "不良弹幕： fuck\n",
      "不良弹幕： damn\n",
      "不良弹幕： you bitch\n",
      "不良弹幕： shit you\n"
     ]
    }
   ],
   "source": [
    "# 6. 弹幕分类与审核\n",
    "new_text = ['Wonderful','aboslutely','good','bad','fuck you man','fuck','damn','you bitch','shit you']  # 新的弹幕文本\n",
    "new_text_features = vectorizer.transform(new_text)\n",
    "predicted_label = svm.predict(new_text_features)\n",
    "\n",
    "# 根据预测结果进行审核处理\n",
    "for i in range(len(new_text)):\n",
    "    if predicted_label[i] == 1:\n",
    "        # 对不良弹幕进行相应处理，如屏蔽、标记或删除\n",
    "        print(\"不良弹幕：\", new_text[i])\n",
    "    else:\n",
    "        # 正常弹幕，通过审核\n",
    "        print(\"正常弹幕：\", new_text[i])"
   ]
  },
  {
   "cell_type": "code",
   "execution_count": 18,
   "metadata": {},
   "outputs": [
    {
     "name": "stdout",
     "output_type": "stream",
     "text": [
      "Accuracy: 0.6666666666666666\n"
     ]
    },
    {
     "data": {
      "image/png": "[encoded data removed]",
      "text/plain": [
       "<Figure size 800x600 with 1 Axes>"
      ]
     },
     "metadata": {},
     "output_type": "display_data"
    },
    {
     "name": "stdout",
     "output_type": "stream",
     "text": [
      "Classification Report:\n",
      "               precision    recall  f1-score   support\n",
      "\n",
      "           0       0.60      1.00      0.75         3\n",
      "           1       1.00      0.33      0.50         3\n",
      "\n",
      "    accuracy                           0.67         6\n",
      "   macro avg       0.80      0.67      0.62         6\n",
      "weighted avg       0.80      0.67      0.62         6\n",
      "\n"
     ]
    }
   ],
   "source": [
    "import numpy as np\n",
    "import matplotlib.pyplot as plt\n",
    "import seaborn as sns\n",
    "from sklearn.metrics import confusion_matrix, classification_report\n",
    "\n",
    "# 模型评估\n",
    "y_pred = svm.predict(X_test)\n",
    "accuracy = accuracy_score(y_test, y_pred)\n",
    "print(\"Accuracy:\", accuracy)\n",
    "\n",
    "# 生成混淆矩阵\n",
    "cm = confusion_matrix(y_test, y_pred)\n",
    "plt.figure(figsize=(8, 6))\n",
    "sns.heatmap(cm, annot=True, cmap='Blues', fmt='d', cbar=False)\n",
    "plt.xlabel('Predicted')\n",
    "plt.ylabel('True')\n",
    "plt.title('Confusion Matrix')\n",
    "plt.show()\n",
    "\n",
    "# 生成分类报告\n",
    "report = classification_report(y_test, y_pred)\n",
    "print(\"Classification Report:\\n\", report)\n"
   ]
  }
 ],
 "metadata": {
  "kernelspec": {
   "display_name": "base",
   "language": "python",
   "name": "python3"
  },
  "language_info": {
   "codemirror_mode": {
    "name": "ipython",
    "version": 3
   },
   "file_extension": ".py",
   "mimetype": "text/x-python",
   "name": "python",
   "nbconvert_exporter": "python",
   "pygments_lexer": "ipython3",
   "version": "3.9.16"
  },
  "orig_nbformat": 4
 },
 "nbformat": 4,
 "nbformat_minor": 2
}
