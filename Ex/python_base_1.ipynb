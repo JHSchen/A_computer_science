{
 "cells": [
  {
   "cell_type": "markdown",
   "id": "ef6ffda8",
   "metadata": {},
   "source": [
    "# Python基础1"
   ]
  },
  {
   "cell_type": "markdown",
   "id": "e0e13c5a",
   "metadata": {},
   "source": [
    "## 01字符串"
   ]
  },
  {
   "cell_type": "code",
   "execution_count": 2,
   "id": "7b8f0437",
   "metadata": {
    "scrolled": true
   },
   "outputs": [
    {
     "name": "stdout",
     "output_type": "stream",
     "text": [
      "<class 'str'>\n"
     ]
    },
    {
     "data": {
      "text/plain": [
       "'g'"
      ]
     },
     "execution_count": 2,
     "metadata": {},
     "output_type": "execute_result"
    }
   ],
   "source": [
    "# 字符串的索引\n",
    "s = 'good morning'\n",
    "# 查看类型 \n",
    "print(type(s))\n",
    "s[0]  # g"
   ]
  },
  {
   "cell_type": "code",
   "execution_count": 3,
   "id": "dbee8f86",
   "metadata": {},
   "outputs": [
    {
     "data": {
      "text/plain": [
       "'n'"
      ]
     },
     "execution_count": 3,
     "metadata": {},
     "output_type": "execute_result"
    }
   ],
   "source": [
    "s[-2]  # n"
   ]
  },
  {
   "cell_type": "markdown",
   "id": "4c962eb5",
   "metadata": {},
   "source": [
    "### 切分操作"
   ]
  },
  {
   "cell_type": "markdown",
   "id": "e67486f2",
   "metadata": {},
   "source": [
    "\n",
    "\n",
    "分片用来从序列中提取出想要的子序列，其用法为：\n",
    "\n",
    "var[lower:upper:step]\n",
    "\n",
    "其范围包括 lower ，但不包括 upper ，即 [lower, upper)，\n",
    "step 表示取值间隔大小，如果没有默认为1。\n"
   ]
  },
  {
   "cell_type": "code",
   "execution_count": 4,
   "id": "00f2acb4",
   "metadata": {},
   "outputs": [
    {
     "data": {
      "text/plain": [
       "'ing'"
      ]
     },
     "execution_count": 4,
     "metadata": {},
     "output_type": "execute_result"
    }
   ],
   "source": [
    "s[-3:]  # ing"
   ]
  },
  {
   "cell_type": "code",
   "execution_count": 14,
   "id": "6f43e920",
   "metadata": {},
   "outputs": [
    {
     "data": {
      "text/plain": [
       "'good morn'"
      ]
     },
     "execution_count": 14,
     "metadata": {},
     "output_type": "execute_result"
    }
   ],
   "source": [
    "s[:-3]  # good morn"
   ]
  },
  {
   "cell_type": "code",
   "execution_count": 5,
   "id": "60c52a0d",
   "metadata": {},
   "outputs": [
    {
     "data": {
      "text/plain": [
       "'good morning'"
      ]
     },
     "execution_count": 5,
     "metadata": {},
     "output_type": "execute_result"
    }
   ],
   "source": [
    "s[:]  # good morning"
   ]
  },
  {
   "cell_type": "markdown",
   "id": "7c437231",
   "metadata": {},
   "source": [
    "其他切分操作"
   ]
  },
  {
   "cell_type": "code",
   "execution_count": 6,
   "id": "5acb399b",
   "metadata": {},
   "outputs": [
    {
     "name": "stdout",
     "output_type": "stream",
     "text": [
      "go onn\n",
      "gninrom doog\n",
      "good morning\n"
     ]
    }
   ],
   "source": [
    "print(s[::2])  # 隔2个取一个元素，go onn\n",
    "print(s[::-1])  # 倒叙排列，gninrom doog\n",
    "print(s[:100])"
   ]
  },
  {
   "cell_type": "markdown",
   "id": "c387b0b4",
   "metadata": {},
   "source": [
    "## 02列表"
   ]
  },
  {
   "cell_type": "markdown",
   "id": "9d853ed0",
   "metadata": {},
   "source": [
    "创建列表"
   ]
  },
  {
   "cell_type": "code",
   "execution_count": 7,
   "id": "95a775a1",
   "metadata": {},
   "outputs": [
    {
     "name": "stdout",
     "output_type": "stream",
     "text": [
      "[]\n",
      "[]\n"
     ]
    }
   ],
   "source": [
    "# 创建一个空列表\n",
    "empty_list = list() # 等同于 empty_list = []\n",
    "empty_list2 = []\n",
    "print(empty_list)  \n",
    "print(empty_list2)"
   ]
  },
  {
   "cell_type": "markdown",
   "id": "1f46b107",
   "metadata": {},
   "source": [
    "查看列表长度："
   ]
  },
  {
   "cell_type": "code",
   "execution_count": 9,
   "id": "c8ec3705",
   "metadata": {},
   "outputs": [
    {
     "name": "stdout",
     "output_type": "stream",
     "text": [
      "[1, 2, 3, 2, 3, 'hello']\n"
     ]
    }
   ],
   "source": [
    "# len 查看列表长度\n",
    "a = [1, 2, 3]\n",
    "b = [2, 3, 'hello']\n",
    "c = a + b\n",
    "print(c) "
   ]
  },
  {
   "cell_type": "code",
   "execution_count": 10,
   "id": "a09328b0",
   "metadata": {},
   "outputs": [
    {
     "data": {
      "text/plain": [
       "6"
      ]
     },
     "execution_count": 10,
     "metadata": {},
     "output_type": "execute_result"
    }
   ],
   "source": [
    "len(c)"
   ]
  },
  {
   "cell_type": "code",
   "execution_count": 11,
   "id": "95da6a21",
   "metadata": {},
   "outputs": [
    {
     "name": "stdout",
     "output_type": "stream",
     "text": [
      "[2, 3, 'hello', 2, 3, 'hello']\n"
     ]
    }
   ],
   "source": [
    "d = b * 2\n",
    "print(d)  # [2, 3, u'hello', 2, 3, u'hello']"
   ]
  },
  {
   "cell_type": "code",
   "execution_count": 12,
   "id": "4b071d93",
   "metadata": {},
   "outputs": [
    {
     "data": {
      "text/plain": [
       "'hello'"
      ]
     },
     "execution_count": 12,
     "metadata": {},
     "output_type": "execute_result"
    }
   ],
   "source": [
    "d[-1]"
   ]
  },
  {
   "cell_type": "markdown",
   "id": "3126b3e6",
   "metadata": {},
   "source": [
    "修改列表"
   ]
  },
  {
   "cell_type": "code",
   "execution_count": 13,
   "id": "37f6d251",
   "metadata": {},
   "outputs": [
    {
     "name": "stdout",
     "output_type": "stream",
     "text": [
      "[1, 2, 3]\n"
     ]
    },
    {
     "data": {
      "text/plain": [
       "[100, 2, 3]"
      ]
     },
     "execution_count": 13,
     "metadata": {},
     "output_type": "execute_result"
    }
   ],
   "source": [
    "print(a)\n",
    "a[0] = 100\n",
    "a"
   ]
  },
  {
   "cell_type": "markdown",
   "id": "b437df67",
   "metadata": {},
   "source": [
    "这种赋值也适用于分片，例如，将列表的第2，3两个元素换掉："
   ]
  },
  {
   "cell_type": "code",
   "execution_count": 14,
   "id": "727cada0",
   "metadata": {},
   "outputs": [
    {
     "name": "stdout",
     "output_type": "stream",
     "text": [
      "[100, 200, 300]\n"
     ]
    }
   ],
   "source": [
    "a[1:3] = [200, 300]\n",
    "print(a)"
   ]
  },
  {
   "cell_type": "markdown",
   "id": "f07ffd1d",
   "metadata": {},
   "source": [
    "事实上，对于连续的分片（即步长为 1 ），Python采用的是整段替换的方法，两者的元素个数并不需要相同，"
   ]
  },
  {
   "cell_type": "code",
   "execution_count": 15,
   "id": "8697f391",
   "metadata": {},
   "outputs": [
    {
     "name": "stdout",
     "output_type": "stream",
     "text": [
      "[10, 1, 2, 3, 4, 13, 14]\n"
     ]
    }
   ],
   "source": [
    "# 例如，将 [11,12] 替换为 [1,2,3,4]：\n",
    "a = [10, 11, 12, 13, 14]\n",
    "a[1:3] = [1, 2, 3, 4]\n",
    "print(a)  # [10, 1, 2, 3, 4, 13, 14]"
   ]
  },
  {
   "cell_type": "markdown",
   "id": "c81bb5be",
   "metadata": {},
   "source": [
    "用这种方法来删除列表中一个连续的分片："
   ]
  },
  {
   "cell_type": "code",
   "execution_count": 16,
   "id": "5e365689",
   "metadata": {},
   "outputs": [
    {
     "name": "stdout",
     "output_type": "stream",
     "text": [
      "[1, 2]\n",
      "[10, 11, 12]\n"
     ]
    }
   ],
   "source": [
    "a = [10, 1, 2, 11, 12]\n",
    "print(a[1:3])\n",
    "a[1:3] = []\n",
    "print(a)"
   ]
  },
  {
   "cell_type": "markdown",
   "id": "a83a97cd",
   "metadata": {},
   "source": [
    "对于不连续（间隔step不为1）的片段进行修改时，两者的元素数目必须一致："
   ]
  },
  {
   "cell_type": "code",
   "execution_count": 17,
   "id": "2c3e4ac5",
   "metadata": {},
   "outputs": [
    {
     "name": "stdout",
     "output_type": "stream",
     "text": [
      "[1, 11, 2, 13, 3]\n"
     ]
    }
   ],
   "source": [
    "a = [10, 11, 12, 13, 14]\n",
    "a[::2] = [1, 2, 3]\n",
    "print(a)  # [1, 11, 2, 13, 3]"
   ]
  },
  {
   "cell_type": "markdown",
   "id": "a35bf05f",
   "metadata": {},
   "source": [
    "Python提供了删除列表中元素的方法 'del':"
   ]
  },
  {
   "cell_type": "code",
   "execution_count": 18,
   "id": "95992d40",
   "metadata": {},
   "outputs": [
    {
     "name": "stdout",
     "output_type": "stream",
     "text": [
      "['a', 'b', 200]\n"
     ]
    }
   ],
   "source": [
    "a = [100, 'a', 'b', 200]\n",
    "del a[0]\n",
    "print(a)  # [u'a', u'b', 200]"
   ]
  },
  {
   "cell_type": "code",
   "execution_count": 19,
   "id": "f5e185cb",
   "metadata": {},
   "outputs": [
    {
     "name": "stdout",
     "output_type": "stream",
     "text": [
      "[1, 2]\n"
     ]
    }
   ],
   "source": [
    "# 删除间隔的元素：\n",
    "a = ['a', 1, 'b', 2, 'c']\n",
    "del a[::2]\n",
    "print(a)  # [1, 2]"
   ]
  },
  {
   "cell_type": "markdown",
   "id": "7efea60b",
   "metadata": {},
   "source": [
    "用 in 来看某个元素是否在某个序列（不仅仅是列表）中， 用not in来判断是否不在某个序列中。"
   ]
  },
  {
   "cell_type": "code",
   "execution_count": 20,
   "id": "42ec6f86",
   "metadata": {},
   "outputs": [
    {
     "name": "stdout",
     "output_type": "stream",
     "text": [
      "True\n",
      "False\n",
      "'he' in s :  True\n",
      "'world' not in s :  False\n"
     ]
    }
   ],
   "source": [
    "a = [1, 2, 3, 4, 5]\n",
    "print(1 in a)\n",
    "print(1 not in a)\n",
    "\n",
    "# 也可以作用于字符串：\n",
    "s = 'hello world'\n",
    "print(\"'he' in s : \", 'he' in s)  # True\n",
    "print(\"'world' not in s : \", 'world' not in s)  # False"
   ]
  },
  {
   "cell_type": "markdown",
   "id": "4755c7dc",
   "metadata": {},
   "source": [
    "列表中可以包含各种对象，甚至可以包含列表："
   ]
  },
  {
   "cell_type": "code",
   "execution_count": 22,
   "id": "c1e74e17",
   "metadata": {},
   "outputs": [
    {
     "name": "stdout",
     "output_type": "stream",
     "text": [
      "[3, 4]\n",
      "4\n"
     ]
    }
   ],
   "source": [
    "a = [1, 2, 'six', [3, 4]]\n",
    "print(a[3])  # [3,4]\n",
    "# a[3]是列表，可以对它再进行索引：\n",
    "print(a[3][1])  # 4"
   ]
  },
  {
   "cell_type": "markdown",
   "id": "aa11d7f7",
   "metadata": {},
   "source": [
    "### 列表方法"
   ]
  },
  {
   "cell_type": "code",
   "execution_count": 23,
   "id": "824b456d",
   "metadata": {
    "scrolled": true
   },
   "outputs": [
    {
     "name": "stdout",
     "output_type": "stream",
     "text": [
      "6\n",
      "2\n",
      "0\n"
     ]
    }
   ],
   "source": [
    "# 列表中某个元素个数\n",
    "a = [1, 1, 2, 3, 4, 5]\n",
    "print(len(a))  # 总个数：6\n",
    "# 元素1出现的个数\n",
    "print(a.count(1))  # 2\n",
    "# l.index(ob) 返回列表中元素 ob 第一次出现的索引位置，如果 ob 不在 l 中会报错。\n",
    "print(a.index(1))  # 0"
   ]
  },
  {
   "cell_type": "markdown",
   "id": "014b806e",
   "metadata": {},
   "source": [
    "列表添加元素"
   ]
  },
  {
   "cell_type": "code",
   "execution_count": 24,
   "id": "4a14f853",
   "metadata": {},
   "outputs": [
    {
     "name": "stdout",
     "output_type": "stream",
     "text": [
      "[1, 1, 2, 3, 4, 5, 10]\n",
      "[1, 1, 2, 3, 4, 5, 10, [11, 12]]\n"
     ]
    }
   ],
   "source": [
    "# 向列表添加单个元素\n",
    "# a.append(ob) 将元素 ob 添加到列表 a 的最后。\n",
    "a = [1, 1, 2, 3, 4, 5]\n",
    "a.append(10)\n",
    "print(a)  # [1, 1, 2, 3, 4, 5, 10]\n",
    "\n",
    "# append每次只添加一个元素，并不会因为这个元素是序列而将其展开：\n",
    "a.append([11, 12])\n",
    "print(a)  # [1, 1, 2, 3, 4, 5, 10, [11, 12]]"
   ]
  },
  {
   "cell_type": "code",
   "execution_count": 25,
   "id": "7e6ca4fd",
   "metadata": {},
   "outputs": [
    {
     "name": "stdout",
     "output_type": "stream",
     "text": [
      "[1, 2, 3, 4, 6, 7, 1]\n",
      "[1, 2, 3, 'a', 4]\n"
     ]
    },
    {
     "data": {
      "text/plain": [
       "[1, 2, 3, 'a', 4]"
      ]
     },
     "execution_count": 25,
     "metadata": {},
     "output_type": "execute_result"
    }
   ],
   "source": [
    "# 向列表添加序列\n",
    "# l.extend(lst) 将序列 lst 的元素依次添加到列表 l 的最后，作用相当于 l += lst。\n",
    "a = [1, 2, 3, 4]\n",
    "a.extend([6, 7, 1])\n",
    "print(a)  # [1, 2, 3, 4, 6, 7, 1]\n",
    "\n",
    "# 插入元素\n",
    "# l.insert(idx, ob) 在索引 idx 处插入 ob ，之后的元素依次后移。\n",
    "a = [1, 2, 3, 4]\n",
    "# 在索引 3 插入 'a'\n",
    "a.insert(3, 'a')\n",
    "print(a)  # [1, 2, 3, u'a', 4]\n",
    "a"
   ]
  },
  {
   "cell_type": "markdown",
   "id": "8dc086aa",
   "metadata": {},
   "source": [
    "移除元素"
   ]
  },
  {
   "cell_type": "code",
   "execution_count": 26,
   "id": "9f88c378",
   "metadata": {},
   "outputs": [
    {
     "name": "stdout",
     "output_type": "stream",
     "text": [
      "[1, 2, 3, 4]\n",
      "pop: 1  ;result: [2, 3, 4]\n"
     ]
    }
   ],
   "source": [
    "# l.remove(ob) 会将列表中第一个出现的 ob 删除，如果 ob 不在 l 中会报错。\n",
    "a = [1, 1, 2, 3, 4]\n",
    "# 移除第一个1\n",
    "a.remove(1)\n",
    "print(a)  # [1, 2, 3, 4]\n",
    "\n",
    "# 弹出元素\n",
    "# l.pop(idx) 会将索引 idx 处的元素删除，并返回这个元素。\n",
    "a = [1, 2, 3, 4]\n",
    "b = a.pop(0)  # 1\n",
    "print('pop:', b, ' ;result:', a)"
   ]
  },
  {
   "cell_type": "markdown",
   "id": "d35f6b21",
   "metadata": {},
   "source": [
    "排序"
   ]
  },
  {
   "cell_type": "code",
   "execution_count": 27,
   "id": "eb54d8bc",
   "metadata": {},
   "outputs": [
    {
     "name": "stdout",
     "output_type": "stream",
     "text": [
      "[1, 2, 10, 11, 11, 13]\n"
     ]
    }
   ],
   "source": [
    "# l.sort() 会将列表中的元素按照一定的规则排序：\n",
    "a = [10, 1, 11, 13, 11, 2]\n",
    "a.sort()\n",
    "print(a)  # [1, 2, 10, 11, 11, 13]"
   ]
  },
  {
   "cell_type": "code",
   "execution_count": 28,
   "id": "04a1a4ca",
   "metadata": {},
   "outputs": [
    {
     "name": "stdout",
     "output_type": "stream",
     "text": [
      "[10, 1, 11, 13, 11, 2]\n",
      "[1, 2, 10, 11, 11, 13]\n",
      "[6, 5, 4, 3, 2, 1]\n"
     ]
    }
   ],
   "source": [
    "# 如果不想改变原来列表中的值，可以使用 sorted 函数：\n",
    "a = [10, 1, 11, 13, 11, 2]\n",
    "b = sorted(a)\n",
    "print(a)  # [10, 1, 11, 13, 11, 2]\n",
    "print(b)  # [1, 2, 10, 11, 11, 13]\n",
    "\n",
    "# 列表反向\n",
    "# list.reverse() 会将列表中的元素从后向前排列。\n",
    "a = [1, 2, 3, 4, 5, 6]\n",
    "a.reverse()\n",
    "print(a)  # [6, 5, 4, 3, 2, 1]"
   ]
  },
  {
   "cell_type": "code",
   "execution_count": 29,
   "id": "a1b55e6c",
   "metadata": {},
   "outputs": [
    {
     "name": "stdout",
     "output_type": "stream",
     "text": [
      "[1, 2, 3, 4, 5, 6]\n",
      "[6, 5, 4, 3, 2, 1]\n"
     ]
    },
    {
     "data": {
      "text/plain": [
       "[1, 2, 3, 4, 5, 6]"
      ]
     },
     "execution_count": 29,
     "metadata": {},
     "output_type": "execute_result"
    }
   ],
   "source": [
    "# 如果不想改变原来列表中的值，可以使用这样的方法：\n",
    "a = [1, 2, 3, 4, 5, 6]\n",
    "b = a[::-1]\n",
    "print(a)\n",
    "print(b)\n",
    "a"
   ]
  },
  {
   "cell_type": "markdown",
   "id": "b4da78b0",
   "metadata": {},
   "source": [
    "如果不清楚用法，可以查看帮助：a.sort? 或者 help(a.sort) 在 Python Console 输入：a=[1,2,3];a.sort?"
   ]
  },
  {
   "cell_type": "code",
   "execution_count": 30,
   "id": "d4daa3d8",
   "metadata": {},
   "outputs": [],
   "source": [
    "a.sort?"
   ]
  },
  {
   "cell_type": "markdown",
   "id": "2843cfea",
   "metadata": {},
   "source": [
    "### 列表vs字符串"
   ]
  },
  {
   "cell_type": "markdown",
   "id": "d3db7b6c",
   "metadata": {},
   "source": [
    "列表是可变的（Mutable）"
   ]
  },
  {
   "cell_type": "code",
   "execution_count": 39,
   "id": "080458af",
   "metadata": {},
   "outputs": [
    {
     "data": {
      "text/plain": [
       "[100, 2, 3, 200, 4]"
      ]
     },
     "execution_count": 39,
     "metadata": {},
     "output_type": "execute_result"
    }
   ],
   "source": [
    "a = [1, 2, 3, 4]\n",
    "a[0] = 100\n",
    "a.insert(3, 200)\n",
    "a  # [100, 2, 3, 200, 4]"
   ]
  },
  {
   "cell_type": "markdown",
   "id": "085d9c21",
   "metadata": {},
   "source": [
    "字符串是不可变的（Immutable）:"
   ]
  },
  {
   "cell_type": "code",
   "execution_count": 35,
   "id": "03e01dad",
   "metadata": {},
   "outputs": [
    {
     "ename": "TypeError",
     "evalue": "'str' object does not support item assignment",
     "output_type": "error",
     "traceback": [
      "\u001b[1;31m---------------------------------------------------------------------------\u001b[0m",
      "\u001b[1;31mTypeError\u001b[0m                                 Traceback (most recent call last)",
      "\u001b[1;32m~\\AppData\\Local\\Temp/ipykernel_21656/4170209838.py\u001b[0m in \u001b[0;36m<module>\u001b[1;34m\u001b[0m\n\u001b[0;32m      2\u001b[0m \u001b[1;33m\u001b[0m\u001b[0m\n\u001b[0;32m      3\u001b[0m \u001b[1;31m# 通过索引改变会报错\u001b[0m\u001b[1;33m\u001b[0m\u001b[1;33m\u001b[0m\u001b[0m\n\u001b[1;32m----> 4\u001b[1;33m \u001b[0ms\u001b[0m\u001b[1;33m[\u001b[0m\u001b[1;36m0\u001b[0m\u001b[1;33m]\u001b[0m \u001b[1;33m=\u001b[0m \u001b[1;34m'k'\u001b[0m\u001b[1;33m\u001b[0m\u001b[1;33m\u001b[0m\u001b[0m\n\u001b[0m",
      "\u001b[1;31mTypeError\u001b[0m: 'str' object does not support item assignment"
     ]
    }
   ],
   "source": [
    "s = \"hello world\"\n",
    "\n",
    "# 通过索引改变会报错\n",
    "s[0] = 'k'"
   ]
  },
  {
   "cell_type": "code",
   "execution_count": 36,
   "id": "0b1b491c",
   "metadata": {},
   "outputs": [
    {
     "ename": "AttributeError",
     "evalue": "'str' object has no attribute 'insert'",
     "output_type": "error",
     "traceback": [
      "\u001b[1;31m---------------------------------------------------------------------------\u001b[0m",
      "\u001b[1;31mAttributeError\u001b[0m                            Traceback (most recent call last)",
      "\u001b[1;32m~\\AppData\\Local\\Temp/ipykernel_21656/4167226193.py\u001b[0m in \u001b[0;36m<module>\u001b[1;34m\u001b[0m\n\u001b[1;32m----> 1\u001b[1;33m \u001b[0ms\u001b[0m\u001b[1;33m.\u001b[0m\u001b[0minsert\u001b[0m\u001b[1;33m(\u001b[0m\u001b[1;36m3\u001b[0m\u001b[1;33m,\u001b[0m \u001b[1;34m'm'\u001b[0m\u001b[1;33m)\u001b[0m\u001b[1;33m\u001b[0m\u001b[1;33m\u001b[0m\u001b[0m\n\u001b[0m",
      "\u001b[1;31mAttributeError\u001b[0m: 'str' object has no attribute 'insert'"
     ]
    }
   ],
   "source": [
    "s.insert(3, 'm')"
   ]
  },
  {
   "cell_type": "markdown",
   "id": "6d52a0ff",
   "metadata": {},
   "source": [
    "字符串方法只是返回一个新字符串，并不改变原来的值："
   ]
  },
  {
   "cell_type": "code",
   "execution_count": 37,
   "id": "0724df21",
   "metadata": {},
   "outputs": [
    {
     "name": "stdout",
     "output_type": "stream",
     "text": [
      "hello Mars\n",
      "hello world\n",
      "hello Moon\n"
     ]
    }
   ],
   "source": [
    "print(s.replace('world', 'Mars'))  # hello Mars\n",
    "print(s)  # hello world\n",
    "\n",
    "# 如果想改变字符串的值，可以用重新赋值的方法：\n",
    "s = s.replace('world', 'Moon')\n",
    "print(s)  # hello Moon"
   ]
  },
  {
   "cell_type": "markdown",
   "id": "630f87fd",
   "metadata": {},
   "source": [
    "注意    \n",
    "1.可变数据类型: list, dictionary, set, numpy array, user defined objects    \n",
    "2.不可变数据类型: integer, float, long, complex, string, tuple, frozenset，强调下 tuple 是不可变的"
   ]
  },
  {
   "cell_type": "markdown",
   "id": "384efb48",
   "metadata": {},
   "source": [
    "## 03元组Tuple"
   ]
  },
  {
   "cell_type": "markdown",
   "id": "efafb49e",
   "metadata": {},
   "source": [
    "与列表相似，元组tuple也是个有序序列，但是元组是不可变的，用()生成。"
   ]
  },
  {
   "cell_type": "code",
   "execution_count": 38,
   "id": "a408dc07",
   "metadata": {},
   "outputs": [
    {
     "name": "stdout",
     "output_type": "stream",
     "text": [
      "(10, 11, 12, 13, 14)\n",
      "10\n",
      "(11, 12)\n"
     ]
    },
    {
     "data": {
      "text/plain": [
       "(11, 12)"
      ]
     },
     "execution_count": 38,
     "metadata": {},
     "output_type": "execute_result"
    }
   ],
   "source": [
    "a = (10, 11, 12, 13, 14) #用小括号定义的是元组 tuple\n",
    "print(a)\n",
    "\n",
    "# 可以索引，切片：\n",
    "c = a[0]\n",
    "print(c)\n",
    "\n",
    "c = a[1:3]\n",
    "print(c)  # (11, 12)\n",
    "c"
   ]
  },
  {
   "cell_type": "markdown",
   "id": "d8397237",
   "metadata": {},
   "source": [
    "单个元素的元组生成\n",
    "\n",
    "采用下列方式定义只有一个元素的元组："
   ]
  },
  {
   "cell_type": "code",
   "execution_count": 39,
   "id": "3dd3e1f5",
   "metadata": {},
   "outputs": [
    {
     "name": "stdout",
     "output_type": "stream",
     "text": [
      "(10,)\n",
      "<class 'tuple'>\n"
     ]
    }
   ],
   "source": [
    "a = (10,)\n",
    "print(a)\n",
    "print(type(a))  # <type 'tuple'>"
   ]
  },
  {
   "cell_type": "code",
   "execution_count": 40,
   "id": "88d5493c",
   "metadata": {},
   "outputs": [
    {
     "name": "stdout",
     "output_type": "stream",
     "text": [
      "(1, 2, 3)\n"
     ]
    }
   ],
   "source": [
    "a = [1, 2, 3]\n",
    "b = tuple(a)\n",
    "print(b)  # (1, 2, 3)"
   ]
  },
  {
   "cell_type": "markdown",
   "id": "c8c01986",
   "metadata": {},
   "source": [
    "由于元组是不可变的，所以只能有一些不可变的方法，\n",
    "\n",
    "例如计算元素个数 count 和元素位置 index ，用法与列表一样。"
   ]
  },
  {
   "cell_type": "code",
   "execution_count": 41,
   "id": "4fff565c",
   "metadata": {},
   "outputs": [
    {
     "name": "stdout",
     "output_type": "stream",
     "text": [
      "1\n",
      "2\n"
     ]
    }
   ],
   "source": [
    "c = a.count(1)\n",
    "print(c)  # 1\n",
    "\n",
    "c = a.index(3)\n",
    "print(c)  # 索引位置为：2"
   ]
  },
  {
   "cell_type": "markdown",
   "id": "dd982c58",
   "metadata": {},
   "source": [
    "## 04字典dict"
   ]
  },
  {
   "cell_type": "markdown",
   "id": "a383c9ad",
   "metadata": {},
   "source": [
    "字典 dictionary ，在一些编程语言中也称为 hash ， map ， 是一种由键值对组成的数据结构。"
   ]
  },
  {
   "cell_type": "code",
   "execution_count": 42,
   "id": "7e9e8e0a",
   "metadata": {},
   "outputs": [
    {
     "name": "stdout",
     "output_type": "stream",
     "text": [
      "<class 'dict'>\n",
      "<class 'dict'>\n"
     ]
    }
   ],
   "source": [
    "a = {} # 创建一个空字典\n",
    "print(type(a))  # <type 'dict'>\n",
    "a = dict() # 另一种创建字典的方式\n",
    "print(type(a))"
   ]
  },
  {
   "cell_type": "markdown",
   "id": "36a6db8c",
   "metadata": {},
   "source": [
    "操作dict"
   ]
  },
  {
   "cell_type": "code",
   "execution_count": 43,
   "id": "54887166",
   "metadata": {},
   "outputs": [
    {
     "name": "stdout",
     "output_type": "stream",
     "text": [
      "{'f': 'num 1', 's': 'num 2'}\n"
     ]
    }
   ],
   "source": [
    "# 插入键值\n",
    "a['f'] = 'num 1'\n",
    "a['s'] = 'num 2'\n",
    "print(a)  # {u's': u'num 2', u'f': u'num 1'}"
   ]
  },
  {
   "cell_type": "code",
   "execution_count": 44,
   "id": "4e1bc91f",
   "metadata": {},
   "outputs": [
    {
     "name": "stdout",
     "output_type": "stream",
     "text": [
      "num 2\n"
     ]
    }
   ],
   "source": [
    "# 查看键值\n",
    "print(a['s'])  # num 2"
   ]
  },
  {
   "cell_type": "code",
   "execution_count": 45,
   "id": "f9c8b8cb",
   "metadata": {},
   "outputs": [
    {
     "name": "stdout",
     "output_type": "stream",
     "text": [
      "{'f': 'num 3', 's': 'num 2'}\n"
     ]
    }
   ],
   "source": [
    "# 更新\n",
    "a['f'] = 'num 3'\n",
    "print(a)  # {u's': u'num 2', u'f': u'num 3'}"
   ]
  },
  {
   "cell_type": "code",
   "execution_count": 51,
   "id": "98f6011d",
   "metadata": {},
   "outputs": [
    {
     "name": "stdout",
     "output_type": "stream",
     "text": [
      "num 1\n",
      "num 3\n"
     ]
    }
   ],
   "source": [
    "# 初始化字典\n",
    "a = {'first': 'num 1', 'second': 'num 2', 3: 'num 3'}\n",
    "print(a['first'])  # num 1\n",
    "print(a[3])  # num 3"
   ]
  },
  {
   "cell_type": "markdown",
   "id": "7b5ef2f0",
   "metadata": {},
   "source": [
    "Python中不能用支持用数字索引按顺序查看字典中的值， 而且数字本身也有可能成为键值，这样会引起混淆:\n",
    "\n",
    "a[0] 会报错"
   ]
  },
  {
   "cell_type": "markdown",
   "id": "8670045c",
   "metadata": {},
   "source": [
    "### dict的应用示例"
   ]
  },
  {
   "cell_type": "code",
   "execution_count": 52,
   "id": "38d04990",
   "metadata": {},
   "outputs": [
    {
     "name": "stdout",
     "output_type": "stream",
     "text": [
      "{500: {'mag': 0.05, 'width': 20}, 760: {'mag': 0.04, 'width': 25}, 3001: {'mag': 0.05, 'width': 80}, 4180: {'mag': 0.03, 'width': 30}}\n"
     ]
    }
   ],
   "source": [
    "# 定义四个字典\n",
    "e1 = {'mag': 0.05, 'width': 20}\n",
    "e2 = {'mag': 0.04, 'width': 25}\n",
    "e3 = {'mag': 0.05, 'width': 80}\n",
    "e4 = {'mag': 0.03, 'width': 30}\n",
    "\n",
    "# 以字典作为值传入新的字典\n",
    "events = {500: e1, 760: e2, 3001: e3, 4180: e4}\n",
    "# {760: {u'width': 25, u'mag': 0.04},\n",
    "# 3001: {u'width': 80, u'mag': 0.05},\n",
    "# 500: {u'width': 20, u'mag': 0.05},\n",
    "# 4180: {u'width': 30, u'mag': 0.03}}\n",
    "print(events)"
   ]
  },
  {
   "cell_type": "code",
   "execution_count": 53,
   "id": "676dc6a7",
   "metadata": {},
   "outputs": [
    {
     "name": "stdout",
     "output_type": "stream",
     "text": [
      "[{'first': 'Sam', 'last': 'Malone', 'name': 35}, {'first': 'Woody', 'last': 'Boyd', 'name': 21}, {'first': 'Norm', 'last': 'Peterson', 'name': 34}, {'first': 'Diane', 'last': 'Chambers', 'name': 33}]\n"
     ]
    }
   ],
   "source": [
    "# 另一个例子\n",
    "people = [\n",
    "    {'first': 'Sam', 'last': 'Malone', 'name': 35},\n",
    "    {'first': 'Woody', 'last': 'Boyd', 'name': 21},\n",
    "    {'first': 'Norm', 'last': 'Peterson', 'name': 34},\n",
    "    {'first': 'Diane', 'last': 'Chambers', 'name': 33}\n",
    "]\n",
    "# [{'first': 'Sam', 'last': 'Malone', 'name': 35},\n",
    "#  {'first': 'Woody', 'last': 'Boyd', 'name': 21},\n",
    "#  {'first': 'Norm', 'last': 'Peterson', 'name': 34},\n",
    "#  {'first': 'Diane', 'last': 'Chambers', 'name': 33}]\n",
    "print(people)"
   ]
  },
  {
   "cell_type": "markdown",
   "id": "b0326ddc",
   "metadata": {},
   "source": [
    "使用 dict 初始化字典："
   ]
  },
  {
   "cell_type": "code",
   "execution_count": 54,
   "id": "0300931c",
   "metadata": {},
   "outputs": [
    {
     "name": "stdout",
     "output_type": "stream",
     "text": [
      "{'name': 'lili', 'sex': 'female', 'age': 32, 'address': 'beijing'}\n"
     ]
    }
   ],
   "source": [
    "# 除了通常的定义方式，还可以通过 dict() 转化来生成字典：\n",
    "my_dict = dict([('name', 'lili'),\n",
    "                ('sex', 'female'),\n",
    "                ('age', 32),\n",
    "                ('address', 'beijing')])\n",
    "# {u'age': 32,\n",
    "# u'address': u'beijing',\n",
    "# u'name': u'lili',\n",
    "# u'sex': u'female'}\n",
    "print(my_dict)"
   ]
  },
  {
   "cell_type": "markdown",
   "id": "fe650206",
   "metadata": {},
   "source": [
    "利用索引直接更新键值对："
   ]
  },
  {
   "cell_type": "code",
   "execution_count": 55,
   "id": "2b6429f1",
   "metadata": {},
   "outputs": [
    {
     "name": "stdout",
     "output_type": "stream",
     "text": [
      "{'name': 'lili', 'sex': 'female', 'age': 33, 'address': 'beijing'}\n"
     ]
    }
   ],
   "source": [
    "my_dict['age'] += 1\n",
    "print(my_dict)  # u'age': 33"
   ]
  },
  {
   "cell_type": "markdown",
   "id": "2663efd8",
   "metadata": {},
   "source": [
    "dict可以使用元组作为键值："
   ]
  },
  {
   "cell_type": "code",
   "execution_count": 56,
   "id": "7a5a4e0e",
   "metadata": {},
   "outputs": [
    {
     "data": {
      "text/plain": [
       "{('New York', 'Seattle'): 100,\n",
       " ('Austin', 'New York'): 200,\n",
       " ('New York', 'Austin'): 400}"
      ]
     },
     "execution_count": 56,
     "metadata": {},
     "output_type": "execute_result"
    }
   ],
   "source": [
    "# 例如，可以用元组做键来表示从第一个城市飞往第二个城市航班数的多少：\n",
    "connections = {}\n",
    "connections[('New York', 'Seattle')] = 100\n",
    "connections[('Austin', 'New York')] = 200\n",
    "connections[('New York', 'Austin')] = 400\n",
    "connections"
   ]
  },
  {
   "cell_type": "code",
   "execution_count": 57,
   "id": "ac87a9f7",
   "metadata": {},
   "outputs": [
    {
     "name": "stdout",
     "output_type": "stream",
     "text": [
      "200\n",
      "400\n"
     ]
    }
   ],
   "source": [
    "# 元组是有序的，\n",
    "# 因此 ('New York', 'Austin') 和 ('Austin', 'New York') 是两个不同的键：\n",
    "print(connections[('Austin', 'New York')])  # 200\n",
    "print(connections[('New York', 'Austin')])  # 400"
   ]
  },
  {
   "cell_type": "markdown",
   "id": "14fee47c",
   "metadata": {},
   "source": [
    "### 字典方法"
   ]
  },
  {
   "cell_type": "markdown",
   "id": "a0ba60c4",
   "metadata": {},
   "source": [
    "get 方法 : d.get(key, default = None)\n",
    "\n",
    "之前已经见过，用索引可以找到一个键对应的值， 但是当字典中没有这个键的时候，Python会报错"
   ]
  },
  {
   "cell_type": "code",
   "execution_count": 58,
   "id": "8612c6e6",
   "metadata": {},
   "outputs": [
    {
     "name": "stdout",
     "output_type": "stream",
     "text": [
      "None\n"
     ]
    }
   ],
   "source": [
    "a = {'first': 'num 1', 'second': 'num 2'}\n",
    "# error:\n",
    "# print(a['third'])\n",
    "\n",
    "# get 返回字典中键 key 对应的值，\n",
    "# 如果没有这个键，返回 default 指定的值（默认是 None ）。\n",
    "print(a.get('third'))  # None"
   ]
  },
  {
   "cell_type": "code",
   "execution_count": 59,
   "id": "14f523fa",
   "metadata": {},
   "outputs": [
    {
     "data": {
      "text/plain": [
       "'num 0'"
      ]
     },
     "execution_count": 59,
     "metadata": {},
     "output_type": "execute_result"
    }
   ],
   "source": [
    "# 指定默认值参数：\n",
    "b = a.get(\"three\", \"num 0\")\n",
    "b  # num 0"
   ]
  },
  {
   "cell_type": "markdown",
   "id": "af1001f6",
   "metadata": {},
   "source": [
    "pop 方法删除元素\n",
    "pop 方法可以用来弹出字典中某个键对应的值，同时也可以指定默认参数：\n",
    "\n",
    "d.pop(key, default = None)"
   ]
  },
  {
   "cell_type": "markdown",
   "id": "5dea6109",
   "metadata": {},
   "source": [
    "a = {'first': 'num 1', 'second': 'num 2'}\n",
    "c = a.pop('first')\n",
    "print(c)  # num 1\n",
    "print(a)  # {u'second': u'num 2'}"
   ]
  },
  {
   "cell_type": "code",
   "execution_count": 60,
   "id": "ae6ecd28",
   "metadata": {},
   "outputs": [
    {
     "name": "stdout",
     "output_type": "stream",
     "text": [
      "not exist\n"
     ]
    }
   ],
   "source": [
    "# 弹出不存在的键值：\n",
    "d = a.pop(\"third\", 'not exist')\n",
    "print(d)  # not exist"
   ]
  },
  {
   "cell_type": "code",
   "execution_count": 61,
   "id": "04af0226",
   "metadata": {},
   "outputs": [
    {
     "name": "stdout",
     "output_type": "stream",
     "text": [
      "{'second': 'num 2'}\n"
     ]
    }
   ],
   "source": [
    "# 与列表一样，del 函数可以用来删除字典中特定的键值对，例如：\n",
    "a = {'first': 'num 1', 'second': 'num 2'}\n",
    "del a[\"first\"]\n",
    "print(a)  # {u'second': u'num 2'}"
   ]
  },
  {
   "cell_type": "markdown",
   "id": "9f0f7a9c",
   "metadata": {},
   "source": [
    "### update方法更新字典\n",
    "之前已经知道，可以通过索引来插入、修改单个键值对， 但是如果想对多个键值对进行操作，这种方法就显得比较麻烦，好在有 update 方法："
   ]
  },
  {
   "cell_type": "code",
   "execution_count": 62,
   "id": "b6b24b92",
   "metadata": {},
   "outputs": [
    {
     "name": "stdout",
     "output_type": "stream",
     "text": [
      "{'name': 'lucy', 'sex': 'female', 'age': 32, 'address': 'beijing', 'marriage': 'single'}\n"
     ]
    }
   ],
   "source": [
    "my_dict = dict([('name', 'lili'),\n",
    "                ('sex', 'female'),\n",
    "                ('age', 32),\n",
    "                ('address', 'beijing')])\n",
    "# 把 ‘lili' 改成 'lucy'，同时插入 'single' 到 'marriage'\n",
    "dict_update = {'name': 'lucy', 'marriage': 'single'}\n",
    "my_dict.update(dict_update)\n",
    "print(my_dict)"
   ]
  },
  {
   "cell_type": "code",
   "execution_count": 63,
   "id": "ad1c6b99",
   "metadata": {},
   "outputs": [
    {
     "name": "stdout",
     "output_type": "stream",
     "text": [
      "{'address': 'beijing',\n",
      " 'age': 32,\n",
      " 'marriage': 'single',\n",
      " 'name': 'lucy',\n",
      " 'sex': 'female'}\n"
     ]
    }
   ],
   "source": [
    "import pprint\n",
    "# {u'marriage': u'single',\n",
    "# u'name': u'lucy',\n",
    "# u'address': u'beijing',\n",
    "# u'age': 32,\n",
    "# u'sex': u'female'}\n",
    "pprint.pprint(my_dict)  # 华丽丽的显示方式"
   ]
  },
  {
   "cell_type": "code",
   "execution_count": 64,
   "id": "079a6398",
   "metadata": {},
   "outputs": [
    {
     "data": {
      "text/plain": [
       "{'name': 'lucy',\n",
       " 'sex': 'female',\n",
       " 'age': 32,\n",
       " 'address': 'beijing',\n",
       " 'marriage': 'single'}"
      ]
     },
     "execution_count": 64,
     "metadata": {},
     "output_type": "execute_result"
    }
   ],
   "source": [
    "my_dict # ipython的dict显示跟pprint的格式一样华丽"
   ]
  },
  {
   "cell_type": "markdown",
   "id": "849bd27d",
   "metadata": {},
   "source": [
    "通过关键词 in 查询字典中是否有该键："
   ]
  },
  {
   "cell_type": "code",
   "execution_count": 65,
   "id": "d36d04f9",
   "metadata": {},
   "outputs": [
    {
     "name": "stdout",
     "output_type": "stream",
     "text": [
      "False\n",
      "True\n"
     ]
    }
   ],
   "source": [
    "barn = {'cows': 1, 'dogs': 5, 'cats': 3}\n",
    "# in 可以用来判断字典中是否有某个特定的键：\n",
    "print('chickens' in barn)  # False\n",
    "print('cows' in barn)  # True"
   ]
  },
  {
   "cell_type": "markdown",
   "id": "a11eb78a",
   "metadata": {},
   "source": [
    "keys 方法，values 方法和items 方法  \n",
    "`d.keys()` 返回一个由所有键组成的列表；  \n",
    "`d.values()` 返回一个由所有值组成的列表；  \n",
    "`d.items() `返回一个由所有键值对元组组成的列表；"
   ]
  },
  {
   "cell_type": "code",
   "execution_count": 66,
   "id": "7435832d",
   "metadata": {},
   "outputs": [
    {
     "name": "stdout",
     "output_type": "stream",
     "text": [
      "dict_keys(['cows', 'dogs', 'cats'])\n",
      "dict_values([1, 5, 3])\n",
      "dict_items([('cows', 1), ('dogs', 5), ('cats', 3)])\n"
     ]
    }
   ],
   "source": [
    "print(barn.keys())  # [u'cows', u'cats', u'dogs']\n",
    "print(barn.values())  # [1, 3, 5]\n",
    "print(barn.items())  # [(u'cows', 1), (u'cats', 3), (u'dogs', 5)]"
   ]
  },
  {
   "cell_type": "code",
   "execution_count": 67,
   "id": "5ba66f1c",
   "metadata": {},
   "outputs": [
    {
     "name": "stdout",
     "output_type": "stream",
     "text": [
      "cows 1\n",
      "dogs 5\n",
      "cats 3\n"
     ]
    }
   ],
   "source": [
    "for key, val in barn.items():\n",
    "    print(key, val)\n",
    "    # cows 1\n",
    "    # cats 3\n",
    "    # dogs 5"
   ]
  },
  {
   "cell_type": "markdown",
   "id": "985f9de4",
   "metadata": {},
   "source": [
    "## 05集合set"
   ]
  },
  {
   "cell_type": "markdown",
   "id": "068858d6",
   "metadata": {},
   "source": [
    "列表和字符串都是一种有序序列，而集合 set 是一种无序的序列。\n",
    "\n",
    "因为集合是无序的，所以当集合中存在两个同样的元素的时候，只会保存其中的一个（唯一性）； 同时为了确保其中不包含同样的元素，集合中放入的元素只能是不可变的对象（确定性）。"
   ]
  },
  {
   "cell_type": "markdown",
   "id": "5cba1340",
   "metadata": {},
   "source": [
    "### 创建集合"
   ]
  },
  {
   "cell_type": "code",
   "execution_count": 68,
   "id": "890609de",
   "metadata": {},
   "outputs": [
    {
     "name": "stdout",
     "output_type": "stream",
     "text": [
      "set()\n",
      "<class 'set'>\n"
     ]
    }
   ],
   "source": [
    "# 可以用set()函数来显示的生成空集合：\n",
    "a = set()\n",
    "print(a)\n",
    "print(type(a))"
   ]
  },
  {
   "cell_type": "code",
   "execution_count": 69,
   "id": "3b660cb8",
   "metadata": {},
   "outputs": [
    {
     "data": {
      "text/plain": [
       "{1, 2, 3}"
      ]
     },
     "execution_count": 69,
     "metadata": {},
     "output_type": "execute_result"
    }
   ],
   "source": [
    "# 使用一个列表来初始化一个集合：\n",
    "a = set([1, 2, 3, 1])\n",
    "a  # 集合会自动去除重复元素 1。"
   ]
  },
  {
   "cell_type": "code",
   "execution_count": 70,
   "id": "9f7b0a15",
   "metadata": {},
   "outputs": [
    {
     "name": "stdout",
     "output_type": "stream",
     "text": [
      "{1, 2, 3}\n"
     ]
    }
   ],
   "source": [
    "# 集合中的元素是用大括号{}包含起来的，这意味着可以用{}的形式来创建集合：\n",
    "a = {1, 2, 3, 1}\n",
    "print(a)  # {1, 2, 3}"
   ]
  },
  {
   "cell_type": "code",
   "execution_count": 71,
   "id": "06fa97a6",
   "metadata": {},
   "outputs": [
    {
     "name": "stdout",
     "output_type": "stream",
     "text": [
      "<class 'dict'>\n"
     ]
    }
   ],
   "source": [
    "# 但是创建空集合的时候只能用set来创建，因为在Python中{}创建的是一个空的字典：\n",
    "s = {}\n",
    "print(type(s))  # <type 'dict'>"
   ]
  },
  {
   "cell_type": "markdown",
   "id": "687f3f10",
   "metadata": {},
   "source": [
    "### 集合操作"
   ]
  },
  {
   "cell_type": "code",
   "execution_count": 72,
   "id": "c5b6730b",
   "metadata": {},
   "outputs": [],
   "source": [
    "a = {1, 2, 3, 4}\n",
    "b = {2, 3, 4, 5}"
   ]
  },
  {
   "cell_type": "markdown",
   "id": "ac74181a",
   "metadata": {},
   "source": [
    "并     \n",
    "\n",
    "两个集合的并，返回包含两个集合所有元素的集合（去除重复）。 可以用方法 `a.union(b)` 或者操作 `a | b `实现。"
   ]
  },
  {
   "cell_type": "code",
   "execution_count": 73,
   "id": "5b1c1139",
   "metadata": {},
   "outputs": [
    {
     "name": "stdout",
     "output_type": "stream",
     "text": [
      "{1, 2, 3, 4, 5}\n",
      "{1, 2, 3, 4, 5}\n"
     ]
    }
   ],
   "source": [
    "c = a.union(b)\n",
    "print(c)  # {1, 2, 3, 4, 5, 6}\n",
    "\n",
    "# 操作 a | b 实现\n",
    "d = a | b\n",
    "print(c)"
   ]
  },
  {
   "cell_type": "code",
   "execution_count": 74,
   "id": "cfc8a630",
   "metadata": {},
   "outputs": [
    {
     "data": {
      "text/plain": [
       "True"
      ]
     },
     "execution_count": 74,
     "metadata": {},
     "output_type": "execute_result"
    }
   ],
   "source": [
    "c == d"
   ]
  },
  {
   "cell_type": "markdown",
   "id": "7ce99866",
   "metadata": {},
   "source": [
    "交\n",
    "\n",
    "两个集合的交，返回包含两个集合共有元素的集合。    \n",
    "可以用方法 `a.intersection(b)` 或者操作 `a & b` 实现。"
   ]
  },
  {
   "cell_type": "code",
   "execution_count": 75,
   "id": "2d4aae63",
   "metadata": {},
   "outputs": [
    {
     "name": "stdout",
     "output_type": "stream",
     "text": [
      "{2, 3, 4}\n",
      "{2, 3, 4}\n"
     ]
    },
    {
     "data": {
      "text/plain": [
       "True"
      ]
     },
     "execution_count": 75,
     "metadata": {},
     "output_type": "execute_result"
    }
   ],
   "source": [
    "c = a.intersection(b)\n",
    "print(c)  # set([2, 3, 4])\n",
    "\n",
    "d = a & b\n",
    "print(d)\n",
    "\n",
    "c == d"
   ]
  },
  {
   "cell_type": "markdown",
   "id": "552338e8",
   "metadata": {},
   "source": [
    "差\n",
    "\n",
    "a 和 b 的差集，返回只在 a 不在 b 的元素组成的集合。   \n",
    "可以用方法 `a.difference(b)` 或者操作 a - b 实现。"
   ]
  },
  {
   "cell_type": "code",
   "execution_count": 76,
   "id": "b9e89fbf",
   "metadata": {},
   "outputs": [
    {
     "name": "stdout",
     "output_type": "stream",
     "text": [
      "{1}\n",
      "{1}\n"
     ]
    }
   ],
   "source": [
    "c = a.difference(b)\n",
    "print(c)  # set([1])\n",
    "d = a - b\n",
    "print(d)"
   ]
  },
  {
   "cell_type": "markdown",
   "id": "1c6d6b76",
   "metadata": {},
   "source": [
    "对称差\n",
    "\n",
    "a 和b 的对称差集，返回在 a 或在 b 中，但是不同时在 a 和 b 中的元素组成的集合。    \n",
    "可以用方法 `a.symmetric_difference(b) `或者操作 `a ^ b `实现（异或操作符）。"
   ]
  },
  {
   "cell_type": "code",
   "execution_count": 77,
   "id": "ebc02829",
   "metadata": {},
   "outputs": [
    {
     "name": "stdout",
     "output_type": "stream",
     "text": [
      "{1, 5}\n",
      "{1, 5}\n"
     ]
    }
   ],
   "source": [
    "c = a.symmetric_difference(b)\n",
    "print(c)  # set([1, 5])\n",
    "\n",
    "d = a ^ b\n",
    "print(d)"
   ]
  },
  {
   "cell_type": "markdown",
   "id": "4467a406",
   "metadata": {},
   "source": [
    "包含关系   \n",
    "要判断 b 是不是 a 的子集，可以用 `b.issubset(a) `方法， 或者更简单的用操作` b <= a` ："
   ]
  },
  {
   "cell_type": "code",
   "execution_count": 78,
   "id": "b46fd7ce",
   "metadata": {},
   "outputs": [
    {
     "name": "stdout",
     "output_type": "stream",
     "text": [
      "True\n",
      "True\n"
     ]
    }
   ],
   "source": [
    "a = {1, 2, 3}\n",
    "b = {1, 2}\n",
    "\n",
    "c = b.issubset(a)\n",
    "print(c)  # True\n",
    "\n",
    "d = (b <= a)\n",
    "print(d)"
   ]
  },
  {
   "cell_type": "markdown",
   "id": "2bd74861",
   "metadata": {},
   "source": [
    "也可以用 `a.issuperset(b) `或者 `a >= b` 来判断："
   ]
  },
  {
   "cell_type": "code",
   "execution_count": 79,
   "id": "0ad0c922",
   "metadata": {},
   "outputs": [
    {
     "name": "stdout",
     "output_type": "stream",
     "text": [
      "True\n"
     ]
    }
   ],
   "source": [
    "print(a >= b)"
   ]
  },
  {
   "cell_type": "markdown",
   "id": "f2917527",
   "metadata": {},
   "source": [
    "方法只能用来测试子集，但是操作符可以用来判断真子集："
   ]
  },
  {
   "cell_type": "code",
   "execution_count": 80,
   "id": "53a2b7e4",
   "metadata": {},
   "outputs": [
    {
     "name": "stdout",
     "output_type": "stream",
     "text": [
      "False\n",
      "True\n"
     ]
    }
   ],
   "source": [
    "print(a < a)  # False\n",
    "print(a <= a)  # True"
   ]
  },
  {
   "cell_type": "markdown",
   "id": "6860ad6e",
   "metadata": {},
   "source": [
    "### 集合方法"
   ]
  },
  {
   "cell_type": "markdown",
   "id": "147c1933",
   "metadata": {},
   "source": [
    "add 方法向集合添加单个元素   \n",
    "跟列表的 append 方法类似，用来向集合添加单个元素。\n",
    "\n",
    "`s.add(a)` 将元素 a 加入集合 s 中。"
   ]
  },
  {
   "cell_type": "code",
   "execution_count": 81,
   "id": "29116389",
   "metadata": {},
   "outputs": [
    {
     "name": "stdout",
     "output_type": "stream",
     "text": [
      "{1, 3, 4}\n",
      "{1, 3, 4, 5}\n"
     ]
    }
   ],
   "source": [
    "s = {1, 3, 4}\n",
    "s.add(4)\n",
    "print(s)  # set([1, 3, 4])\n",
    "\n",
    "s.add(5)\n",
    "print(s)  # set([1, 3, 4, 5])"
   ]
  },
  {
   "cell_type": "markdown",
   "id": "f0a46198",
   "metadata": {},
   "source": [
    "### update 方法  \n",
    "向集合添加多个元素    \n",
    "跟列表的extend方法类似，用来向集合添加多个元素。\n",
    "\n",
    "`s.update(seq)`"
   ]
  },
  {
   "cell_type": "code",
   "execution_count": 82,
   "id": "55e26a99",
   "metadata": {},
   "outputs": [
    {
     "name": "stdout",
     "output_type": "stream",
     "text": [
      "{1, 3, 4, 5, 10, 11, 12}\n"
     ]
    }
   ],
   "source": [
    "s.update([10, 11, 12])\n",
    "print(s)  # set([1, 3, 4, 5, 10, 11, 12])"
   ]
  },
  {
   "cell_type": "code",
   "execution_count": 83,
   "id": "44d48d78",
   "metadata": {},
   "outputs": [
    {
     "name": "stdout",
     "output_type": "stream",
     "text": [
      "{3, 4}\n"
     ]
    }
   ],
   "source": [
    "# remove 方法移除单个元素\n",
    "s = {1, 3, 4}\n",
    "s.remove(1)\n",
    "print(s)  # set([3, 4])"
   ]
  },
  {
   "cell_type": "markdown",
   "id": "9db9c893",
   "metadata": {},
   "source": [
    "### pop 方法弹出元素    \n",
    "由于集合没有顺序，不能像列表一样按照位置弹出元素，\n",
    "\n",
    "所以 pop 方法删除并返回集合中任意一个元素，如果集合中没有元素会报错。"
   ]
  },
  {
   "cell_type": "code",
   "execution_count": 84,
   "id": "ac3dfb39",
   "metadata": {},
   "outputs": [
    {
     "name": "stdout",
     "output_type": "stream",
     "text": [
      "{3, 4} 1\n"
     ]
    }
   ],
   "source": [
    "s = {1, 3, 4}\n",
    "d = s.pop()\n",
    "print(s, d)"
   ]
  },
  {
   "cell_type": "code",
   "execution_count": 85,
   "id": "b5852c76",
   "metadata": {},
   "outputs": [
    {
     "name": "stdout",
     "output_type": "stream",
     "text": [
      "{1, 4}\n"
     ]
    }
   ],
   "source": [
    "# discard 方法作用与 remove 一样\n",
    "s = {1, 3, 4}\n",
    "s.discard(3)\n",
    "print(s)  # set([1, 4])"
   ]
  },
  {
   "cell_type": "markdown",
   "id": "9fb5ff1e",
   "metadata": {},
   "source": [
    "### difference_update方法\n",
    "`a.difference_update(b)` 从a中去除所有属于b的元素："
   ]
  },
  {
   "cell_type": "code",
   "execution_count": 86,
   "id": "ba037226",
   "metadata": {},
   "outputs": [
    {
     "name": "stdout",
     "output_type": "stream",
     "text": [
      "{1}\n"
     ]
    }
   ],
   "source": [
    "a = {1, 2, 3, 4}\n",
    "b = {2, 3, 4, 5}\n",
    "a.difference_update(b)\n",
    "print(a)  # set([1])"
   ]
  },
  {
   "cell_type": "markdown",
   "id": "d4f16478",
   "metadata": {},
   "source": [
    "## 06条件判断"
   ]
  },
  {
   "cell_type": "code",
   "execution_count": 49,
   "id": "cd4b8067",
   "metadata": {},
   "outputs": [
    {
     "name": "stdout",
     "output_type": "stream",
     "text": [
      "进入分支\n",
      "进入分支2\n",
      "走出分支2\n",
      "走出分支1\n"
     ]
    }
   ],
   "source": [
    "if True:\n",
    "    print('进入分支')\n",
    "    if True:\n",
    "        print('进入分支2')\n",
    "    print('走出分支2')\n",
    "print('走出分支1')"
   ]
  },
  {
   "cell_type": "code",
   "execution_count": 50,
   "id": "b6b2bf46",
   "metadata": {},
   "outputs": [
    {
     "name": "stdout",
     "output_type": "stream",
     "text": [
      "exam score check:\n",
      "student pass\n"
     ]
    }
   ],
   "source": [
    "# 基本用法\n",
    "a = 62\n",
    "print(\"exam score check:\")\n",
    "if a >= 60:\n",
    "    print(\"student pass\")\n",
    "elif a == 0:\n",
    "    print(\"student 0: not pass\")\n",
    "else:\n",
    "    print(\"student not pass\")"
   ]
  },
  {
   "cell_type": "markdown",
   "id": "0e5bc65f",
   "metadata": {},
   "source": [
    "可以使用 and ， or , not 等关键词结合多个判断条件："
   ]
  },
  {
   "cell_type": "code",
   "execution_count": 51,
   "id": "c45a834a",
   "metadata": {},
   "outputs": [
    {
     "name": "stdout",
     "output_type": "stream",
     "text": [
      "True\n",
      "False\n",
      "True\n"
     ]
    }
   ],
   "source": [
    "a = 10\n",
    "b = -5\n",
    "print(a > 0 and b < 0)  # True\n",
    "print(not a > 0)  # False\n",
    "print(a < 0 or b < 0)  # True"
   ]
  },
  {
   "cell_type": "markdown",
   "id": "968cf148",
   "metadata": {},
   "source": [
    "判断列表"
   ]
  },
  {
   "cell_type": "code",
   "execution_count": 53,
   "id": "5605a225",
   "metadata": {},
   "outputs": [
    {
     "name": "stdout",
     "output_type": "stream",
     "text": [
      "the first element is:  1\n"
     ]
    }
   ],
   "source": [
    "my_list = [1, 2]\n",
    "# 判断一个列表是否为空。\n",
    "if len(my_list) > 0:\n",
    "    print(\"the first element is: \", my_list[0])\n",
    "else:\n",
    "    print(\"no element.\")"
   ]
  },
  {
   "cell_type": "markdown",
   "id": "d0b1db17",
   "metadata": {},
   "source": [
    "## 07循环 "
   ]
  },
  {
   "cell_type": "markdown",
   "id": "a2a8173f",
   "metadata": {},
   "source": [
    "### for循环 "
   ]
  },
  {
   "cell_type": "code",
   "execution_count": 54,
   "id": "70e8838e",
   "metadata": {},
   "outputs": [
    {
     "name": "stdout",
     "output_type": "stream",
     "text": [
      "4999950000\n"
     ]
    }
   ],
   "source": [
    "# for 循环\n",
    "total = 0\n",
    "for i in range(100000):\n",
    "    total += i\n",
    "print(total)  # 4999950000"
   ]
  },
  {
   "cell_type": "markdown",
   "id": "635af89d",
   "metadata": {},
   "source": [
    "### while 循环"
   ]
  },
  {
   "cell_type": "markdown",
   "id": "1a89cf81",
   "metadata": {},
   "source": [
    "`while <condition>:\n",
    "     <statesments>`  \n",
    "Python会循环执行，直到不满足为止。"
   ]
  },
  {
   "cell_type": "code",
   "execution_count": 55,
   "id": "659fba67",
   "metadata": {},
   "outputs": [
    {
     "name": "stdout",
     "output_type": "stream",
     "text": [
      "5050\n"
     ]
    }
   ],
   "source": [
    "i = 0\n",
    "total = 0\n",
    "while i <= 100:\n",
    "    total += i\n",
    "    i += 1\n",
    "print(total)  # 5050"
   ]
  },
  {
   "cell_type": "markdown",
   "id": "4472db3e",
   "metadata": {},
   "source": [
    "例子：通过while遍历集合："
   ]
  },
  {
   "cell_type": "code",
   "execution_count": 56,
   "id": "e86b15a0",
   "metadata": {},
   "outputs": [
    {
     "name": "stdout",
     "output_type": "stream",
     "text": [
      "Perform Hamlet\n",
      "Perform King\n",
      "Perform Mac\n"
     ]
    }
   ],
   "source": [
    "# 空容器会被当成False，因此可以用while循环读取容器的所有元素\n",
    "plays = set(['Hamlet', 'Mac', 'King'])\n",
    "while plays:\n",
    "    play = plays.pop()\n",
    "    print('Perform', play)"
   ]
  },
  {
   "cell_type": "markdown",
   "id": "c6703913",
   "metadata": {},
   "source": [
    "### continue 语句"
   ]
  },
  {
   "cell_type": "markdown",
   "id": "f6452dde",
   "metadata": {},
   "source": [
    "遇到 continue 的时候，程序会返回到循环的最开始重新执行。"
   ]
  },
  {
   "cell_type": "code",
   "execution_count": 93,
   "id": "82ccf3e2",
   "metadata": {},
   "outputs": [
    {
     "name": "stdout",
     "output_type": "stream",
     "text": [
      "6\n",
      "4\n",
      "2\n"
     ]
    }
   ],
   "source": [
    "values = [7, 6, 4, 7, 19, 2, 1]\n",
    "for i in values:\n",
    "    if i % 2 != 0:\n",
    "        # 忽略奇数\n",
    "        continue\n",
    "    print(i)\n",
    "# 6\n",
    "# 4\n",
    "# 2"
   ]
  },
  {
   "cell_type": "markdown",
   "id": "02046ca0",
   "metadata": {},
   "source": [
    "### break 语句"
   ]
  },
  {
   "cell_type": "markdown",
   "id": "6804d69f",
   "metadata": {},
   "source": [
    "遇到 break 的时候，程序会跳出循环，不管循环条件是不是满足"
   ]
  },
  {
   "cell_type": "code",
   "execution_count": 94,
   "id": "422ecbf1",
   "metadata": {},
   "outputs": [
    {
     "name": "stdout",
     "output_type": "stream",
     "text": [
      "start\n",
      "1\n",
      "2\n",
      "3\n",
      "4\n"
     ]
    }
   ],
   "source": [
    "command_list = ['start',\n",
    "                '1',\n",
    "                '2',\n",
    "                '3',\n",
    "                '4',\n",
    "                'stop',\n",
    "                'restart',\n",
    "                '5',\n",
    "                '6']\n",
    "while command_list:\n",
    "    command = command_list.pop(0)\n",
    "    if command == 'stop':\n",
    "        break\n",
    "    print(command)\n",
    "# start\n",
    "# 1\n",
    "# 2\n",
    "# 3\n",
    "# 4"
   ]
  },
  {
   "cell_type": "markdown",
   "id": "cd56bf98",
   "metadata": {},
   "source": [
    "### 练习 "
   ]
  },
  {
   "cell_type": "markdown",
   "id": "5e5c6ca2",
   "metadata": {},
   "source": [
    "(1) 使用循环代码打印一个九九乘法表出来.如下  \n",
    "1*1=1 \n",
    "\n",
    "1\\*2=2 2*2=4 \n",
    "\n",
    "1\\*3=3 2\\*3=6 3\\*3=9 \n",
    "\n",
    "1\\*4=4 2\\*4=8 3\\*4=12 4\\*4=16 \n",
    "\n",
    "1\\*5=5 2\\*5=10 3\\*5=15 4\\*5=20 5\\*5=25 \n",
    "\n",
    "1\\*6=6 2\\*6=12 3\\*6=18 4\\*6=24 5\\*6=30 6\\*6=36 \n",
    "\n",
    "1\\*7=7 2\\*7=14 3\\*7=21 4\\*7=28 5\\*7=35 6\\*7=42 7\\*7=49 \n",
    "\n",
    "1\\*8=8 2\\*8=16 3\\*8=24 4\\*8=32 5\\*8=40 6\\*8=48 7\\*8=56 8\\*8=64        \n",
    "\n",
    "1\\*9=9 2\\*9=18 3\\*9=27 4\\*9=36 5\\*9=45 6\\*9=54 7\\*9=63 8\\*9=72 9\\*9=81 "
   ]
  },
  {
   "cell_type": "markdown",
   "id": "c210aebb",
   "metadata": {},
   "source": [
    "(2) 小明拿到了一个电影+演员的数据名单，他想设计一个程序，要求：  \n",
    "1.输入演员名  \n",
    "2.如果演员出演了电影，则打印他+他出演的全部电影。程序结束  \n",
    "3.如果演员没有出演电影，则打印查无此人。程序继续  \n",
    "电影 = `[  \n",
    "'妖猫传',['黄轩','染谷将太'],  \n",
    "'无问西东',['章子怡','王力宏','祖峰'],  \n",
    "'超时空同居',['雷佳音','佟丽娅','黄轩']] ` "
   ]
  },
  {
   "cell_type": "code",
   "execution_count": null,
   "id": "f3efe4f1",
   "metadata": {},
   "outputs": [],
   "source": []
  },
  {
   "cell_type": "code",
   "execution_count": null,
   "id": "fb8dc302",
   "metadata": {},
   "outputs": [],
   "source": []
  },
  {
   "cell_type": "code",
   "execution_count": null,
   "id": "500fc7da",
   "metadata": {},
   "outputs": [],
   "source": []
  },
  {
   "cell_type": "code",
   "execution_count": null,
   "id": "e9026080",
   "metadata": {},
   "outputs": [],
   "source": []
  },
  {
   "cell_type": "code",
   "execution_count": null,
   "id": "cf634810",
   "metadata": {},
   "outputs": [],
   "source": []
  },
  {
   "cell_type": "code",
   "execution_count": null,
   "id": "367421d6",
   "metadata": {},
   "outputs": [],
   "source": []
  },
  {
   "cell_type": "code",
   "execution_count": null,
   "id": "d77b219d",
   "metadata": {},
   "outputs": [],
   "source": []
  },
  {
   "cell_type": "code",
   "execution_count": null,
   "id": "95b972e9",
   "metadata": {},
   "outputs": [],
   "source": []
  },
  {
   "cell_type": "code",
   "execution_count": null,
   "id": "9621a49a",
   "metadata": {},
   "outputs": [],
   "source": []
  },
  {
   "cell_type": "code",
   "execution_count": 96,
   "id": "de808bc7",
   "metadata": {},
   "outputs": [
    {
     "name": "stdout",
     "output_type": "stream",
     "text": [
      "\n",
      "1*1=1 \n",
      "1*2=2 2*2=4 \n",
      "1*3=3 2*3=6 3*3=9 \n",
      "1*4=4 2*4=8 3*4=12 4*4=16 \n",
      "1*5=5 2*5=10 3*5=15 4*5=20 5*5=25 \n",
      "1*6=6 2*6=12 3*6=18 4*6=24 5*6=30 6*6=36 \n",
      "1*7=7 2*7=14 3*7=21 4*7=28 5*7=35 6*7=42 7*7=49 \n",
      "1*8=8 2*8=16 3*8=24 4*8=32 5*8=40 6*8=48 7*8=56 8*8=64 \n",
      "1*9=9 2*9=18 3*9=27 4*9=36 5*9=45 6*9=54 7*9=63 8*9=72 9*9=81 "
     ]
    }
   ],
   "source": [
    "for i in range(1,10):\n",
    "    print()\n",
    "    for j in range(1,i+1):\n",
    "        print('%d*%d=%d' % (j,i,i*j),end=' ')"
   ]
  },
  {
   "cell_type": "code",
   "execution_count": 99,
   "id": "855140bd",
   "metadata": {},
   "outputs": [
    {
     "name": "stdout",
     "output_type": "stream",
     "text": [
      "你要找的演员刘德华\n",
      "【查无此人】\n",
      "你要找的演员王力宏\n",
      "王力宏 出演了 无问西东\n"
     ]
    }
   ],
   "source": [
    "film = [\n",
    "'妖猫传',['黄轩','染谷将太'],\n",
    "'无问西东',['章子怡','王力宏','祖峰'],\n",
    "'超时空同居',['雷佳音','佟丽娅','黄轩']]\n",
    "# 如果查到了：打印出演员+【所有的】电影，循环结束\n",
    "# 如果没查到，就 循环继续，并且打印【查无此人】\n",
    "is_found = 0 \n",
    "\n",
    "while True:\n",
    "    name = input('你要找的演员')\n",
    "    for i in film:\n",
    "        if name not in i : \n",
    "            a = i #暂存---for 是逐一提取数据，并赋值\n",
    "        else:\n",
    "            print(name,'出演了',a)\n",
    "            is_found += 1        \n",
    "    if is_found != 0 : # 不等于 0 就代表它找到了\n",
    "        break\n",
    "    print('【查无此人】') # 1号位"
   ]
  },
  {
   "cell_type": "code",
   "execution_count": null,
   "id": "b05ecbe7",
   "metadata": {},
   "outputs": [],
   "source": []
  }
 ],
 "metadata": {
  "kernelspec": {
   "display_name": "Python 3 (ipykernel)",
   "language": "python",
   "name": "python3"
  },
  "language_info": {
   "codemirror_mode": {
    "name": "ipython",
    "version": 3
   },
   "file_extension": ".py",
   "mimetype": "text/x-python",
   "name": "python",
   "nbconvert_exporter": "python",
   "pygments_lexer": "ipython3",
   "version": "3.9.16"
  }
 },
 "nbformat": 4,
 "nbformat_minor": 5
}
