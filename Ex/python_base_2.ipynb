{
 "cells": [
  {
   "cell_type": "markdown",
   "id": "7cf091c8",
   "metadata": {},
   "source": [
    "# Python基础2"
   ]
  },
  {
   "cell_type": "markdown",
   "id": "fd1d14a6",
   "metadata": {},
   "source": [
    "## 08列表推导式"
   ]
  },
  {
   "cell_type": "markdown",
   "id": "36c7a650",
   "metadata": {},
   "source": [
    "循环可以用来生成列表："
   ]
  },
  {
   "cell_type": "code",
   "execution_count": 1,
   "id": "31fbef9e",
   "metadata": {},
   "outputs": [
    {
     "name": "stdout",
     "output_type": "stream",
     "text": [
      "[4, 4, 9]\n"
     ]
    }
   ],
   "source": [
    "values = [2, 2, 3]\n",
    "squares = []\n",
    "for x in values:\n",
    "    squares.append(x ** 2)\n",
    "print(squares)  # [4, 4, 9]"
   ]
  },
  {
   "cell_type": "markdown",
   "id": "580fec76",
   "metadata": {},
   "source": [
    "列表推导式可以使用更简单的方法来创建这个列表："
   ]
  },
  {
   "cell_type": "code",
   "execution_count": 2,
   "id": "4c55749a",
   "metadata": {},
   "outputs": [
    {
     "name": "stdout",
     "output_type": "stream",
     "text": [
      "[9, 64, 100, 196]\n"
     ]
    }
   ],
   "source": [
    "values = [3, 8, 10, 14]\n",
    "squares = [x ** 2 for x in values]\n",
    "print(squares)  # [9, 64, 100, 196]"
   ]
  },
  {
   "cell_type": "markdown",
   "id": "2a05dcaa",
   "metadata": {},
   "source": [
    "可以加入条件筛选\n",
    "\n",
    "例如，只想保留列表中不大于8的数的平方："
   ]
  },
  {
   "cell_type": "code",
   "execution_count": 3,
   "id": "a441b5d0",
   "metadata": {},
   "outputs": [
    {
     "name": "stdout",
     "output_type": "stream",
     "text": [
      "[9, 64, 100]\n"
     ]
    }
   ],
   "source": [
    "squares = [x ** 2 for x in values if x <= 10]\n",
    "print(squares)  # [9, 64, 100]"
   ]
  },
  {
   "cell_type": "markdown",
   "id": "d3dac1c5",
   "metadata": {},
   "source": [
    "平方的结果不大于100的："
   ]
  },
  {
   "cell_type": "code",
   "execution_count": 4,
   "id": "dfd02f00",
   "metadata": {},
   "outputs": [
    {
     "name": "stdout",
     "output_type": "stream",
     "text": [
      "[9, 64]\n"
     ]
    }
   ],
   "source": [
    "squares = [x ** 2 for x in values if x ** 2 <= 80]\n",
    "print(squares)  # [9, 64]"
   ]
  },
  {
   "cell_type": "markdown",
   "id": "8e974c40",
   "metadata": {},
   "source": [
    "使用推导式生成集合和字典："
   ]
  },
  {
   "cell_type": "code",
   "execution_count": 5,
   "id": "00bcbbba",
   "metadata": {},
   "outputs": [
    {
     "name": "stdout",
     "output_type": "stream",
     "text": [
      "{16, 49, 100}\n"
     ]
    }
   ],
   "source": [
    "values = [10, 21, 4, 7, 12]\n",
    "square_set = {x ** 2 for x in values if x <= 10}\n",
    "\n",
    "print(square_set)  # set([16, 49, 100])"
   ]
  },
  {
   "cell_type": "code",
   "execution_count": 6,
   "id": "aa0f0f48",
   "metadata": {},
   "outputs": [
    {
     "name": "stdout",
     "output_type": "stream",
     "text": [
      "{10: 100, 4: 16, 7: 49}\n"
     ]
    }
   ],
   "source": [
    "square_dict = {x: x ** 2 for x in values if x <= 10}\n",
    "print(square_dict)  # {10: 100, 4: 16, 7: 49}"
   ]
  },
  {
   "cell_type": "markdown",
   "id": "74960f9c",
   "metadata": {},
   "source": [
    "计算上面例子中生成的列表中所有元素的和："
   ]
  },
  {
   "cell_type": "code",
   "execution_count": 7,
   "id": "7d1d988f",
   "metadata": {},
   "outputs": [
    {
     "data": {
      "text/plain": [
       "65"
      ]
     },
     "execution_count": 7,
     "metadata": {},
     "output_type": "execute_result"
    }
   ],
   "source": [
    "total = sum([x ** 2 for x in values if x < 10])\n",
    "total  # 65"
   ]
  },
  {
   "cell_type": "markdown",
   "id": "b305165a",
   "metadata": {},
   "source": [
    "但是，Python会生成这个列表，然后在将它放到垃圾回收机制中（因为没有变量指向它），\n",
    "\n",
    "这毫无疑问是种浪费。\n",
    "\n",
    "为了解决这种问题，与range()类似，Python使用产生式表达式来解决这个问题："
   ]
  },
  {
   "cell_type": "code",
   "execution_count": 8,
   "id": "60393065",
   "metadata": {},
   "outputs": [
    {
     "data": {
      "text/plain": [
       "65"
      ]
     },
     "execution_count": 8,
     "metadata": {},
     "output_type": "execute_result"
    }
   ],
   "source": [
    "total = sum(x ** 2 for x in values if x < 10)\n",
    "total  # 65"
   ]
  },
  {
   "cell_type": "markdown",
   "id": "7636c237",
   "metadata": {},
   "source": [
    "与上面相比，只是去掉了括号，但这里并不会一次性的生成这个列表。"
   ]
  },
  {
   "cell_type": "markdown",
   "id": "914548a1",
   "metadata": {},
   "source": [
    "## 09函数"
   ]
  },
  {
   "cell_type": "markdown",
   "id": "beafd268",
   "metadata": {},
   "source": [
    "### 定义函数"
   ]
  },
  {
   "cell_type": "markdown",
   "id": "126f7f20",
   "metadata": {},
   "source": [
    "在Python中可以使用 def 关键字来定义函数，程序中函数的参数就相当于是数学上说的函数的自变量，可以通过 return 关键字来返回一个值，这相当于数学上说的函数的因变量。"
   ]
  },
  {
   "cell_type": "code",
   "execution_count": 9,
   "id": "84475f77",
   "metadata": {},
   "outputs": [],
   "source": [
    "def add(a, b):\n",
    "    \"\"\"\n",
    "    add two nums\n",
    "    :param a: first num\n",
    "    :param b: second num\n",
    "    :return: result\n",
    "    \"\"\"\n",
    "    c = a + b\n",
    "    return c"
   ]
  },
  {
   "cell_type": "markdown",
   "id": "d6d9e608",
   "metadata": {},
   "source": [
    "### 使用函数"
   ]
  },
  {
   "cell_type": "markdown",
   "id": "2497a34e",
   "metadata": {},
   "source": [
    "使用函数时，只需要将参数换成特定的值传给函数。"
   ]
  },
  {
   "cell_type": "code",
   "execution_count": 10,
   "id": "a5b05483",
   "metadata": {},
   "outputs": [
    {
     "name": "stdout",
     "output_type": "stream",
     "text": [
      "5\n",
      "foobar\n"
     ]
    }
   ],
   "source": [
    "# Python并没有限定参数的类型，因此可以使用不同的参数类型：\n",
    "print(add(2, 3))\n",
    "\n",
    "print(add('foo', 'bar'))  # foobar"
   ]
  },
  {
   "cell_type": "markdown",
   "id": "92e4613a",
   "metadata": {},
   "source": [
    "传入参数时，Python提供了两种选项，\n",
    "\n",
    "第一种是上面使用的按照位置传入参数，\n",
    "\n",
    "另一种则是使用关键词模式，显式地指定参数的值："
   ]
  },
  {
   "cell_type": "code",
   "execution_count": 11,
   "id": "9e59b5b4",
   "metadata": {},
   "outputs": [
    {
     "data": {
      "text/plain": [
       "5"
      ]
     },
     "execution_count": 11,
     "metadata": {},
     "output_type": "execute_result"
    }
   ],
   "source": [
    "add(a=2, b=3)"
   ]
  },
  {
   "cell_type": "code",
   "execution_count": 12,
   "id": "734c4d20",
   "metadata": {},
   "outputs": [
    {
     "data": {
      "text/plain": [
       "'goodmorning'"
      ]
     },
     "execution_count": 12,
     "metadata": {},
     "output_type": "execute_result"
    }
   ],
   "source": [
    "add(b='morning', a='good')"
   ]
  },
  {
   "cell_type": "code",
   "execution_count": 13,
   "id": "0577c237",
   "metadata": {},
   "outputs": [
    {
     "data": {
      "text/plain": [
       "5"
      ]
     },
     "execution_count": 13,
     "metadata": {},
     "output_type": "execute_result"
    }
   ],
   "source": [
    "add(2, b=3)  # 5"
   ]
  },
  {
   "cell_type": "markdown",
   "id": "70ee58c6",
   "metadata": {},
   "source": [
    "### 设定默认参数"
   ]
  },
  {
   "cell_type": "code",
   "execution_count": 14,
   "id": "97e2cd70",
   "metadata": {},
   "outputs": [],
   "source": [
    "def quad(x, a=1, b=0, c=0):\n",
    "    return a * x * x + b * x + c"
   ]
  },
  {
   "cell_type": "code",
   "execution_count": 15,
   "id": "8d54dc9c",
   "metadata": {},
   "outputs": [
    {
     "data": {
      "text/plain": [
       "4.0"
      ]
     },
     "execution_count": 15,
     "metadata": {},
     "output_type": "execute_result"
    }
   ],
   "source": [
    "quad(2.0)"
   ]
  },
  {
   "cell_type": "code",
   "execution_count": 16,
   "id": "d0f58c5f",
   "metadata": {},
   "outputs": [
    {
     "data": {
      "text/plain": [
       "10.0"
      ]
     },
     "execution_count": 16,
     "metadata": {},
     "output_type": "execute_result"
    }
   ],
   "source": [
    "quad(2.0, b=3)"
   ]
  },
  {
   "cell_type": "markdown",
   "id": "051c8282",
   "metadata": {},
   "source": [
    "### 接收不定参数"
   ]
  },
  {
   "cell_type": "markdown",
   "id": "b5e48c72",
   "metadata": {},
   "source": [
    "使用如下方法，可以使函数接受不定数目的参数"
   ]
  },
  {
   "cell_type": "code",
   "execution_count": 17,
   "id": "045a07b9",
   "metadata": {},
   "outputs": [],
   "source": [
    "def add(x, *args):\n",
    "    total = x\n",
    "    for arg in args:\n",
    "        total += arg\n",
    "    return total"
   ]
  },
  {
   "cell_type": "markdown",
   "id": "282698f3",
   "metadata": {},
   "source": [
    "*args 表示参数数目不定，可以看成一个元组，\n",
    "\n",
    "把第一个参数后面的参数当作元组中的元素。"
   ]
  },
  {
   "cell_type": "code",
   "execution_count": 18,
   "id": "45839d4e",
   "metadata": {},
   "outputs": [
    {
     "name": "stdout",
     "output_type": "stream",
     "text": [
      "15\n",
      "3\n"
     ]
    }
   ],
   "source": [
    "print(add(1, 2, 3, 4, 5))  # 15\n",
    "print(add(1, 2))  # 3"
   ]
  },
  {
   "cell_type": "markdown",
   "id": "809930f3",
   "metadata": {},
   "source": [
    "### 使用关键词传入参数"
   ]
  },
  {
   "cell_type": "code",
   "execution_count": 19,
   "id": "553abd99",
   "metadata": {},
   "outputs": [],
   "source": [
    "def add(x, **kwargs):\n",
    "    total = x\n",
    "    for arg, val in kwargs.items():\n",
    "        print(\"adding \", arg)\n",
    "        total += val\n",
    "    return total"
   ]
  },
  {
   "cell_type": "markdown",
   "id": "a3371275",
   "metadata": {},
   "source": [
    "**kwargs 表示参数数目不定，相当于一个字典，关键词和值对应于键值对。"
   ]
  },
  {
   "cell_type": "code",
   "execution_count": 20,
   "id": "7a4f4a04",
   "metadata": {},
   "outputs": [
    {
     "name": "stdout",
     "output_type": "stream",
     "text": [
      "adding  a\n",
      "adding  b\n"
     ]
    },
    {
     "data": {
      "text/plain": [
       "6"
      ]
     },
     "execution_count": 20,
     "metadata": {},
     "output_type": "execute_result"
    }
   ],
   "source": [
    "add(1, a=2, b=3)  # 6"
   ]
  },
  {
   "cell_type": "code",
   "execution_count": 21,
   "id": "0854da49",
   "metadata": {},
   "outputs": [
    {
     "name": "stdout",
     "output_type": "stream",
     "text": [
      "(2, 3) {'a': 'bar', 'b': 10}\n"
     ]
    }
   ],
   "source": [
    "# 可以接收任意数目的位置参数和键值对参数：\n",
    "def fun1(*args, **kwargs):\n",
    "    print(args, kwargs)\n",
    "    \n",
    "fun1(2, 3, a=\"bar\", b=10)  # (2, 3) {'a': u'bar', 'b': 10}"
   ]
  },
  {
   "cell_type": "markdown",
   "id": "16c80ac6",
   "metadata": {},
   "source": [
    "### 返回多个值"
   ]
  },
  {
   "cell_type": "code",
   "execution_count": 22,
   "id": "bcdd213d",
   "metadata": {},
   "outputs": [],
   "source": [
    "# 函数可以返回多个值：\n",
    "def to_val(x, y):\n",
    "    r = (x ** 2 + y ** 2) ** 0.5\n",
    "    total = x + y\n",
    "    return r, total"
   ]
  },
  {
   "cell_type": "code",
   "execution_count": 23,
   "id": "a565492e",
   "metadata": {},
   "outputs": [
    {
     "name": "stdout",
     "output_type": "stream",
     "text": [
      "5.0 7\n"
     ]
    }
   ],
   "source": [
    "a, b = to_val(3, 4)\n",
    "print(a, b)  # 5.0 7"
   ]
  },
  {
   "cell_type": "code",
   "execution_count": 24,
   "id": "42dca69a",
   "metadata": {},
   "outputs": [
    {
     "name": "stdout",
     "output_type": "stream",
     "text": [
      "(5.0, 7)\n"
     ]
    }
   ],
   "source": [
    "# 事实上，Python将返回的两个值变成了元组：\n",
    "print(to_val(3, 4))  # (5.0, 7)"
   ]
  },
  {
   "cell_type": "code",
   "execution_count": 25,
   "id": "49e1f4db",
   "metadata": {},
   "outputs": [
    {
     "name": "stdout",
     "output_type": "stream",
     "text": [
      "1 2 3\n"
     ]
    }
   ],
   "source": [
    "# 列表也有相似的功能,可以用来赋值：\n",
    "a, b, c = [1, 2, 3]\n",
    "print(a, b, c)"
   ]
  },
  {
   "cell_type": "raw",
   "id": "1a91d887",
   "metadata": {},
   "source": [
    "如果不需要返回的某个结果，用`_`占位"
   ]
  },
  {
   "cell_type": "code",
   "execution_count": 26,
   "id": "0689ce42",
   "metadata": {},
   "outputs": [
    {
     "name": "stdout",
     "output_type": "stream",
     "text": [
      "10.0\n"
     ]
    }
   ],
   "source": [
    "a, _ = to_val(6, 8)\n",
    "print(a)  # 10.0"
   ]
  },
  {
   "cell_type": "code",
   "execution_count": 27,
   "id": "cf1493ae",
   "metadata": {},
   "outputs": [
    {
     "name": "stdout",
     "output_type": "stream",
     "text": [
      "5\n"
     ]
    }
   ],
   "source": [
    "# 可以将参数用元组传入：\n",
    "def add(a, b):\n",
    "    return a + b\n",
    "\n",
    "c = (2, 3)\n",
    "print(add(*c))  # 5\n",
    "# 这里的*必须要。"
   ]
  },
  {
   "cell_type": "code",
   "execution_count": 28,
   "id": "24a8d36d",
   "metadata": {},
   "outputs": [
    {
     "name": "stdout",
     "output_type": "stream",
     "text": [
      "7\n"
     ]
    }
   ],
   "source": [
    "# 还可以用字典传入参数：\n",
    "d = {'a': 2, 'b': 5}\n",
    "print(add(**d))  # 7"
   ]
  },
  {
   "cell_type": "markdown",
   "id": "5fea8a0d",
   "metadata": {},
   "source": [
    "### map 方法生成序列"
   ]
  },
  {
   "cell_type": "markdown",
   "id": "e58180c1",
   "metadata": {},
   "source": [
    "map函数\n",
    "\n",
    "map() 会根据提供的函数对指定序列做映射。\n",
    "\n",
    "map(aFun, aSeq)"
   ]
  },
  {
   "cell_type": "code",
   "execution_count": 29,
   "id": "9e77032d",
   "metadata": {},
   "outputs": [],
   "source": [
    "def sqr(x):\n",
    "    return x ** 2"
   ]
  },
  {
   "cell_type": "code",
   "execution_count": 30,
   "id": "b7aa8930",
   "metadata": {},
   "outputs": [
    {
     "data": {
      "text/plain": [
       "map"
      ]
     },
     "execution_count": 30,
     "metadata": {},
     "output_type": "execute_result"
    }
   ],
   "source": [
    "a = [2, 3, 4]\n",
    "result = map(sqr, a)  # [4,9,16]\n",
    "type(result)"
   ]
  },
  {
   "cell_type": "code",
   "execution_count": 31,
   "id": "05c852f9",
   "metadata": {},
   "outputs": [
    {
     "data": {
      "text/plain": [
       "[4, 9, 16]"
      ]
     },
     "execution_count": 31,
     "metadata": {},
     "output_type": "execute_result"
    }
   ],
   "source": [
    "# map返回的是个迭代器对象, 可以转化为list显示\n",
    "\n",
    "list(result)"
   ]
  },
  {
   "cell_type": "markdown",
   "id": "fde9376e",
   "metadata": {},
   "source": [
    "事实上，根据函数参数的多少，map 可以接受多组序列， 将其对应的元素作为参数传入函数："
   ]
  },
  {
   "cell_type": "code",
   "execution_count": 32,
   "id": "51e0e41f",
   "metadata": {},
   "outputs": [
    {
     "data": {
      "text/plain": [
       "[4, 9, 16]"
      ]
     },
     "execution_count": 32,
     "metadata": {},
     "output_type": "execute_result"
    }
   ],
   "source": [
    "def add(a, b):\n",
    "    return a + b\n",
    "\n",
    "a = [2, 3, 4]\n",
    "list(map(sqr, a))  # [4,9,16]\n",
    "[4, 9, 16]"
   ]
  },
  {
   "cell_type": "code",
   "execution_count": 33,
   "id": "d5e48f48",
   "metadata": {},
   "outputs": [
    {
     "data": {
      "text/plain": [
       "[12, 14, 19]"
      ]
     },
     "execution_count": 33,
     "metadata": {},
     "output_type": "execute_result"
    }
   ],
   "source": [
    "a = (2, 3, 4)\n",
    "b = [10, 11, 15]\n",
    "list(map(add, a, b))  # [12, 14, 19]"
   ]
  },
  {
   "cell_type": "markdown",
   "id": "75fcc3dd",
   "metadata": {},
   "source": [
    "## 10模块"
   ]
  },
  {
   "cell_type": "markdown",
   "id": "21c5fc21",
   "metadata": {},
   "source": [
    "用模块管理函数，Python中每个文件就代表了一个模块（module），\n",
    "\n",
    "Python会将所有 .py 结尾的文件认定为Python代码文件。\n",
    "\n",
    "在使用函数的时候我们通过import关键字导入指定的模块："
   ]
  },
  {
   "cell_type": "markdown",
   "id": "b3b13bad",
   "metadata": {},
   "source": [
    "`module1.py`\n",
    "\n",
    "```python\n",
    "\n",
    "def foo():\n",
    "    print('hello, world!')\n",
    "\n",
    "```\n",
    "`module2.py`\n",
    "\n",
    "```python\n",
    "def foo():\n",
    "    print('goodbye, world!')\n",
    "```\n",
    "`test.py`\n",
    "\n",
    "```python\n",
    "from module1 import foo\n",
    "\n",
    "# 输出hello, world!\n",
    "foo()\n",
    "\n",
    "from module2 import foo\n",
    "\n",
    "# 输出goodbye, world!\n",
    "foo()\n",
    "```"
   ]
  },
  {
   "cell_type": "markdown",
   "id": "2c96af80",
   "metadata": {},
   "source": [
    "打开pycharm，在当前目录下尝试上面的代码"
   ]
  },
  {
   "cell_type": "markdown",
   "id": "a1556cbf",
   "metadata": {},
   "source": [
    "### name 属性"
   ]
  },
  {
   "cell_type": "markdown",
   "id": "bad822d7",
   "metadata": {},
   "source": [
    "有时候我们想将一个 `.py` 文件既当作脚本，又能当作模块用， 这个时候可以使用 `name `这个属性。\n",
    "\n",
    "```python\n",
    "PI = 3.14\n",
    "\n",
    "\n",
    "def get_sum(lst):\n",
    "    \"\"\"\n",
    "    Sum the values in the list\n",
    "    :param lst:\n",
    "    :return:\n",
    "    \"\"\"\n",
    "    total = 0\n",
    "    for v in lst:\n",
    "        total = total + v\n",
    "    return total\n",
    "\n",
    "if __name__ == '__main__':\n",
    "    print(PI)\n",
    "    print(get_sum([1,2,3,4]))\n",
    "```\n",
    "上文保存为`ex.py`\n",
    "\n",
    "使用`with open('ex.py', 'w')`的方式直接创建该代码文件"
   ]
  },
  {
   "cell_type": "code",
   "execution_count": 34,
   "id": "132dd455",
   "metadata": {},
   "outputs": [],
   "source": [
    "with open('ex.py', 'w') as f:\n",
    "    f.write(\"\"\"\n",
    "PI = 3.14\n",
    "def get_sum(lst):\n",
    "    total = 0\n",
    "    for v in lst:\n",
    "        total = total + v\n",
    "    return total\n",
    "    \n",
    "if __name__ == '__main__':\n",
    "    print(PI)\n",
    "    print(get_sum([1,2,3,4]))\n",
    "    \"\"\")"
   ]
  },
  {
   "cell_type": "code",
   "execution_count": 35,
   "id": "fff55865",
   "metadata": {},
   "outputs": [
    {
     "name": "stdout",
     "output_type": "stream",
     "text": [
      "3.14\n",
      "5\n"
     ]
    }
   ],
   "source": [
    "from ex import PI, get_sum  # from ex import *\n",
    "\n",
    "print(PI)  # 3.14\n",
    "print(get_sum([2, 3]))  # 5\n",
    "\n",
    "# 可以使用 * 导入所有变量, 不提倡，因为可能覆盖一些已有的函数"
   ]
  },
  {
   "cell_type": "code",
   "execution_count": 36,
   "id": "da37e39e",
   "metadata": {},
   "outputs": [],
   "source": [
    "# 删除文件：\n",
    "import os\n",
    "\n",
    "os.remove('ex.py')"
   ]
  },
  {
   "cell_type": "markdown",
   "id": "b3893dbb",
   "metadata": {},
   "source": [
    "## 11文件"
   ]
  },
  {
   "cell_type": "markdown",
   "id": "6df4c57c",
   "metadata": {},
   "source": [
    "### 写文件 "
   ]
  },
  {
   "cell_type": "markdown",
   "id": "87c26d8b",
   "metadata": {},
   "source": [
    "我们使用 open 函数的写入模式来写文件："
   ]
  },
  {
   "cell_type": "code",
   "execution_count": 37,
   "id": "419fb568",
   "metadata": {},
   "outputs": [],
   "source": [
    "f = open('test.txt', 'w')\n",
    "f.write('hello world.')\n",
    "f.close()"
   ]
  },
  {
   "cell_type": "code",
   "execution_count": 38,
   "id": "d7bfa724",
   "metadata": {},
   "outputs": [
    {
     "name": "stdout",
     "output_type": "stream",
     "text": [
      "hello world.\n"
     ]
    }
   ],
   "source": [
    "print(open('test.txt').read())"
   ]
  },
  {
   "cell_type": "markdown",
   "id": "38dd9905",
   "metadata": {},
   "source": [
    "使用 'w' 模式时，如果文件不存在会被创建\n",
    "\n",
    "除了写入模式，还有追加模式 'a'\n",
    "\n",
    "读写模式'w+''"
   ]
  },
  {
   "cell_type": "markdown",
   "id": "6a137f4b",
   "metadata": {},
   "source": [
    "### 读文件"
   ]
  },
  {
   "cell_type": "markdown",
   "id": "da876332",
   "metadata": {},
   "source": [
    "使用 open 函数 来读文件，使用文件名的字符串作为输入参数：\n",
    "\n",
    "默认打开文件是 ‘r’ 读模式"
   ]
  },
  {
   "cell_type": "code",
   "execution_count": 39,
   "id": "0f87d45a",
   "metadata": {},
   "outputs": [
    {
     "name": "stdout",
     "output_type": "stream",
     "text": [
      "hello world.\n"
     ]
    }
   ],
   "source": [
    "f = open(\"test.txt\")\n",
    "\n",
    "# 默认以读的方式打开文件，如果文件不存在会报错。\n",
    "# 可以使用 read 方法来读入文件中的所有内容：\n",
    "text = f.read()\n",
    "print(text)"
   ]
  },
  {
   "cell_type": "markdown",
   "id": "bbc7bee6",
   "metadata": {},
   "source": [
    "按照行读入内容，readlines 方法返回一个列表，每个元素代表文件中每一行的内容："
   ]
  },
  {
   "cell_type": "code",
   "execution_count": 40,
   "id": "a8d8abed",
   "metadata": {},
   "outputs": [
    {
     "name": "stdout",
     "output_type": "stream",
     "text": [
      "['hello world.']\n"
     ]
    }
   ],
   "source": [
    "f = open(\"test.txt\")\n",
    "lines = f.readlines()\n",
    "print(lines)\n",
    "f.close()"
   ]
  },
  {
   "cell_type": "code",
   "execution_count": 41,
   "id": "1174c2c9",
   "metadata": {},
   "outputs": [
    {
     "name": "stdout",
     "output_type": "stream",
     "text": [
      "hello world.\n"
     ]
    }
   ],
   "source": [
    "# 事实上，我们可以将 f 放在一个循环中，得到它每一行的内容：\n",
    "f = open('test.txt')\n",
    "for line in f:\n",
    "    print(line)\n",
    "f.close()"
   ]
  },
  {
   "cell_type": "markdown",
   "id": "525a7f6f",
   "metadata": {},
   "source": [
    "### 二进制文件"
   ]
  },
  {
   "cell_type": "markdown",
   "id": "f7a9d0ff",
   "metadata": {},
   "source": [
    "二进制读写模式 b："
   ]
  },
  {
   "cell_type": "code",
   "execution_count": 42,
   "id": "46cc1133",
   "metadata": {},
   "outputs": [],
   "source": [
    "import os\n",
    "\n",
    "f = open('binary.bin', 'wb')\n",
    "f.write(os.urandom(10))\n",
    "f.close()"
   ]
  },
  {
   "cell_type": "code",
   "execution_count": 43,
   "id": "e08b5ee5",
   "metadata": {},
   "outputs": [
    {
     "name": "stdout",
     "output_type": "stream",
     "text": [
      "b\"\\xe5Z\\xd6T\\xe8h\\xea\\x15\\xf3'\"\n"
     ]
    }
   ],
   "source": [
    "f = open('binary.bin', 'rb')\n",
    "print(repr(f.read()))\n",
    "f.close()"
   ]
  },
  {
   "cell_type": "markdown",
   "id": "93af766f",
   "metadata": {},
   "source": [
    "### with 方法\n",
    "事实上，Python提供了更安全的方法，当 with 块的内容结束后， Python会自动调用它的close 方法，确保读写的安全："
   ]
  },
  {
   "cell_type": "code",
   "execution_count": 44,
   "id": "b7ee8537",
   "metadata": {},
   "outputs": [
    {
     "ename": "ZeroDivisionError",
     "evalue": "float division by zero",
     "output_type": "error",
     "traceback": [
      "\u001b[1;31m---------------------------------------------------------------------------\u001b[0m",
      "\u001b[1;31mZeroDivisionError\u001b[0m                         Traceback (most recent call last)",
      "\u001b[1;32m~\\AppData\\Local\\Temp/ipykernel_20008/2867430742.py\u001b[0m in \u001b[0;36m<module>\u001b[1;34m\u001b[0m\n\u001b[0;32m      1\u001b[0m \u001b[1;32mwith\u001b[0m \u001b[0mopen\u001b[0m\u001b[1;33m(\u001b[0m\u001b[1;34m'new_file.txt'\u001b[0m\u001b[1;33m,\u001b[0m \u001b[1;34m'w'\u001b[0m\u001b[1;33m)\u001b[0m \u001b[1;32mas\u001b[0m \u001b[0mf\u001b[0m\u001b[1;33m:\u001b[0m\u001b[1;33m\u001b[0m\u001b[1;33m\u001b[0m\u001b[0m\n\u001b[0;32m      2\u001b[0m     \u001b[1;32mfor\u001b[0m \u001b[0mi\u001b[0m \u001b[1;32min\u001b[0m \u001b[0mrange\u001b[0m\u001b[1;33m(\u001b[0m\u001b[1;36m3000\u001b[0m\u001b[1;33m)\u001b[0m\u001b[1;33m:\u001b[0m\u001b[1;33m\u001b[0m\u001b[1;33m\u001b[0m\u001b[0m\n\u001b[1;32m----> 3\u001b[1;33m         \u001b[0mx\u001b[0m \u001b[1;33m=\u001b[0m \u001b[1;36m1.0\u001b[0m \u001b[1;33m/\u001b[0m \u001b[1;33m(\u001b[0m\u001b[0mi\u001b[0m \u001b[1;33m-\u001b[0m \u001b[1;36m1000\u001b[0m\u001b[1;33m)\u001b[0m\u001b[1;33m\u001b[0m\u001b[1;33m\u001b[0m\u001b[0m\n\u001b[0m\u001b[0;32m      4\u001b[0m         \u001b[0mf\u001b[0m\u001b[1;33m.\u001b[0m\u001b[0mwrite\u001b[0m\u001b[1;33m(\u001b[0m\u001b[1;34m'hello world: '\u001b[0m \u001b[1;33m+\u001b[0m \u001b[0mstr\u001b[0m\u001b[1;33m(\u001b[0m\u001b[0mi\u001b[0m\u001b[1;33m)\u001b[0m \u001b[1;33m+\u001b[0m \u001b[1;34m'\\n'\u001b[0m\u001b[1;33m)\u001b[0m\u001b[1;33m\u001b[0m\u001b[1;33m\u001b[0m\u001b[0m\n",
      "\u001b[1;31mZeroDivisionError\u001b[0m: float division by zero"
     ]
    }
   ],
   "source": [
    "with open('new_file.txt', 'w') as f:\n",
    "    for i in range(3000):\n",
    "        x = 1.0 / (i - 1000)\n",
    "        f.write('hello world: ' + str(i) + '\\n')"
   ]
  },
  {
   "cell_type": "markdown",
   "id": "9418f809",
   "metadata": {},
   "source": [
    "查看文件写的结果，虽然触发error，但已经写的内容是成功的。"
   ]
  },
  {
   "cell_type": "code",
   "execution_count": 45,
   "id": "d37a130c",
   "metadata": {},
   "outputs": [],
   "source": [
    "# 删除文件：\n",
    "import os\n",
    "os.remove('test.txt')\n",
    "os.remove('binary.bin')\n",
    "os.remove('new_file.txt')"
   ]
  },
  {
   "cell_type": "markdown",
   "id": "7d6bf48d",
   "metadata": {},
   "source": [
    "## 12异常"
   ]
  },
  {
   "cell_type": "markdown",
   "id": "b8d4e32c",
   "metadata": {},
   "source": [
    "### try & except 块"
   ]
  },
  {
   "cell_type": "markdown",
   "id": "f1d528a4",
   "metadata": {},
   "source": [
    "捕捉不同的错误类型，尝试在下面输入框输入：-1，1，2，q"
   ]
  },
  {
   "cell_type": "code",
   "execution_count": 46,
   "id": "28ee36fe",
   "metadata": {},
   "outputs": [
    {
     "name": "stdout",
     "output_type": "stream",
     "text": [
      ">1\n",
      "the value must not be 1\n",
      ">q\n"
     ]
    }
   ],
   "source": [
    "import math\n",
    "\n",
    "while True:\n",
    "    try:\n",
    "        text = input('>')\n",
    "        if text[0] == 'q':\n",
    "            break\n",
    "        x = float(text)\n",
    "        y = 1 / math.log10(x)\n",
    "        print(\"1/log10({0}) = {1}\".format(x, y))\n",
    "    except ValueError:\n",
    "        print(\"value must bigger than 0\")\n",
    "    except ZeroDivisionError:\n",
    "        print(\"the value must not be 1\")"
   ]
  },
  {
   "cell_type": "markdown",
   "id": "c6c93e88",
   "metadata": {},
   "source": [
    "自定义异常\n",
    "\n",
    "异常是标准库中的类，这意味着我们可以自定义异常类：  \n",
    "尝试在文本输入框输入：k，start，q"
   ]
  },
  {
   "cell_type": "code",
   "execution_count": 47,
   "id": "3533524f",
   "metadata": {},
   "outputs": [
    {
     "name": "stdout",
     "output_type": "stream",
     "text": [
      "bad command operation. must input 'start', 'stop', 'pause'\n",
      ">start\n",
      "input command: start\n",
      ">q\n"
     ]
    }
   ],
   "source": [
    "class CommandError(ValueError):\n",
    "    print(\"bad command operation. must input 'start', 'stop', 'pause'\")\n",
    "    \n",
    "\n",
    "\n",
    "valid_commands = {'start', 'stop', 'pause'}\n",
    "while True:\n",
    "    command = input('>')\n",
    "    if command == 'q':\n",
    "        break\n",
    "    try:\n",
    "        if command.lower() not in valid_commands:\n",
    "            raise CommandError('Invalid command: %s' % command)\n",
    "        print('input command:', command)\n",
    "    except CommandError:\n",
    "        print(\"bad command string: %s\" % command)"
   ]
  },
  {
   "cell_type": "markdown",
   "id": "dc6ccda1",
   "metadata": {},
   "source": [
    "### finally"
   ]
  },
  {
   "cell_type": "markdown",
   "id": "392d0de9",
   "metadata": {},
   "source": [
    "try/catch 块还有一个可选的关键词 finally。  \n",
    "不管 try 块有没有异常， finally 块的内容总是会被执行， 而且会在抛出异常前执行，因此可以用来作为安全保证，  \n",
    "比如文件操作时，常在finally关闭文件。"
   ]
  },
  {
   "cell_type": "code",
   "execution_count": 48,
   "id": "61137046",
   "metadata": {},
   "outputs": [
    {
     "name": "stdout",
     "output_type": "stream",
     "text": [
      "divide by 0.\n",
      "finally was called.\n"
     ]
    }
   ],
   "source": [
    "try:\n",
    "    print(1 / 0)\n",
    "except ZeroDivisionError:\n",
    "    print('divide by 0.')\n",
    "finally:\n",
    "    print('finally was called.')"
   ]
  },
  {
   "cell_type": "markdown",
   "id": "893acbac",
   "metadata": {},
   "source": [
    "## 13面对对象编程 "
   ]
  },
  {
   "cell_type": "markdown",
   "id": "bf664679",
   "metadata": {},
   "source": [
    "面向对象编程——Object Oriented Programming，简称OOP，是一种程序设计思想。OOP把对象作为程序的基本单元，一个对象包含了数据和操作数据的函数。\n",
    "\n",
    "在Python中，所有数据类型都可以视为对象，当然也可以自定义对象。自定义的对象数据类型就是面向对象中的类（Class）的概念。"
   ]
  },
  {
   "cell_type": "markdown",
   "id": "883399e6",
   "metadata": {},
   "source": [
    "### 类（Class）和实例（Instance）"
   ]
  },
  {
   "cell_type": "markdown",
   "id": "bff78c97",
   "metadata": {},
   "source": [
    "面向对象的设计思想是从自然界中来的，因为在自然界中，类（Class）和实例（Instance）的概念是很自然的。Class是一种抽象概念，比如我们定义的Class——Student，是指学生这个概念，而实例（Instance）则是一个个具体的Student，比如，张三和李四是两个具体的Student。"
   ]
  },
  {
   "cell_type": "markdown",
   "id": "4f154b24",
   "metadata": {},
   "source": [
    "所以，面向对象的设计思想是抽象出Class，根据Class创建Instance。\n",
    "\n",
    "面向对象的抽象程度又比函数要高，因为一个Class既包含数据，又包含操作数据的方法。"
   ]
  },
  {
   "cell_type": "markdown",
   "id": "1406f549",
   "metadata": {},
   "source": [
    "### 创建类"
   ]
  },
  {
   "cell_type": "markdown",
   "id": "594ca72c",
   "metadata": {},
   "source": [
    "类的特殊方法\n",
    "Python 使用 __ 开头的名字来定义特殊的方法和属性，它们有：\n",
    "```python\n",
    "__init__()  \n",
    "__repr__()  \n",
    "__str__()  \n",
    "__call__()  \n",
    "__iter__()  \n",
    "__add__()  \n",
    "__sub__()  \n",
    "__mul__()  \n",
    "__rmul__()  \n",
    "__class__  \n",
    "__name__  \n",
    "```\n",
    "构造方法 `__init__()  `\n",
    "\n",
    "在产生对象之后，我们可以向对象中添加属性。 事实上，还可以通过构造方法，在构造对象的时候直接添加属性："
   ]
  },
  {
   "cell_type": "code",
   "execution_count": 49,
   "id": "f1d52c24",
   "metadata": {},
   "outputs": [
    {
     "data": {
      "text/plain": [
       "'green'"
      ]
     },
     "execution_count": 49,
     "metadata": {},
     "output_type": "execute_result"
    }
   ],
   "source": [
    "class Clothes(object):\n",
    "    \"\"\"\n",
    "    init_demo\n",
    "    \"\"\"\n",
    "\n",
    "    def __init__(self, color=\"green\"):\n",
    "        self.color = color\n",
    "\n",
    "\n",
    "my_clothes = Clothes()\n",
    "my_clothes.color"
   ]
  },
  {
   "cell_type": "markdown",
   "id": "9b44861a",
   "metadata": {},
   "source": [
    "传入有参数的值："
   ]
  },
  {
   "cell_type": "code",
   "execution_count": 50,
   "id": "3e2b6180",
   "metadata": {},
   "outputs": [
    {
     "data": {
      "text/plain": [
       "'orange'"
      ]
     },
     "execution_count": 50,
     "metadata": {},
     "output_type": "execute_result"
    }
   ],
   "source": [
    "your_clothes = Clothes('orange')\n",
    "your_clothes.color"
   ]
  },
  {
   "cell_type": "markdown",
   "id": "a1dd781d",
   "metadata": {},
   "source": [
    "表示方法 `__repr__()` 和 `__str__()`:"
   ]
  },
  {
   "cell_type": "code",
   "execution_count": 51,
   "id": "c05239c1",
   "metadata": {},
   "outputs": [],
   "source": [
    "class Clothes(object):\n",
    "    \"\"\"\n",
    "    repr and str demo\n",
    "    \"\"\"\n",
    "\n",
    "    def __init__(self, color=\"green\"):\n",
    "        self.color = color\n",
    "\n",
    "    def __str__(self):\n",
    "        \"This is a string to print.\"\n",
    "        return (\"a {} clothes\".format(self.color))\n",
    "\n",
    "    def __repr__(self):\n",
    "        \"This string recreates the object.\"\n",
    "        return (\"{}(color='{}')\".format(self.__class__.__name__, self.color))"
   ]
  },
  {
   "cell_type": "markdown",
   "id": "c88babce",
   "metadata": {},
   "source": [
    "`__str__() `是使用 print 函数显示的结果,类似java中的toString："
   ]
  },
  {
   "cell_type": "code",
   "execution_count": 52,
   "id": "220f8450",
   "metadata": {},
   "outputs": [
    {
     "name": "stdout",
     "output_type": "stream",
     "text": [
      "a green clothes\n"
     ]
    }
   ],
   "source": [
    "my_clothes = Clothes()\n",
    "print(my_clothes)"
   ]
  },
  {
   "cell_type": "markdown",
   "id": "fd6510ff",
   "metadata": {},
   "source": [
    "`__repr__()` 返回的是不使用 print 方法的结果:"
   ]
  },
  {
   "cell_type": "code",
   "execution_count": 53,
   "id": "5be97b56",
   "metadata": {},
   "outputs": [
    {
     "data": {
      "text/plain": [
       "Clothes(color='green')"
      ]
     },
     "execution_count": 53,
     "metadata": {},
     "output_type": "execute_result"
    }
   ],
   "source": [
    "my_clothes"
   ]
  },
  {
   "cell_type": "code",
   "execution_count": 54,
   "id": "7d4ea065",
   "metadata": {},
   "outputs": [
    {
     "name": "stdout",
     "output_type": "stream",
     "text": [
      "<class '__main__.Clothes'> Clothes green\n"
     ]
    }
   ],
   "source": [
    "print(my_clothes.__class__, my_clothes.__class__.__name__, my_clothes.color)"
   ]
  },
  {
   "cell_type": "code",
   "execution_count": 55,
   "id": "3f8e6e0c",
   "metadata": {},
   "outputs": [
    {
     "data": {
      "text/plain": [
       "(__main__.Clothes, 'Clothes', 'green')"
      ]
     },
     "execution_count": 55,
     "metadata": {},
     "output_type": "execute_result"
    }
   ],
   "source": [
    "my_clothes.__class__, my_clothes.__class__.__name__, my_clothes.color"
   ]
  },
  {
   "cell_type": "markdown",
   "id": "1fdf9aac",
   "metadata": {},
   "source": [
    "### 类的属性"
   ]
  },
  {
   "cell_type": "markdown",
   "id": "d36f9175",
   "metadata": {},
   "source": [
    "只读属性："
   ]
  },
  {
   "cell_type": "code",
   "execution_count": 56,
   "id": "d0b52a13",
   "metadata": {},
   "outputs": [],
   "source": [
    "class Clothes(object):\n",
    "    def __init__(self, price):\n",
    "        self.price = price\n",
    "\n",
    "    # 这样 discount_price 就变成属性了\n",
    "    @property\n",
    "    def discount_price(self):\n",
    "        return self.price * 0.8"
   ]
  },
  {
   "cell_type": "markdown",
   "id": "d145eba9",
   "metadata": {},
   "source": [
    "这里 discount_price 就是一个只读不写的属性了（注意是属性不是方法）, 而price是可读写的属性："
   ]
  },
  {
   "cell_type": "code",
   "execution_count": 57,
   "id": "358b8fe5",
   "metadata": {},
   "outputs": [
    {
     "name": "stdout",
     "output_type": "stream",
     "text": [
      "80.0\n"
     ]
    }
   ],
   "source": [
    "my_clothes = Clothes(100)\n",
    "print(my_clothes.discount_price)  # 80.0"
   ]
  },
  {
   "cell_type": "markdown",
   "id": "4d4a7ef7",
   "metadata": {},
   "source": [
    "可以修改price属性来改变discount_price："
   ]
  },
  {
   "cell_type": "code",
   "execution_count": 58,
   "id": "6d5eddc6",
   "metadata": {},
   "outputs": [
    {
     "name": "stdout",
     "output_type": "stream",
     "text": [
      "160.0\n"
     ]
    }
   ],
   "source": [
    "my_clothes.price = 200\n",
    "print(my_clothes.discount_price)  # 160.0"
   ]
  },
  {
   "cell_type": "code",
   "execution_count": 59,
   "id": "46ec5ea9",
   "metadata": {},
   "outputs": [
    {
     "ename": "TypeError",
     "evalue": "'float' object is not callable",
     "output_type": "error",
     "traceback": [
      "\u001b[1;31m---------------------------------------------------------------------------\u001b[0m",
      "\u001b[1;31mTypeError\u001b[0m                                 Traceback (most recent call last)",
      "\u001b[1;32m~\\AppData\\Local\\Temp/ipykernel_20008/455150684.py\u001b[0m in \u001b[0;36m<module>\u001b[1;34m\u001b[0m\n\u001b[1;32m----> 1\u001b[1;33m \u001b[0mmy_clothes\u001b[0m\u001b[1;33m.\u001b[0m\u001b[0mdiscount_price\u001b[0m\u001b[1;33m(\u001b[0m\u001b[1;33m)\u001b[0m\u001b[1;33m\u001b[0m\u001b[1;33m\u001b[0m\u001b[0m\n\u001b[0m",
      "\u001b[1;31mTypeError\u001b[0m: 'float' object is not callable"
     ]
    }
   ],
   "source": [
    "my_clothes.discount_price()"
   ]
  },
  {
   "cell_type": "code",
   "execution_count": 60,
   "id": "c5b8db20",
   "metadata": {},
   "outputs": [
    {
     "ename": "AttributeError",
     "evalue": "can't set attribute",
     "output_type": "error",
     "traceback": [
      "\u001b[1;31m---------------------------------------------------------------------------\u001b[0m",
      "\u001b[1;31mAttributeError\u001b[0m                            Traceback (most recent call last)",
      "\u001b[1;32m~\\AppData\\Local\\Temp/ipykernel_20008/3843021974.py\u001b[0m in \u001b[0;36m<module>\u001b[1;34m\u001b[0m\n\u001b[1;32m----> 1\u001b[1;33m \u001b[0mmy_clothes\u001b[0m\u001b[1;33m.\u001b[0m\u001b[0mdiscount_price\u001b[0m\u001b[1;33m=\u001b[0m\u001b[1;36m100\u001b[0m\u001b[1;33m\u001b[0m\u001b[1;33m\u001b[0m\u001b[0m\n\u001b[0m",
      "\u001b[1;31mAttributeError\u001b[0m: can't set attribute"
     ]
    }
   ],
   "source": [
    "my_clothes.discount_price=100"
   ]
  },
  {
   "cell_type": "markdown",
   "id": "16a626f2",
   "metadata": {},
   "source": [
    "`my_clothes.discount_price()`会报错，因为 my_clothes.discount_price 是属性，不是方法；\n",
    "\n",
    "`my_clothes.discount_price=100 `也会报错，因为只读。\n",
    "\n",
    "对于 `@property `生成的只读属性，我们可以使用相应的` @attr.setter` 修饰符来使得这个属性变成可写的："
   ]
  },
  {
   "cell_type": "code",
   "execution_count": 61,
   "id": "2e11dcb2",
   "metadata": {},
   "outputs": [],
   "source": [
    "class Clothes(object):\n",
    "    def __init__(self, price):\n",
    "        self.price = price\n",
    "\n",
    "    # 这样就变成属性了\n",
    "    @property\n",
    "    def discount_price(self):\n",
    "        return self.price * 0.8\n",
    "\n",
    "    @discount_price.setter\n",
    "    def discount_price(self, new_price):\n",
    "        self.price = new_price * 1.25"
   ]
  },
  {
   "cell_type": "code",
   "execution_count": 62,
   "id": "2691ec1d",
   "metadata": {},
   "outputs": [
    {
     "name": "stdout",
     "output_type": "stream",
     "text": [
      "80.0\n",
      "160.0\n",
      "225.0\n",
      "180.0\n"
     ]
    }
   ],
   "source": [
    "my_clothes = Clothes(100)\n",
    "print(my_clothes.discount_price)\n",
    "\n",
    "my_clothes.price = 200\n",
    "print(my_clothes.discount_price)\n",
    "# 修改 discount_price 属性：\n",
    "my_clothes.discount_price = 180\n",
    "print(my_clothes.price)\n",
    "print(my_clothes.discount_price)"
   ]
  },
  {
   "cell_type": "markdown",
   "id": "425de373",
   "metadata": {},
   "source": [
    "### 继承"
   ]
  },
  {
   "cell_type": "markdown",
   "id": "cc97a812",
   "metadata": {},
   "source": [
    "类定义的基本形式：\n",
    "```python\n",
    "class ClassName(ParentClass):\n",
    "    \"\"\"class docstring\"\"\"\n",
    "    def method(self):\n",
    "        return\n",
    "```\n",
    "里面的 ParentClass 就是用来继承的。"
   ]
  },
  {
   "cell_type": "markdown",
   "id": "72836736",
   "metadata": {},
   "source": [
    "例如，dog这个类会 '叫'，hound继承自dog，因此无需定义，hound自然也会 '叫'"
   ]
  },
  {
   "cell_type": "code",
   "execution_count": 63,
   "id": "6b1805a4",
   "metadata": {},
   "outputs": [],
   "source": [
    "class Clothes(object):\n",
    "    def __init__(self, color=\"green\"):\n",
    "        self.color = color\n",
    "\n",
    "    def out_print(self):\n",
    "        return self.__class__.__name__, self.color"
   ]
  },
  {
   "cell_type": "code",
   "execution_count": 64,
   "id": "4e296fcc",
   "metadata": {},
   "outputs": [
    {
     "data": {
      "text/plain": [
       "'green'"
      ]
     },
     "execution_count": 64,
     "metadata": {},
     "output_type": "execute_result"
    }
   ],
   "source": [
    "my_clothes = Clothes()\n",
    "my_clothes.color"
   ]
  },
  {
   "cell_type": "code",
   "execution_count": 65,
   "id": "1618e8db",
   "metadata": {},
   "outputs": [
    {
     "data": {
      "text/plain": [
       "('Clothes', 'green')"
      ]
     },
     "execution_count": 65,
     "metadata": {},
     "output_type": "execute_result"
    }
   ],
   "source": [
    "my_clothes.out_print()"
   ]
  },
  {
   "cell_type": "markdown",
   "id": "5d570d05",
   "metadata": {},
   "source": [
    "定义一个子类，继承父类的所有方法:"
   ]
  },
  {
   "cell_type": "code",
   "execution_count": 66,
   "id": "77515fdb",
   "metadata": {},
   "outputs": [],
   "source": [
    "class NikeClothes(Clothes):\n",
    "    def change_color(self):\n",
    "        if self.color == \"green\":\n",
    "            self.color = \"red\""
   ]
  },
  {
   "cell_type": "markdown",
   "id": "bca928d9",
   "metadata": {},
   "source": [
    "继承父类的所有方法："
   ]
  },
  {
   "cell_type": "code",
   "execution_count": 67,
   "id": "ccbe72ea",
   "metadata": {},
   "outputs": [
    {
     "data": {
      "text/plain": [
       "'green'"
      ]
     },
     "execution_count": 67,
     "metadata": {},
     "output_type": "execute_result"
    }
   ],
   "source": [
    "your_clothes = NikeClothes()\n",
    "your_clothes.color"
   ]
  },
  {
   "cell_type": "code",
   "execution_count": 68,
   "id": "b98f690f",
   "metadata": {},
   "outputs": [
    {
     "data": {
      "text/plain": [
       "('NikeClothes', 'green')"
      ]
     },
     "execution_count": 68,
     "metadata": {},
     "output_type": "execute_result"
    }
   ],
   "source": [
    "your_clothes.out_print()"
   ]
  },
  {
   "cell_type": "markdown",
   "id": "bec2d2f4",
   "metadata": {},
   "source": [
    "但有自己的方法："
   ]
  },
  {
   "cell_type": "code",
   "execution_count": 69,
   "id": "5c71d0b8",
   "metadata": {},
   "outputs": [
    {
     "data": {
      "text/plain": [
       "'red'"
      ]
     },
     "execution_count": 69,
     "metadata": {},
     "output_type": "execute_result"
    }
   ],
   "source": [
    "your_clothes.change_color()\n",
    "your_clothes.color"
   ]
  },
  {
   "cell_type": "markdown",
   "id": "524dcc49",
   "metadata": {},
   "source": [
    "如果想对父类的方法进行修改，只需要在子类中重定义这个类即可："
   ]
  },
  {
   "cell_type": "code",
   "execution_count": 70,
   "id": "deb009e0",
   "metadata": {},
   "outputs": [
    {
     "name": "stdout",
     "output_type": "stream",
     "text": [
      "green\n",
      "white\n",
      "('LiningClothes', 'white')\n"
     ]
    }
   ],
   "source": [
    "class LiningClothes(Clothes):\n",
    "    def change_color(self):\n",
    "        if self.color == \"green\":\n",
    "            self.color = \"white\"\n",
    "\n",
    "    def out_print(self):\n",
    "        self.change_color()\n",
    "        return self.__class__.__name__, self.color\n",
    "\n",
    "\n",
    "him_clothes = LiningClothes()\n",
    "print(him_clothes.color)\n",
    "\n",
    "him_clothes.change_color()\n",
    "print(him_clothes.color)\n",
    "print(him_clothes.out_print())"
   ]
  },
  {
   "cell_type": "markdown",
   "id": "b0305e4e",
   "metadata": {},
   "source": [
    "### super() 函数"
   ]
  },
  {
   "cell_type": "markdown",
   "id": "6df04ad1",
   "metadata": {},
   "source": [
    "`super(CurrentClassName, instance)`\n",
    "\n",
    "返回该类实例对应的父类对象。\n",
    "\n",
    "刚才 LiningClothes可以改写为："
   ]
  },
  {
   "cell_type": "code",
   "execution_count": 71,
   "id": "11f6d6be",
   "metadata": {},
   "outputs": [
    {
     "name": "stdout",
     "output_type": "stream",
     "text": [
      "green\n",
      "('NewLiningClothes', 'white')\n"
     ]
    }
   ],
   "source": [
    "class NewLiningClothes(Clothes):\n",
    "    def change_color(self):\n",
    "        if self.color == \"green\":\n",
    "            self.color = \"white\"\n",
    "\n",
    "    def out_print(self):\n",
    "        self.change_color()\n",
    "        print(super(NewLiningClothes, self).out_print())\n",
    "\n",
    "her_clothes = NewLiningClothes()\n",
    "print(her_clothes.color)\n",
    "\n",
    "her_clothes.out_print()"
   ]
  },
  {
   "cell_type": "markdown",
   "id": "2f8ef3b8",
   "metadata": {},
   "source": [
    "### 接口"
   ]
  },
  {
   "cell_type": "code",
   "execution_count": 72,
   "id": "ec4d9711",
   "metadata": {},
   "outputs": [],
   "source": [
    "class Clothes(object):\n",
    "    def __init__(self, color=\"green\"):\n",
    "        self.color = color\n",
    "\n",
    "    def out(self):\n",
    "        print(\"father.\")\n",
    "\n",
    "\n",
    "class NikeClothes(Clothes):\n",
    "    def out(self):\n",
    "        self.color = \"brown\"\n",
    "        super(NikeClothes, self).out()\n",
    "\n",
    "\n",
    "class liningClothes(object):\n",
    "    def out(self):\n",
    "        print(\"李宁\")"
   ]
  },
  {
   "cell_type": "markdown",
   "id": "81869777",
   "metadata": {},
   "source": [
    "因为三个类都实现了 out() 方法，因此可以这样使用："
   ]
  },
  {
   "cell_type": "code",
   "execution_count": 73,
   "id": "d041c19f",
   "metadata": {},
   "outputs": [
    {
     "ename": "NameError",
     "evalue": "name 'AdidasClothes' is not defined",
     "output_type": "error",
     "traceback": [
      "\u001b[1;31m---------------------------------------------------------------------------\u001b[0m",
      "\u001b[1;31mNameError\u001b[0m                                 Traceback (most recent call last)",
      "\u001b[1;32m~\\AppData\\Local\\Temp/ipykernel_20008/3337002259.py\u001b[0m in \u001b[0;36m<module>\u001b[1;34m\u001b[0m\n\u001b[1;32m----> 1\u001b[1;33m \u001b[0mobjects\u001b[0m \u001b[1;33m=\u001b[0m \u001b[1;33m[\u001b[0m\u001b[0mClothes\u001b[0m\u001b[1;33m(\u001b[0m\u001b[1;33m)\u001b[0m\u001b[1;33m,\u001b[0m \u001b[0mNikeClothes\u001b[0m\u001b[1;33m(\u001b[0m\u001b[1;33m)\u001b[0m\u001b[1;33m,\u001b[0m \u001b[0mAdidasClothes\u001b[0m\u001b[1;33m(\u001b[0m\u001b[1;33m)\u001b[0m\u001b[1;33m]\u001b[0m\u001b[1;33m\u001b[0m\u001b[1;33m\u001b[0m\u001b[0m\n\u001b[0m\u001b[0;32m      2\u001b[0m \u001b[1;32mfor\u001b[0m \u001b[0mobj\u001b[0m \u001b[1;32min\u001b[0m \u001b[0mobjects\u001b[0m\u001b[1;33m:\u001b[0m\u001b[1;33m\u001b[0m\u001b[1;33m\u001b[0m\u001b[0m\n\u001b[0;32m      3\u001b[0m     \u001b[0mobj\u001b[0m\u001b[1;33m.\u001b[0m\u001b[0mout\u001b[0m\u001b[1;33m(\u001b[0m\u001b[1;33m)\u001b[0m\u001b[1;33m\u001b[0m\u001b[1;33m\u001b[0m\u001b[0m\n",
      "\u001b[1;31mNameError\u001b[0m: name 'AdidasClothes' is not defined"
     ]
    }
   ],
   "source": [
    "objects = [Clothes(), NikeClothes(), AdidasClothes()]\n",
    "for obj in objects:\n",
    "    obj.out()"
   ]
  },
  {
   "cell_type": "markdown",
   "id": "cd499bf7",
   "metadata": {},
   "source": [
    "### 类方法"
   ]
  },
  {
   "cell_type": "markdown",
   "id": "1229ef95",
   "metadata": {},
   "source": [
    "类方法包括以下几种：\n",
    "\n",
    "1. special 方法和属性，即以 __ 开头和结尾的方法和属性 （__两个横线）  \n",
    "2. 私有方法和属性，以 _ 开头，不过不是真正私有，而是可以调用的， （_一个横线）  \n",
    "3. 共有的方法和属性\n",
    "\n",
    "以 `__` 开头不以 `__` 结尾的属性是更加特殊的方法，调用方式也不同："
   ]
  },
  {
   "cell_type": "code",
   "execution_count": 74,
   "id": "2c0f8b1b",
   "metadata": {},
   "outputs": [],
   "source": [
    "class MyDemoClass(object):\n",
    "    def __init__(self):\n",
    "        print(\"special.\")\n",
    "\n",
    "    def _get_name(self):\n",
    "        print(\"_get_name is private method.\")\n",
    "\n",
    "    def get_value(self):\n",
    "        print(\"get_value is public method.\")\n",
    "\n",
    "    def __get_type(self):\n",
    "        print(\"__get_type is really special method.\")"
   ]
  },
  {
   "cell_type": "code",
   "execution_count": 75,
   "id": "4c6bb807",
   "metadata": {},
   "outputs": [
    {
     "name": "stdout",
     "output_type": "stream",
     "text": [
      "special.\n"
     ]
    }
   ],
   "source": [
    "demo = MyDemoClass()"
   ]
  },
  {
   "cell_type": "code",
   "execution_count": 76,
   "id": "78ae40ab",
   "metadata": {},
   "outputs": [
    {
     "name": "stdout",
     "output_type": "stream",
     "text": [
      "get_value is public method.\n",
      "_get_name is private method.\n",
      "__get_type is really special method.\n"
     ]
    }
   ],
   "source": [
    "demo.get_value()\n",
    "demo._get_name()\n",
    "demo._MyDemoClass__get_type()"
   ]
  },
  {
   "cell_type": "markdown",
   "id": "21982a4a",
   "metadata": {},
   "source": [
    "## 14 os 模块 "
   ]
  },
  {
   "cell_type": "markdown",
   "id": "67923214",
   "metadata": {},
   "source": [
    "Python的内置os模块，是与操作系统进行交互的模块，主要有如下功能：\n",
    "- `os.remove(path)` 或 `os.unlink(path)` ：删除指定路径的文件。路径可以是全名，也可以是当前工作目录下的路径。\n",
    "- `os.removedirs`：删除文件，并删除中间路径中的空文件夹\n",
    "- `os.chdir(path)`：将当前工作目录改变为指定的路径\n",
    "- `os.getcwd()`：返回当前的工作目录\n",
    "- `os.curdir`：表示当前目录的符号\n",
    "- `os.rename(old, new)`：重命名文件\n",
    "- `os.renames(old, new)`：重命名文件，如果中间路径的文件夹不存在，则创建文件夹\n",
    "- `os.listdir(path)`：返回给定目录下的所有文件夹和文件名，不包括 '.' 和 '..' 以及子文件夹下的目录。（'.' 和 '..' 分别指当前目录和父目录）\n",
    "- `os.mkdir(name)`：产生新文件夹\n",
    "- `os.makedirs(name)`：产生新文件夹，如果中间路径的文件夹不存在，则创建文件夹"
   ]
  },
  {
   "cell_type": "markdown",
   "id": "b9646aaa",
   "metadata": {},
   "source": [
    "导入该模块："
   ]
  },
  {
   "cell_type": "code",
   "execution_count": 77,
   "id": "f07b9275",
   "metadata": {},
   "outputs": [],
   "source": [
    "import os"
   ]
  },
  {
   "cell_type": "markdown",
   "id": "380d6d6c",
   "metadata": {},
   "source": [
    "产生文件："
   ]
  },
  {
   "cell_type": "code",
   "execution_count": 78,
   "id": "1bf8a0db",
   "metadata": {},
   "outputs": [
    {
     "name": "stdout",
     "output_type": "stream",
     "text": [
      "True\n"
     ]
    }
   ],
   "source": [
    "f = open('test.file', 'w')\n",
    "f.close()\n",
    "print('test.file' in os.listdir(os.curdir))"
   ]
  },
  {
   "cell_type": "markdown",
   "id": "c22a4971",
   "metadata": {},
   "source": [
    "重命名文件:"
   ]
  },
  {
   "cell_type": "code",
   "execution_count": 79,
   "id": "b5269a21",
   "metadata": {},
   "outputs": [
    {
     "name": "stdout",
     "output_type": "stream",
     "text": [
      "False\n",
      "True\n"
     ]
    }
   ],
   "source": [
    "os.rename(\"test.file\", \"test.new.file\")\n",
    "print(\"test.file\" in os.listdir(os.curdir))\n",
    "print(\"test.new.file\" in os.listdir(os.curdir))"
   ]
  },
  {
   "cell_type": "code",
   "execution_count": 80,
   "id": "a86219c4",
   "metadata": {},
   "outputs": [],
   "source": [
    "# 删除文件\n",
    "os.remove(\"test.new.file\")"
   ]
  },
  {
   "cell_type": "markdown",
   "id": "2de822f0",
   "metadata": {},
   "source": [
    "系统常量"
   ]
  },
  {
   "cell_type": "markdown",
   "id": "cb4b9d88",
   "metadata": {},
   "source": [
    "换行符\n",
    "windows 为 \\r\\n  \n",
    "unix为 \\n"
   ]
  },
  {
   "cell_type": "code",
   "execution_count": 81,
   "id": "45cf6d6e",
   "metadata": {},
   "outputs": [
    {
     "data": {
      "text/plain": [
       "'\\r\\n'"
      ]
     },
     "execution_count": 81,
     "metadata": {},
     "output_type": "execute_result"
    }
   ],
   "source": [
    "os.linesep"
   ]
  },
  {
   "cell_type": "markdown",
   "id": "f91293be",
   "metadata": {},
   "source": [
    "os.environ 是一个存储所有环境变量的值的字典，可以修改。"
   ]
  },
  {
   "cell_type": "code",
   "execution_count": 82,
   "id": "5c54d734",
   "metadata": {},
   "outputs": [
    {
     "data": {
      "text/plain": [
       "environ{'ALLUSERSPROFILE': 'C:\\\\ProgramData',\n",
       "        'APPDATA': 'C:\\\\Users\\\\36124\\\\AppData\\\\Roaming',\n",
       "        'COMMONPROGRAMFILES': 'C:\\\\Program Files\\\\Common Files',\n",
       "        'COMMONPROGRAMFILES(X86)': 'C:\\\\Program Files (x86)\\\\Common Files',\n",
       "        'COMMONPROGRAMW6432': 'C:\\\\Program Files\\\\Common Files',\n",
       "        'COMPUTERNAME': 'LAPTOP-O0LMHJ9A',\n",
       "        'COMSPEC': 'C:\\\\Windows\\\\system32\\\\cmd.exe',\n",
       "        'DRIVERDATA': 'C:\\\\Windows\\\\System32\\\\Drivers\\\\DriverData',\n",
       "        'ENVI53_GPTOOLS': 'C:\\\\Program Files\\\\Exelis\\\\IDL85',\n",
       "        'FPS_BROWSER_APP_PROFILE_STRING': 'Internet Explorer',\n",
       "        'FPS_BROWSER_USER_PROFILE_STRING': 'Default',\n",
       "        'HOMEDRIVE': 'C:',\n",
       "        'HOMEPATH': '\\\\Users\\\\36124',\n",
       "        'LOCALAPPDATA': 'C:\\\\Users\\\\36124\\\\AppData\\\\Local',\n",
       "        'LOGONSERVER': '\\\\\\\\LAPTOP-O0LMHJ9A',\n",
       "        'NUMBER_OF_PROCESSORS': '16',\n",
       "        'ONEDRIVE': 'C:\\\\Users\\\\36124\\\\OneDrive',\n",
       "        'ONEDRIVECONSUMER': 'C:\\\\Users\\\\36124\\\\OneDrive',\n",
       "        'OS': 'Windows_NT',\n",
       "        'PATH': 'D:\\\\python\\\\conda\\\\anaconda;D:\\\\python\\\\conda\\\\anaconda\\\\Library\\\\mingw-w64\\\\bin;D:\\\\python\\\\conda\\\\anaconda\\\\Library\\\\usr\\\\bin;D:\\\\python\\\\conda\\\\anaconda\\\\Library\\\\bin;D:\\\\python\\\\conda\\\\anaconda\\\\Scripts;C:\\\\Windows\\\\system32;C:\\\\Windows;C:\\\\Windows\\\\System32\\\\Wbem;C:\\\\Windows\\\\System32\\\\WindowsPowerShell\\\\v1.0\\\\;C:\\\\Windows\\\\System32\\\\OpenSSH\\\\;C:\\\\Program Files (x86)\\\\NVIDIA Corporation\\\\PhysX\\\\Common;C:\\\\Program Files\\\\NVIDIA Corporation\\\\NVIDIA NvDLISR;C:\\\\Windows\\\\System32\\\\Wbem;D:\\\\网络\\\\yuancheng\\\\;D:\\\\网络\\\\XSHELL\\\\;C:\\\\Program Files\\\\TortoiseSVN\\\\bin;C:\\\\Users\\\\36124\\\\AppData\\\\Local\\\\Programs\\\\Python\\\\Python37\\\\Scripts\\\\;C:\\\\Users\\\\36124\\\\AppData\\\\Local\\\\Programs\\\\Python\\\\Python37\\\\;C:\\\\Users\\\\36124\\\\AppData\\\\Local\\\\Microsoft\\\\WindowsApps;;D:\\\\python\\\\pycharm\\\\PyCharm Community Edition 2021.3.2\\\\bin;;C:\\\\Users\\\\36124\\\\AppData\\\\Roaming\\\\TinyTeX\\\\bin\\\\win32;C:\\\\Windows\\\\System32\\\\Wbem',\n",
       "        'PATHEXT': '.COM;.EXE;.BAT;.CMD;.VBS;.VBE;.JS;.JSE;.WSF;.WSH;.MSC',\n",
       "        'PROCESSOR_ARCHITECTURE': 'AMD64',\n",
       "        'PROCESSOR_IDENTIFIER': 'AMD64 Family 25 Model 80 Stepping 0, AuthenticAMD',\n",
       "        'PROCESSOR_LEVEL': '25',\n",
       "        'PROCESSOR_REVISION': '5000',\n",
       "        'PROGRAMDATA': 'C:\\\\ProgramData',\n",
       "        'PROGRAMFILES': 'C:\\\\Program Files',\n",
       "        'PROGRAMFILES(X86)': 'C:\\\\Program Files (x86)',\n",
       "        'PROGRAMW6432': 'C:\\\\Program Files',\n",
       "        'PSMODULEPATH': 'C:\\\\Program Files\\\\WindowsPowerShell\\\\Modules;C:\\\\Windows\\\\system32\\\\WindowsPowerShell\\\\v1.0\\\\Modules',\n",
       "        'PUBLIC': 'C:\\\\Users\\\\Public',\n",
       "        'PYCHARM COMMUNITY EDITION': 'D:\\\\python\\\\pycharm\\\\PyCharm Community Edition 2021.3.2\\\\bin;',\n",
       "        'RTOOLS40_HOME': 'C:\\\\rtools40',\n",
       "        'SESSIONNAME': 'Console',\n",
       "        'SYSTEMDRIVE': 'C:',\n",
       "        'SYSTEMROOT': 'C:\\\\Windows',\n",
       "        'TEMP': 'C:\\\\Users\\\\36124\\\\AppData\\\\Local\\\\Temp',\n",
       "        'TMP': 'C:\\\\Users\\\\36124\\\\AppData\\\\Local\\\\Temp',\n",
       "        'USERDOMAIN': 'LAPTOP-O0LMHJ9A',\n",
       "        'USERDOMAIN_ROAMINGPROFILE': 'LAPTOP-O0LMHJ9A',\n",
       "        'USERNAME': '36124',\n",
       "        'USERPROFILE': 'C:\\\\Users\\\\36124',\n",
       "        'WINDIR': 'C:\\\\Windows',\n",
       "        'CONDA_PREFIX': 'D:\\\\python\\\\conda\\\\anaconda',\n",
       "        'PYDEVD_USE_FRAME_EVAL': 'NO',\n",
       "        'JPY_INTERRUPT_EVENT': '3264',\n",
       "        'IPY_INTERRUPT_EVENT': '3264',\n",
       "        'JPY_PARENT_PID': '3260',\n",
       "        'TERM': 'xterm-color',\n",
       "        'CLICOLOR': '1',\n",
       "        'PAGER': 'cat',\n",
       "        'GIT_PAGER': 'cat',\n",
       "        'MPLBACKEND': 'module://matplotlib_inline.backend_inline'}"
      ]
     },
     "execution_count": 82,
     "metadata": {},
     "output_type": "execute_result"
    }
   ],
   "source": [
    "os.environ"
   ]
  },
  {
   "cell_type": "markdown",
   "id": "cc75b666",
   "metadata": {},
   "source": [
    "os.path 模块"
   ]
  },
  {
   "cell_type": "markdown",
   "id": "1d094054",
   "metadata": {},
   "source": [
    "- os.path.isfile(path) ：检测一个路径是否为普通文件\n",
    "- os.path.isdir(path)：检测一个路径是否为文件夹\n",
    "- os.path.exists(path)：检测路径是否存在\n",
    "- os.path.isabs(path)：检测路径是否为绝对路径"
   ]
  },
  {
   "cell_type": "markdown",
   "id": "b504e230",
   "metadata": {},
   "source": [
    "split 和 join"
   ]
  },
  {
   "cell_type": "markdown",
   "id": "f021a2ee",
   "metadata": {},
   "source": [
    "- os.path.split(path)：拆分一个路径为 (head, tail) 两部分\n",
    "- os.path.join(a, *p)：使用系统的路径分隔符，将各个部分合成一个路径"
   ]
  },
  {
   "cell_type": "markdown",
   "id": "aeabcd56",
   "metadata": {},
   "source": [
    "列出当前文件夹的所有文件："
   ]
  },
  {
   "cell_type": "code",
   "execution_count": 83,
   "id": "127696ce",
   "metadata": {},
   "outputs": [
    {
     "name": "stdout",
     "output_type": "stream",
     "text": [
      ".\n"
     ]
    }
   ],
   "source": [
    "dir = os.curdir\n",
    "print(dir)"
   ]
  },
  {
   "cell_type": "markdown",
   "id": "b6aec3f1",
   "metadata": {},
   "source": [
    "### 15 Numpy "
   ]
  },
  {
   "cell_type": "markdown",
   "id": "49bc34d4",
   "metadata": {},
   "source": [
    "数组：array"
   ]
  },
  {
   "cell_type": "markdown",
   "id": "72169f11",
   "metadata": {},
   "source": [
    "很多其他科学计算的第三方库都是以Numpy为基础建立的。\n",
    "\n",
    "Numpy的一个重要特性是它的数组计算。\n",
    "\n",
    "使用前一定要先导入 Numpy 包，导入的方法有以下几种：\n",
    "```python\n",
    "import numpy\n",
    "import numpy as np\n",
    "from numpy import *\n",
    "from numpy import array, sin\n",
    "```"
   ]
  },
  {
   "cell_type": "code",
   "execution_count": 84,
   "id": "04d83990",
   "metadata": {},
   "outputs": [],
   "source": [
    "import numpy as np"
   ]
  },
  {
   "cell_type": "markdown",
   "id": "3476f977",
   "metadata": {},
   "source": [
    "假如我们想将列表中的每个元素增加1，但列表不支持这样的操作（报错）："
   ]
  },
  {
   "cell_type": "code",
   "execution_count": 85,
   "id": "e2440e25",
   "metadata": {},
   "outputs": [],
   "source": [
    "a = [1, 2]\n",
    "\n",
    "# a + 1 # 报错"
   ]
  },
  {
   "cell_type": "code",
   "execution_count": 86,
   "id": "d207e4dc",
   "metadata": {},
   "outputs": [
    {
     "ename": "TypeError",
     "evalue": "can only concatenate list (not \"int\") to list",
     "output_type": "error",
     "traceback": [
      "\u001b[1;31m---------------------------------------------------------------------------\u001b[0m",
      "\u001b[1;31mTypeError\u001b[0m                                 Traceback (most recent call last)",
      "\u001b[1;32m~\\AppData\\Local\\Temp/ipykernel_20008/4093587236.py\u001b[0m in \u001b[0;36m<module>\u001b[1;34m\u001b[0m\n\u001b[1;32m----> 1\u001b[1;33m \u001b[0ma\u001b[0m\u001b[1;33m+\u001b[0m\u001b[1;36m1\u001b[0m\u001b[1;33m\u001b[0m\u001b[1;33m\u001b[0m\u001b[0m\n\u001b[0m",
      "\u001b[1;31mTypeError\u001b[0m: can only concatenate list (not \"int\") to list"
     ]
    }
   ],
   "source": [
    "a+1"
   ]
  },
  {
   "cell_type": "markdown",
   "id": "be92594d",
   "metadata": {},
   "source": [
    "使用numpy.array："
   ]
  },
  {
   "cell_type": "code",
   "execution_count": 87,
   "id": "a82248e8",
   "metadata": {},
   "outputs": [
    {
     "data": {
      "text/plain": [
       "array([1, 2])"
      ]
     },
     "execution_count": 87,
     "metadata": {},
     "output_type": "execute_result"
    }
   ],
   "source": [
    "a = np.array(a)\n",
    "a  # [1 2]"
   ]
  },
  {
   "cell_type": "code",
   "execution_count": 88,
   "id": "d07dee09",
   "metadata": {},
   "outputs": [
    {
     "data": {
      "text/plain": [
       "array([2, 3])"
      ]
     },
     "execution_count": 88,
     "metadata": {},
     "output_type": "execute_result"
    }
   ],
   "source": [
    "b = a + 1\n",
    "b  # array([2,3])"
   ]
  },
  {
   "cell_type": "markdown",
   "id": "cf1d28c0",
   "metadata": {},
   "source": [
    "与另一个 array 相加，得到对应元素相加的结果："
   ]
  },
  {
   "cell_type": "code",
   "execution_count": 89,
   "id": "320d8c10",
   "metadata": {},
   "outputs": [
    {
     "name": "stdout",
     "output_type": "stream",
     "text": [
      "[3 5]\n",
      "[2 6]\n",
      "[1 8]\n"
     ]
    }
   ],
   "source": [
    "c = a + b\n",
    "print(c)  # array([3,5])\n",
    "\n",
    "# 对应元素相乘：\n",
    "print(a * b)  # [2 6]\n",
    "\n",
    "# 对应元素乘方：\n",
    "print(a ** b)  # [1 8]"
   ]
  },
  {
   "cell_type": "markdown",
   "id": "ac037aff",
   "metadata": {},
   "source": [
    "提取数组中的元素"
   ]
  },
  {
   "cell_type": "code",
   "execution_count": 90,
   "id": "3abf42f4",
   "metadata": {},
   "outputs": [
    {
     "name": "stdout",
     "output_type": "stream",
     "text": [
      "1\n",
      "[1 2]\n",
      "[3 4]\n",
      "[4 6]\n"
     ]
    }
   ],
   "source": [
    "# 提取第一个\n",
    "a = np.array([1, 2, 3, 4])\n",
    "print(a[0])  # 1\n",
    "\n",
    "# 提取前两个元素：\n",
    "print(a[:2])  # [1 2]\n",
    "\n",
    "# 最后两个元素\n",
    "print(a[-2:])  # [3 4]\n",
    "\n",
    "# 相加：\n",
    "print(a[:2] + a[-2:])  # [4 6]"
   ]
  },
  {
   "cell_type": "markdown",
   "id": "af65504b",
   "metadata": {},
   "source": [
    "查看数组形状"
   ]
  },
  {
   "cell_type": "code",
   "execution_count": 91,
   "id": "0ee162bb",
   "metadata": {},
   "outputs": [
    {
     "data": {
      "text/plain": [
       "(4,)"
      ]
     },
     "execution_count": 91,
     "metadata": {},
     "output_type": "execute_result"
    }
   ],
   "source": [
    "b = a.shape\n",
    "b  # (4,)"
   ]
  },
  {
   "cell_type": "markdown",
   "id": "b24fabb1",
   "metadata": {},
   "source": [
    "修改数组形状"
   ]
  },
  {
   "cell_type": "code",
   "execution_count": 92,
   "id": "5ac11c5e",
   "metadata": {},
   "outputs": [
    {
     "name": "stdout",
     "output_type": "stream",
     "text": [
      "[1 2 3 4]\n",
      "修改后\n",
      "[[1 2]\n",
      " [3 4]]\n"
     ]
    }
   ],
   "source": [
    "# 修改 array 的形状：\n",
    "print(a)\n",
    "a.shape = 2, 2\n",
    "print('修改后')\n",
    "print(a)\n",
    "# [[1 2]\n",
    "# [3 4]]"
   ]
  },
  {
   "cell_type": "code",
   "execution_count": 93,
   "id": "1dbd1883",
   "metadata": {},
   "outputs": [
    {
     "data": {
      "text/plain": [
       "array([[2, 4],\n",
       "       [6, 8]])"
      ]
     },
     "execution_count": 93,
     "metadata": {},
     "output_type": "execute_result"
    }
   ],
   "source": [
    "# 多维数组\n",
    "# a 现在变成了一个二维的数组，可以进行加法：\n",
    "a + a\n",
    "# [[2 4]\n",
    "#  [6 8]]"
   ]
  },
  {
   "cell_type": "code",
   "execution_count": 94,
   "id": "33e5ed61",
   "metadata": {},
   "outputs": [
    {
     "data": {
      "text/plain": [
       "array([[ 1,  4],\n",
       "       [ 9, 16]])"
      ]
     },
     "execution_count": 94,
     "metadata": {},
     "output_type": "execute_result"
    }
   ],
   "source": [
    "# 乘法仍然是对应元素的乘积，并不是按照矩阵乘法来计算：\n",
    "a * a\n",
    "# [[ 1  4]\n",
    "# [ 9 16]]"
   ]
  },
  {
   "cell_type": "markdown",
   "id": "eec66dc3",
   "metadata": {},
   "source": [
    "### 矩阵转置"
   ]
  },
  {
   "cell_type": "code",
   "execution_count": 95,
   "id": "a1e8a48b",
   "metadata": {},
   "outputs": [
    {
     "data": {
      "text/plain": [
       "array([[0, 1, 2, 3],\n",
       "       [4, 5, 6, 7]])"
      ]
     },
     "execution_count": 95,
     "metadata": {},
     "output_type": "execute_result"
    }
   ],
   "source": [
    "M = np.array([[0, 1, 2, 3], [4, 5, 6, 7]])\n",
    "M"
   ]
  },
  {
   "cell_type": "code",
   "execution_count": 96,
   "id": "a8a1e744",
   "metadata": {},
   "outputs": [
    {
     "name": "stdout",
     "output_type": "stream",
     "text": [
      "[[0 4]\n",
      " [1 5]\n",
      " [2 6]\n",
      " [3 7]]\n",
      "[[0 1 2 3]\n",
      " [4 5 6 7]]\n",
      "(2, 4)\n"
     ]
    }
   ],
   "source": [
    "print(M.T)\n",
    "print(M)\n",
    "print(M.shape)  # 数组形状 (m,n,o,...)"
   ]
  },
  {
   "cell_type": "code",
   "execution_count": 97,
   "id": "2caca05b",
   "metadata": {},
   "outputs": [
    {
     "name": "stdout",
     "output_type": "stream",
     "text": [
      "8\n",
      "[[0 1]\n",
      " [2 3]\n",
      " [4 5]\n",
      " [6 7]]\n",
      "(4, 2)\n"
     ]
    }
   ],
   "source": [
    "print(M.size)  # 数组元素数\n",
    "M.resize((4, 2))\n",
    "print(M)\n",
    "print(M.shape)"
   ]
  },
  {
   "cell_type": "markdown",
   "id": "22a4eb38",
   "metadata": {},
   "source": [
    "### squeeze"
   ]
  },
  {
   "cell_type": "markdown",
   "id": "e39ee880",
   "metadata": {},
   "source": [
    "把shape为1的维度去掉："
   ]
  },
  {
   "cell_type": "code",
   "execution_count": 98,
   "id": "ce7f698a",
   "metadata": {},
   "outputs": [
    {
     "data": {
      "text/plain": [
       "array([[0, 1, 2, 3, 4, 5, 6, 7, 8, 9]])"
      ]
     },
     "execution_count": 98,
     "metadata": {},
     "output_type": "execute_result"
    }
   ],
   "source": [
    "s = np.arange(10).reshape(1,10)\n",
    "s"
   ]
  },
  {
   "cell_type": "code",
   "execution_count": 99,
   "id": "b496c3b9",
   "metadata": {},
   "outputs": [
    {
     "data": {
      "text/plain": [
       "(1, 10)"
      ]
     },
     "execution_count": 99,
     "metadata": {},
     "output_type": "execute_result"
    }
   ],
   "source": [
    "s.shape"
   ]
  },
  {
   "cell_type": "code",
   "execution_count": 100,
   "id": "dc195947",
   "metadata": {},
   "outputs": [
    {
     "data": {
      "text/plain": [
       "array([0, 1, 2, 3, 4, 5, 6, 7, 8, 9])"
      ]
     },
     "execution_count": 100,
     "metadata": {},
     "output_type": "execute_result"
    }
   ],
   "source": [
    "t = np.squeeze(s)\n",
    "t"
   ]
  },
  {
   "cell_type": "code",
   "execution_count": 101,
   "id": "11a3c7f6",
   "metadata": {},
   "outputs": [
    {
     "data": {
      "text/plain": [
       "(10,)"
      ]
     },
     "execution_count": 101,
     "metadata": {},
     "output_type": "execute_result"
    }
   ],
   "source": [
    "t.shape"
   ]
  },
  {
   "cell_type": "markdown",
   "id": "0f813d5e",
   "metadata": {},
   "source": [
    "多维的例子"
   ]
  },
  {
   "cell_type": "code",
   "execution_count": 102,
   "id": "97acd571",
   "metadata": {},
   "outputs": [
    {
     "name": "stdout",
     "output_type": "stream",
     "text": [
      "[[[0 1 2 3 4]\n",
      "  [5 6 7 8 9]]]\n",
      "(1, 2, 5)\n"
     ]
    }
   ],
   "source": [
    "s2 = np.arange(10).reshape(1, 2, 5)\n",
    "print(s2)\n",
    "\n",
    "print(s2.shape)"
   ]
  },
  {
   "cell_type": "code",
   "execution_count": 103,
   "id": "7b8f15f3",
   "metadata": {},
   "outputs": [
    {
     "data": {
      "text/plain": [
       "(2, 5)"
      ]
     },
     "execution_count": 103,
     "metadata": {},
     "output_type": "execute_result"
    }
   ],
   "source": [
    "t2 = np.squeeze(s2)\n",
    "t2.shape"
   ]
  },
  {
   "cell_type": "code",
   "execution_count": 104,
   "id": "02b80863",
   "metadata": {},
   "outputs": [
    {
     "data": {
      "text/plain": [
       "(1, 2, 5)"
      ]
     },
     "execution_count": 104,
     "metadata": {},
     "output_type": "execute_result"
    }
   ],
   "source": [
    "s2.shape"
   ]
  },
  {
   "cell_type": "markdown",
   "id": "c49dd5f2",
   "metadata": {},
   "source": [
    "## 16 matplotlab 画图工具 "
   ]
  },
  {
   "cell_type": "markdown",
   "id": "9dced01c",
   "metadata": {},
   "source": [
    "画图，引入matplotlib库的pyplot方法：\n",
    "\n",
    "linspace 用来生成一组等间隔的数据："
   ]
  },
  {
   "cell_type": "code",
   "execution_count": 105,
   "id": "b18b4eac",
   "metadata": {},
   "outputs": [
    {
     "data": {
      "text/plain": [
       "array([0.        , 0.6981317 , 1.3962634 , 2.0943951 , 2.7925268 ,\n",
       "       3.4906585 , 4.1887902 , 4.88692191, 5.58505361, 6.28318531])"
      ]
     },
     "execution_count": 105,
     "metadata": {},
     "output_type": "execute_result"
    }
   ],
   "source": [
    "import numpy as np\n",
    "from matplotlib import pyplot as plt\n",
    "\n",
    "a = np.linspace(0, 2 * np.pi, 10)\n",
    "a"
   ]
  },
  {
   "cell_type": "code",
   "execution_count": 106,
   "id": "c3dc36a7",
   "metadata": {},
   "outputs": [
    {
     "data": {
      "text/plain": [
       "array([ 0.00000000e+00,  6.42787610e-01,  9.84807753e-01,  8.66025404e-01,\n",
       "        3.42020143e-01, -3.42020143e-01, -8.66025404e-01, -9.84807753e-01,\n",
       "       -6.42787610e-01, -2.44929360e-16])"
      ]
     },
     "execution_count": 106,
     "metadata": {},
     "output_type": "execute_result"
    }
   ],
   "source": [
    "# 三角函数\n",
    "b = np.sin(a)\n",
    "b"
   ]
  },
  {
   "cell_type": "code",
   "execution_count": 107,
   "id": "d6c3d5fb",
   "metadata": {},
   "outputs": [
    {
     "data": {
      "image/png": "[encoded data removed]",
      "text/plain": [
       "<Figure size 432x288 with 1 Axes>"
      ]
     },
     "metadata": {
      "needs_background": "light"
     },
     "output_type": "display_data"
    }
   ],
   "source": [
    "plt.plot(a, b)\n",
    "plt.show() # 正弦图"
   ]
  },
  {
   "cell_type": "code",
   "execution_count": 108,
   "id": "fd60010a",
   "metadata": {},
   "outputs": [
    {
     "name": "stdout",
     "output_type": "stream",
     "text": [
      "Help on function plot in module matplotlib.pyplot:\n",
      "\n",
      "plot(*args, scalex=True, scaley=True, data=None, **kwargs)\n",
      "    Plot y versus x as lines and/or markers.\n",
      "    \n",
      "    Call signatures::\n",
      "    \n",
      "        plot([x], y, [fmt], *, data=None, **kwargs)\n",
      "        plot([x], y, [fmt], [x2], y2, [fmt2], ..., **kwargs)\n",
      "    \n",
      "    The coordinates of the points or line nodes are given by *x*, *y*.\n",
      "    \n",
      "    The optional parameter *fmt* is a convenient way for defining basic\n",
      "    formatting like color, marker and linestyle. It's a shortcut string\n",
      "    notation described in the *Notes* section below.\n",
      "    \n",
      "    >>> plot(x, y)        # plot x and y using default line style and color\n",
      "    >>> plot(x, y, 'bo')  # plot x and y using blue circle markers\n",
      "    >>> plot(y)           # plot y using x as index array 0..N-1\n",
      "    >>> plot(y, 'r+')     # ditto, but with red plusses\n",
      "    \n",
      "    You can use `.Line2D` properties as keyword arguments for more\n",
      "    control on the appearance. Line properties and *fmt* can be mixed.\n",
      "    The following two calls yield identical results:\n",
      "    \n",
      "    >>> plot(x, y, 'go--', linewidth=2, markersize=12)\n",
      "    >>> plot(x, y, color='green', marker='o', linestyle='dashed',\n",
      "    ...      linewidth=2, markersize=12)\n",
      "    \n",
      "    When conflicting with *fmt*, keyword arguments take precedence.\n",
      "    \n",
      "    \n",
      "    **Plotting labelled data**\n",
      "    \n",
      "    There's a convenient way for plotting objects with labelled data (i.e.\n",
      "    data that can be accessed by index ``obj['y']``). Instead of giving\n",
      "    the data in *x* and *y*, you can provide the object in the *data*\n",
      "    parameter and just give the labels for *x* and *y*::\n",
      "    \n",
      "    >>> plot('xlabel', 'ylabel', data=obj)\n",
      "    \n",
      "    All indexable objects are supported. This could e.g. be a `dict`, a\n",
      "    `pandas.DataFrame` or a structured numpy array.\n",
      "    \n",
      "    \n",
      "    **Plotting multiple sets of data**\n",
      "    \n",
      "    There are various ways to plot multiple sets of data.\n",
      "    \n",
      "    - The most straight forward way is just to call `plot` multiple times.\n",
      "      Example:\n",
      "    \n",
      "      >>> plot(x1, y1, 'bo')\n",
      "      >>> plot(x2, y2, 'go')\n",
      "    \n",
      "    - If *x* and/or *y* are 2D arrays a separate data set will be drawn\n",
      "      for every column. If both *x* and *y* are 2D, they must have the\n",
      "      same shape. If only one of them is 2D with shape (N, m) the other\n",
      "      must have length N and will be used for every data set m.\n",
      "    \n",
      "      Example:\n",
      "    \n",
      "      >>> x = [1, 2, 3]\n",
      "      >>> y = np.array([[1, 2], [3, 4], [5, 6]])\n",
      "      >>> plot(x, y)\n",
      "    \n",
      "      is equivalent to:\n",
      "    \n",
      "      >>> for col in range(y.shape[1]):\n",
      "      ...     plot(x, y[:, col])\n",
      "    \n",
      "    - The third way is to specify multiple sets of *[x]*, *y*, *[fmt]*\n",
      "      groups::\n",
      "    \n",
      "      >>> plot(x1, y1, 'g^', x2, y2, 'g-')\n",
      "    \n",
      "      In this case, any additional keyword argument applies to all\n",
      "      datasets. Also this syntax cannot be combined with the *data*\n",
      "      parameter.\n",
      "    \n",
      "    By default, each line is assigned a different style specified by a\n",
      "    'style cycle'. The *fmt* and line property parameters are only\n",
      "    necessary if you want explicit deviations from these defaults.\n",
      "    Alternatively, you can also change the style cycle using\n",
      "    :rc:`axes.prop_cycle`.\n",
      "    \n",
      "    \n",
      "    Parameters\n",
      "    ----------\n",
      "    x, y : array-like or scalar\n",
      "        The horizontal / vertical coordinates of the data points.\n",
      "        *x* values are optional and default to ``range(len(y))``.\n",
      "    \n",
      "        Commonly, these parameters are 1D arrays.\n",
      "    \n",
      "        They can also be scalars, or two-dimensional (in that case, the\n",
      "        columns represent separate data sets).\n",
      "    \n",
      "        These arguments cannot be passed as keywords.\n",
      "    \n",
      "    fmt : str, optional\n",
      "        A format string, e.g. 'ro' for red circles. See the *Notes*\n",
      "        section for a full description of the format strings.\n",
      "    \n",
      "        Format strings are just an abbreviation for quickly setting\n",
      "        basic line properties. All of these and more can also be\n",
      "        controlled by keyword arguments.\n",
      "    \n",
      "        This argument cannot be passed as keyword.\n",
      "    \n",
      "    data : indexable object, optional\n",
      "        An object with labelled data. If given, provide the label names to\n",
      "        plot in *x* and *y*.\n",
      "    \n",
      "        .. note::\n",
      "            Technically there's a slight ambiguity in calls where the\n",
      "            second label is a valid *fmt*. ``plot('n', 'o', data=obj)``\n",
      "            could be ``plt(x, y)`` or ``plt(y, fmt)``. In such cases,\n",
      "            the former interpretation is chosen, but a warning is issued.\n",
      "            You may suppress the warning by adding an empty format string\n",
      "            ``plot('n', 'o', '', data=obj)``.\n",
      "    \n",
      "    Returns\n",
      "    -------\n",
      "    list of `.Line2D`\n",
      "        A list of lines representing the plotted data.\n",
      "    \n",
      "    Other Parameters\n",
      "    ----------------\n",
      "    scalex, scaley : bool, default: True\n",
      "        These parameters determine if the view limits are adapted to the\n",
      "        data limits. The values are passed on to `autoscale_view`.\n",
      "    \n",
      "    **kwargs : `.Line2D` properties, optional\n",
      "        *kwargs* are used to specify properties like a line label (for\n",
      "        auto legends), linewidth, antialiasing, marker face color.\n",
      "        Example::\n",
      "    \n",
      "        >>> plot([1, 2, 3], [1, 2, 3], 'go-', label='line 1', linewidth=2)\n",
      "        >>> plot([1, 2, 3], [1, 4, 9], 'rs', label='line 2')\n",
      "    \n",
      "        If you specify multiple lines with one plot call, the kwargs apply\n",
      "        to all those lines. In case the label object is iterable, each\n",
      "        element is used as labels for each set of data.\n",
      "    \n",
      "        Here is a list of available `.Line2D` properties:\n",
      "    \n",
      "        Properties:\n",
      "        agg_filter: a filter function, which takes a (m, n, 3) float array and a dpi value, and returns a (m, n, 3) array\n",
      "        alpha: scalar or None\n",
      "        animated: bool\n",
      "        antialiased or aa: bool\n",
      "        clip_box: `.Bbox`\n",
      "        clip_on: bool\n",
      "        clip_path: Patch or (Path, Transform) or None\n",
      "        color or c: color\n",
      "        contains: unknown\n",
      "        dash_capstyle: `.CapStyle` or {'butt', 'projecting', 'round'}\n",
      "        dash_joinstyle: `.JoinStyle` or {'miter', 'round', 'bevel'}\n",
      "        dashes: sequence of floats (on/off ink in points) or (None, None)\n",
      "        data: (2, N) array or two 1D arrays\n",
      "        drawstyle or ds: {'default', 'steps', 'steps-pre', 'steps-mid', 'steps-post'}, default: 'default'\n",
      "        figure: `.Figure`\n",
      "        fillstyle: {'full', 'left', 'right', 'bottom', 'top', 'none'}\n",
      "        gid: str\n",
      "        in_layout: bool\n",
      "        label: object\n",
      "        linestyle or ls: {'-', '--', '-.', ':', '', (offset, on-off-seq), ...}\n",
      "        linewidth or lw: float\n",
      "        marker: marker style string, `~.path.Path` or `~.markers.MarkerStyle`\n",
      "        markeredgecolor or mec: color\n",
      "        markeredgewidth or mew: float\n",
      "        markerfacecolor or mfc: color\n",
      "        markerfacecoloralt or mfcalt: color\n",
      "        markersize or ms: float\n",
      "        markevery: None or int or (int, int) or slice or list[int] or float or (float, float) or list[bool]\n",
      "        path_effects: `.AbstractPathEffect`\n",
      "        picker: float or callable[[Artist, Event], tuple[bool, dict]]\n",
      "        pickradius: float\n",
      "        rasterized: bool\n",
      "        sketch_params: (scale: float, length: float, randomness: float)\n",
      "        snap: bool or None\n",
      "        solid_capstyle: `.CapStyle` or {'butt', 'projecting', 'round'}\n",
      "        solid_joinstyle: `.JoinStyle` or {'miter', 'round', 'bevel'}\n",
      "        transform: `matplotlib.transforms.Transform`\n",
      "        url: str\n",
      "        visible: bool\n",
      "        xdata: 1D array\n",
      "        ydata: 1D array\n",
      "        zorder: float\n",
      "    \n",
      "    See Also\n",
      "    --------\n",
      "    scatter : XY scatter plot with markers of varying size and/or color (\n",
      "        sometimes also called bubble chart).\n",
      "    \n",
      "    Notes\n",
      "    -----\n",
      "    **Format Strings**\n",
      "    \n",
      "    A format string consists of a part for color, marker and line::\n",
      "    \n",
      "        fmt = '[marker][line][color]'\n",
      "    \n",
      "    Each of them is optional. If not provided, the value from the style\n",
      "    cycle is used. Exception: If ``line`` is given, but no ``marker``,\n",
      "    the data will be a line without markers.\n",
      "    \n",
      "    Other combinations such as ``[color][marker][line]`` are also\n",
      "    supported, but note that their parsing may be ambiguous.\n",
      "    \n",
      "    **Markers**\n",
      "    \n",
      "    =============   ===============================\n",
      "    character       description\n",
      "    =============   ===============================\n",
      "    ``'.'``         point marker\n",
      "    ``','``         pixel marker\n",
      "    ``'o'``         circle marker\n",
      "    ``'v'``         triangle_down marker\n",
      "    ``'^'``         triangle_up marker\n",
      "    ``'<'``         triangle_left marker\n",
      "    ``'>'``         triangle_right marker\n",
      "    ``'1'``         tri_down marker\n",
      "    ``'2'``         tri_up marker\n",
      "    ``'3'``         tri_left marker\n",
      "    ``'4'``         tri_right marker\n",
      "    ``'8'``         octagon marker\n",
      "    ``'s'``         square marker\n",
      "    ``'p'``         pentagon marker\n",
      "    ``'P'``         plus (filled) marker\n",
      "    ``'*'``         star marker\n",
      "    ``'h'``         hexagon1 marker\n",
      "    ``'H'``         hexagon2 marker\n",
      "    ``'+'``         plus marker\n",
      "    ``'x'``         x marker\n",
      "    ``'X'``         x (filled) marker\n",
      "    ``'D'``         diamond marker\n",
      "    ``'d'``         thin_diamond marker\n",
      "    ``'|'``         vline marker\n",
      "    ``'_'``         hline marker\n",
      "    =============   ===============================\n",
      "    \n",
      "    **Line Styles**\n",
      "    \n",
      "    =============    ===============================\n",
      "    character        description\n",
      "    =============    ===============================\n",
      "    ``'-'``          solid line style\n",
      "    ``'--'``         dashed line style\n",
      "    ``'-.'``         dash-dot line style\n",
      "    ``':'``          dotted line style\n",
      "    =============    ===============================\n",
      "    \n",
      "    Example format strings::\n",
      "    \n",
      "        'b'    # blue markers with default shape\n",
      "        'or'   # red circles\n",
      "        '-g'   # green solid line\n",
      "        '--'   # dashed line with default color\n",
      "        '^k:'  # black triangle_up markers connected by a dotted line\n",
      "    \n",
      "    **Colors**\n",
      "    \n",
      "    The supported color abbreviations are the single letter codes\n",
      "    \n",
      "    =============    ===============================\n",
      "    character        color\n",
      "    =============    ===============================\n",
      "    ``'b'``          blue\n",
      "    ``'g'``          green\n",
      "    ``'r'``          red\n",
      "    ``'c'``          cyan\n",
      "    ``'m'``          magenta\n",
      "    ``'y'``          yellow\n",
      "    ``'k'``          black\n",
      "    ``'w'``          white\n",
      "    =============    ===============================\n",
      "    \n",
      "    and the ``'CN'`` colors that index into the default property cycle.\n",
      "    \n",
      "    If the color is the only part of the format string, you can\n",
      "    additionally use any  `matplotlib.colors` spec, e.g. full names\n",
      "    (``'green'``) or hex strings (``'#008000'``).\n",
      "\n"
     ]
    }
   ],
   "source": [
    "# 查看plot的功能\n",
    "help(plt.plot)"
   ]
  },
  {
   "cell_type": "code",
   "execution_count": 109,
   "id": "3c8702fe",
   "metadata": {},
   "outputs": [
    {
     "data": {
      "text/plain": [
       "array([0.        , 0.12822827, 0.25645654, 0.38468481, 0.51291309,\n",
       "       0.64114136, 0.76936963, 0.8975979 , 1.02582617, 1.15405444,\n",
       "       1.28228272, 1.41051099, 1.53873926, 1.66696753, 1.7951958 ,\n",
       "       1.92342407, 2.05165235, 2.17988062, 2.30810889, 2.43633716,\n",
       "       2.56456543, 2.6927937 , 2.82102197, 2.94925025, 3.07747852,\n",
       "       3.20570679, 3.33393506, 3.46216333, 3.5903916 , 3.71861988,\n",
       "       3.84684815, 3.97507642, 4.10330469, 4.23153296, 4.35976123,\n",
       "       4.48798951, 4.61621778, 4.74444605, 4.87267432, 5.00090259,\n",
       "       5.12913086, 5.25735913, 5.38558741, 5.51381568, 5.64204395,\n",
       "       5.77027222, 5.89850049, 6.02672876, 6.15495704, 6.28318531])"
      ]
     },
     "execution_count": 109,
     "metadata": {},
     "output_type": "execute_result"
    }
   ],
   "source": [
    "# 更密集的数据点\n",
    "x = np.linspace(0, 2 * np.pi, 50)\n",
    "x"
   ]
  },
  {
   "cell_type": "code",
   "execution_count": 110,
   "id": "c938580c",
   "metadata": {},
   "outputs": [
    {
     "data": {
      "image/png": "[encoded data removed]",
      "text/plain": [
       "<Figure size 432x288 with 1 Axes>"
      ]
     },
     "metadata": {
      "needs_background": "light"
     },
     "output_type": "display_data"
    }
   ],
   "source": [
    "# 画出多条数据线：\n",
    "plt.plot(x, np.sin(x), x, np.sin(2 * x))\n",
    "plt.show()"
   ]
  },
  {
   "cell_type": "code",
   "execution_count": 111,
   "id": "02508120",
   "metadata": {},
   "outputs": [
    {
     "data": {
      "image/png": "[encoded data removed]",
      "text/plain": [
       "<Figure size 432x288 with 1 Axes>"
      ]
     },
     "metadata": {
      "needs_background": "light"
     },
     "output_type": "display_data"
    }
   ],
   "source": [
    "# 使用字符串，给定线条参数：\n",
    "plt.plot(x, np.sin(x), 'r-*')\n",
    "plt.show()"
   ]
  },
  {
   "cell_type": "code",
   "execution_count": 112,
   "id": "3891d9e5",
   "metadata": {},
   "outputs": [
    {
     "data": {
      "image/png": "[encoded data removed]",
      "text/plain": [
       "<Figure size 432x288 with 1 Axes>"
      ]
     },
     "metadata": {
      "needs_background": "light"
     },
     "output_type": "display_data"
    }
   ],
   "source": [
    "# 多线条：\n",
    "plt.plot(x, np.sin(x), 'b-o', x, np.sin(2 * x), 'r-^')\n",
    "plt.show()"
   ]
  },
  {
   "cell_type": "markdown",
   "id": "8786c111",
   "metadata": {},
   "source": [
    "在图中添加标签"
   ]
  },
  {
   "cell_type": "code",
   "execution_count": 113,
   "id": "4885ab74",
   "metadata": {},
   "outputs": [
    {
     "name": "stderr",
     "output_type": "stream",
     "text": [
      "C:\\Users\\36124\\AppData\\Local\\Temp/ipykernel_20008/2068036237.py:3: UserWarning: color is redundantly defined by the 'color' keyword argument and the fmt string \"bo\" (-> color='b'). The keyword argument will take precedence.\n",
      "  plt.plot(t, x, 'bo', t, np.sin(2 * t), 'r-^', label='sin', color='red', )\n",
      "C:\\Users\\36124\\AppData\\Local\\Temp/ipykernel_20008/2068036237.py:3: UserWarning: color is redundantly defined by the 'color' keyword argument and the fmt string \"r-^\" (-> color='r'). The keyword argument will take precedence.\n",
      "  plt.plot(t, x, 'bo', t, np.sin(2 * t), 'r-^', label='sin', color='red', )\n"
     ]
    },
    {
     "data": {
      "image/png": "[encoded data removed]",
      "text/plain": [
       "<Figure size 432x288 with 1 Axes>"
      ]
     },
     "metadata": {
      "needs_background": "light"
     },
     "output_type": "display_data"
    }
   ],
   "source": [
    "t = np.linspace(0, 2 * np.pi, 50)\n",
    "x = np.sin(t)\n",
    "plt.plot(t, x, 'bo', t, np.sin(2 * t), 'r-^', label='sin', color='red', )\n",
    "plt.legend()\n",
    "plt.xlabel('radians')\n",
    "plt.ylabel('amplitude', fontsize='large')\n",
    "plt.title('Sin(x)')\n",
    "plt.grid()\n",
    "plt.show()"
   ]
  },
  {
   "cell_type": "code",
   "execution_count": 114,
   "id": "27f50e4a",
   "metadata": {},
   "outputs": [
    {
     "data": {
      "image/png": "[encoded data removed]",
      "text/plain": [
       "<Figure size 432x288 with 1 Axes>"
      ]
     },
     "metadata": {
      "needs_background": "light"
     },
     "output_type": "display_data"
    }
   ],
   "source": [
    "# 直方图\n",
    "data = np.array([1234, 321, 400, 120, 11, 30, 2000])\n",
    "plt.hist(data, 7)\n",
    "plt.show()"
   ]
  },
  {
   "cell_type": "markdown",
   "id": "702702d7",
   "metadata": {},
   "source": [
    "## 17 pandas 模块 "
   ]
  },
  {
   "cell_type": "markdown",
   "id": "a173a69a",
   "metadata": {},
   "source": [
    "Pandas是Python的一个用于数据分析的库： http://pandas.pydata.org  \n",
    "基于NumPy,SciPy的功能，在其上补充了大量的数据操作（Data Manipulation）功能。  \n",
    "统计、分组、排序、透视表自由转换"
   ]
  },
  {
   "cell_type": "markdown",
   "id": "fc8a86c2",
   "metadata": {},
   "source": [
    "普通的数据读取"
   ]
  },
  {
   "cell_type": "code",
   "execution_count": 115,
   "id": "59310591",
   "metadata": {},
   "outputs": [],
   "source": [
    "iris_file = './data/iris.data.txt'"
   ]
  },
  {
   "cell_type": "code",
   "execution_count": 116,
   "id": "164915ed",
   "metadata": {},
   "outputs": [
    {
     "name": "stdout",
     "output_type": "stream",
     "text": [
      "5.1,3.5,1.4,0.2,Iris-setosa\n",
      "\n",
      "4.9,3.0,1.4,0.2,Iris-setosa\n",
      "\n",
      "4.7,3.2,1.3,0.2,Iris-setosa\n",
      "\n",
      "4.6,3.1,1.5,0.2,Iris-setosa\n",
      "\n",
      "5.0,3.6,1.4,0.2,Iris-setosa\n",
      "\n",
      "5.4,3.9,1.7,0.4,Iris-setosa\n",
      "\n",
      "4.6,3.4,1.4,0.3,Iris-setosa\n",
      "\n",
      "5.0,3.4,1.5,0.2,Iris-setosa\n",
      "\n",
      "4.4,2.9,1.4,0.2,Iris-setosa\n",
      "\n",
      "4.9,3.1,1.5,0.1,Iris-setosa\n",
      "\n",
      "5.4,3.7,1.5,0.2,Iris-setosa\n",
      "\n"
     ]
    }
   ],
   "source": [
    "with open(iris_file, 'r', encoding='utf-8') as f:\n",
    "    lines = f.readlines()\n",
    "\n",
    "for idx, line in enumerate(lines):\n",
    "    print(line)\n",
    "    if idx == 10:\n",
    "        break"
   ]
  },
  {
   "cell_type": "markdown",
   "id": "70d27497",
   "metadata": {},
   "source": [
    "使用pandas进行数据读取"
   ]
  },
  {
   "cell_type": "code",
   "execution_count": 117,
   "id": "a8a7cd29",
   "metadata": {},
   "outputs": [
    {
     "data": {
      "text/html": [
       "<div>\n",
       "<style scoped>\n",
       "    .dataframe tbody tr th:only-of-type {\n",
       "        vertical-align: middle;\n",
       "    }\n",
       "\n",
       "    .dataframe tbody tr th {\n",
       "        vertical-align: top;\n",
       "    }\n",
       "\n",
       "    .dataframe thead th {\n",
       "        text-align: right;\n",
       "    }\n",
       "</style>\n",
       "<table border=\"1\" class=\"dataframe\">\n",
       "  <thead>\n",
       "    <tr style=\"text-align: right;\">\n",
       "      <th></th>\n",
       "      <th>0</th>\n",
       "      <th>1</th>\n",
       "      <th>2</th>\n",
       "      <th>3</th>\n",
       "      <th>4</th>\n",
       "    </tr>\n",
       "  </thead>\n",
       "  <tbody>\n",
       "    <tr>\n",
       "      <th>0</th>\n",
       "      <td>5.1</td>\n",
       "      <td>3.5</td>\n",
       "      <td>1.4</td>\n",
       "      <td>0.2</td>\n",
       "      <td>Iris-setosa</td>\n",
       "    </tr>\n",
       "    <tr>\n",
       "      <th>1</th>\n",
       "      <td>4.9</td>\n",
       "      <td>3.0</td>\n",
       "      <td>1.4</td>\n",
       "      <td>0.2</td>\n",
       "      <td>Iris-setosa</td>\n",
       "    </tr>\n",
       "    <tr>\n",
       "      <th>2</th>\n",
       "      <td>4.7</td>\n",
       "      <td>3.2</td>\n",
       "      <td>1.3</td>\n",
       "      <td>0.2</td>\n",
       "      <td>Iris-setosa</td>\n",
       "    </tr>\n",
       "    <tr>\n",
       "      <th>3</th>\n",
       "      <td>4.6</td>\n",
       "      <td>3.1</td>\n",
       "      <td>1.5</td>\n",
       "      <td>0.2</td>\n",
       "      <td>Iris-setosa</td>\n",
       "    </tr>\n",
       "    <tr>\n",
       "      <th>4</th>\n",
       "      <td>5.0</td>\n",
       "      <td>3.6</td>\n",
       "      <td>1.4</td>\n",
       "      <td>0.2</td>\n",
       "      <td>Iris-setosa</td>\n",
       "    </tr>\n",
       "    <tr>\n",
       "      <th>...</th>\n",
       "      <td>...</td>\n",
       "      <td>...</td>\n",
       "      <td>...</td>\n",
       "      <td>...</td>\n",
       "      <td>...</td>\n",
       "    </tr>\n",
       "    <tr>\n",
       "      <th>145</th>\n",
       "      <td>6.7</td>\n",
       "      <td>3.0</td>\n",
       "      <td>5.2</td>\n",
       "      <td>2.3</td>\n",
       "      <td>Iris-virginica</td>\n",
       "    </tr>\n",
       "    <tr>\n",
       "      <th>146</th>\n",
       "      <td>6.3</td>\n",
       "      <td>2.5</td>\n",
       "      <td>5.0</td>\n",
       "      <td>1.9</td>\n",
       "      <td>Iris-virginica</td>\n",
       "    </tr>\n",
       "    <tr>\n",
       "      <th>147</th>\n",
       "      <td>6.5</td>\n",
       "      <td>3.0</td>\n",
       "      <td>5.2</td>\n",
       "      <td>2.0</td>\n",
       "      <td>Iris-virginica</td>\n",
       "    </tr>\n",
       "    <tr>\n",
       "      <th>148</th>\n",
       "      <td>6.2</td>\n",
       "      <td>3.4</td>\n",
       "      <td>5.4</td>\n",
       "      <td>2.3</td>\n",
       "      <td>Iris-virginica</td>\n",
       "    </tr>\n",
       "    <tr>\n",
       "      <th>149</th>\n",
       "      <td>5.9</td>\n",
       "      <td>3.0</td>\n",
       "      <td>5.1</td>\n",
       "      <td>1.8</td>\n",
       "      <td>Iris-virginica</td>\n",
       "    </tr>\n",
       "  </tbody>\n",
       "</table>\n",
       "<p>150 rows × 5 columns</p>\n",
       "</div>"
      ],
      "text/plain": [
       "       0    1    2    3               4\n",
       "0    5.1  3.5  1.4  0.2     Iris-setosa\n",
       "1    4.9  3.0  1.4  0.2     Iris-setosa\n",
       "2    4.7  3.2  1.3  0.2     Iris-setosa\n",
       "3    4.6  3.1  1.5  0.2     Iris-setosa\n",
       "4    5.0  3.6  1.4  0.2     Iris-setosa\n",
       "..   ...  ...  ...  ...             ...\n",
       "145  6.7  3.0  5.2  2.3  Iris-virginica\n",
       "146  6.3  2.5  5.0  1.9  Iris-virginica\n",
       "147  6.5  3.0  5.2  2.0  Iris-virginica\n",
       "148  6.2  3.4  5.4  2.3  Iris-virginica\n",
       "149  5.9  3.0  5.1  1.8  Iris-virginica\n",
       "\n",
       "[150 rows x 5 columns]"
      ]
     },
     "execution_count": 117,
     "metadata": {},
     "output_type": "execute_result"
    }
   ],
   "source": [
    "import numpy as np\n",
    "import scipy as sp\n",
    "import pandas as pd\n",
    "\n",
    "data = pd.read_csv(iris_file, header=None, encoding='utf-8')\n",
    "data"
   ]
  },
  {
   "cell_type": "markdown",
   "id": "58323183",
   "metadata": {},
   "source": [
    "快速的操作元数据"
   ]
  },
  {
   "cell_type": "code",
   "execution_count": 118,
   "id": "5712a933",
   "metadata": {},
   "outputs": [
    {
     "data": {
      "text/html": [
       "<div>\n",
       "<style scoped>\n",
       "    .dataframe tbody tr th:only-of-type {\n",
       "        vertical-align: middle;\n",
       "    }\n",
       "\n",
       "    .dataframe tbody tr th {\n",
       "        vertical-align: top;\n",
       "    }\n",
       "\n",
       "    .dataframe thead th {\n",
       "        text-align: right;\n",
       "    }\n",
       "</style>\n",
       "<table border=\"1\" class=\"dataframe\">\n",
       "  <thead>\n",
       "    <tr style=\"text-align: right;\">\n",
       "      <th></th>\n",
       "      <th>sepal_length</th>\n",
       "      <th>sepal_width</th>\n",
       "      <th>petal_length</th>\n",
       "      <th>petal_width</th>\n",
       "      <th>class</th>\n",
       "    </tr>\n",
       "  </thead>\n",
       "  <tbody>\n",
       "    <tr>\n",
       "      <th>0</th>\n",
       "      <td>5.1</td>\n",
       "      <td>3.5</td>\n",
       "      <td>1.4</td>\n",
       "      <td>0.2</td>\n",
       "      <td>Iris-setosa</td>\n",
       "    </tr>\n",
       "    <tr>\n",
       "      <th>1</th>\n",
       "      <td>4.9</td>\n",
       "      <td>3.0</td>\n",
       "      <td>1.4</td>\n",
       "      <td>0.2</td>\n",
       "      <td>Iris-setosa</td>\n",
       "    </tr>\n",
       "    <tr>\n",
       "      <th>2</th>\n",
       "      <td>4.7</td>\n",
       "      <td>3.2</td>\n",
       "      <td>1.3</td>\n",
       "      <td>0.2</td>\n",
       "      <td>Iris-setosa</td>\n",
       "    </tr>\n",
       "    <tr>\n",
       "      <th>3</th>\n",
       "      <td>4.6</td>\n",
       "      <td>3.1</td>\n",
       "      <td>1.5</td>\n",
       "      <td>0.2</td>\n",
       "      <td>Iris-setosa</td>\n",
       "    </tr>\n",
       "    <tr>\n",
       "      <th>4</th>\n",
       "      <td>5.0</td>\n",
       "      <td>3.6</td>\n",
       "      <td>1.4</td>\n",
       "      <td>0.2</td>\n",
       "      <td>Iris-setosa</td>\n",
       "    </tr>\n",
       "    <tr>\n",
       "      <th>...</th>\n",
       "      <td>...</td>\n",
       "      <td>...</td>\n",
       "      <td>...</td>\n",
       "      <td>...</td>\n",
       "      <td>...</td>\n",
       "    </tr>\n",
       "    <tr>\n",
       "      <th>145</th>\n",
       "      <td>6.7</td>\n",
       "      <td>3.0</td>\n",
       "      <td>5.2</td>\n",
       "      <td>2.3</td>\n",
       "      <td>Iris-virginica</td>\n",
       "    </tr>\n",
       "    <tr>\n",
       "      <th>146</th>\n",
       "      <td>6.3</td>\n",
       "      <td>2.5</td>\n",
       "      <td>5.0</td>\n",
       "      <td>1.9</td>\n",
       "      <td>Iris-virginica</td>\n",
       "    </tr>\n",
       "    <tr>\n",
       "      <th>147</th>\n",
       "      <td>6.5</td>\n",
       "      <td>3.0</td>\n",
       "      <td>5.2</td>\n",
       "      <td>2.0</td>\n",
       "      <td>Iris-virginica</td>\n",
       "    </tr>\n",
       "    <tr>\n",
       "      <th>148</th>\n",
       "      <td>6.2</td>\n",
       "      <td>3.4</td>\n",
       "      <td>5.4</td>\n",
       "      <td>2.3</td>\n",
       "      <td>Iris-virginica</td>\n",
       "    </tr>\n",
       "    <tr>\n",
       "      <th>149</th>\n",
       "      <td>5.9</td>\n",
       "      <td>3.0</td>\n",
       "      <td>5.1</td>\n",
       "      <td>1.8</td>\n",
       "      <td>Iris-virginica</td>\n",
       "    </tr>\n",
       "  </tbody>\n",
       "</table>\n",
       "<p>150 rows × 5 columns</p>\n",
       "</div>"
      ],
      "text/plain": [
       "     sepal_length  sepal_width  petal_length  petal_width           class\n",
       "0             5.1          3.5           1.4          0.2     Iris-setosa\n",
       "1             4.9          3.0           1.4          0.2     Iris-setosa\n",
       "2             4.7          3.2           1.3          0.2     Iris-setosa\n",
       "3             4.6          3.1           1.5          0.2     Iris-setosa\n",
       "4             5.0          3.6           1.4          0.2     Iris-setosa\n",
       "..            ...          ...           ...          ...             ...\n",
       "145           6.7          3.0           5.2          2.3  Iris-virginica\n",
       "146           6.3          2.5           5.0          1.9  Iris-virginica\n",
       "147           6.5          3.0           5.2          2.0  Iris-virginica\n",
       "148           6.2          3.4           5.4          2.3  Iris-virginica\n",
       "149           5.9          3.0           5.1          1.8  Iris-virginica\n",
       "\n",
       "[150 rows x 5 columns]"
      ]
     },
     "execution_count": 118,
     "metadata": {},
     "output_type": "execute_result"
    }
   ],
   "source": [
    "cnames = ['sepal_length', 'sepal_width', 'petal_length', 'petal_width', 'class']\n",
    "data.columns = cnames\n",
    "data"
   ]
  },
  {
   "cell_type": "markdown",
   "id": "bb0d5954",
   "metadata": {},
   "source": [
    "快速过滤"
   ]
  },
  {
   "cell_type": "code",
   "execution_count": 119,
   "id": "b6e4e3c3",
   "metadata": {},
   "outputs": [
    {
     "data": {
      "text/html": [
       "<div>\n",
       "<style scoped>\n",
       "    .dataframe tbody tr th:only-of-type {\n",
       "        vertical-align: middle;\n",
       "    }\n",
       "\n",
       "    .dataframe tbody tr th {\n",
       "        vertical-align: top;\n",
       "    }\n",
       "\n",
       "    .dataframe thead th {\n",
       "        text-align: right;\n",
       "    }\n",
       "</style>\n",
       "<table border=\"1\" class=\"dataframe\">\n",
       "  <thead>\n",
       "    <tr style=\"text-align: right;\">\n",
       "      <th></th>\n",
       "      <th>sepal_length</th>\n",
       "      <th>sepal_width</th>\n",
       "      <th>petal_length</th>\n",
       "      <th>petal_width</th>\n",
       "      <th>class</th>\n",
       "    </tr>\n",
       "  </thead>\n",
       "  <tbody>\n",
       "    <tr>\n",
       "      <th>100</th>\n",
       "      <td>6.3</td>\n",
       "      <td>3.3</td>\n",
       "      <td>6.0</td>\n",
       "      <td>2.5</td>\n",
       "      <td>Iris-virginica</td>\n",
       "    </tr>\n",
       "    <tr>\n",
       "      <th>109</th>\n",
       "      <td>7.2</td>\n",
       "      <td>3.6</td>\n",
       "      <td>6.1</td>\n",
       "      <td>2.5</td>\n",
       "      <td>Iris-virginica</td>\n",
       "    </tr>\n",
       "    <tr>\n",
       "      <th>144</th>\n",
       "      <td>6.7</td>\n",
       "      <td>3.3</td>\n",
       "      <td>5.7</td>\n",
       "      <td>2.5</td>\n",
       "      <td>Iris-virginica</td>\n",
       "    </tr>\n",
       "  </tbody>\n",
       "</table>\n",
       "</div>"
      ],
      "text/plain": [
       "     sepal_length  sepal_width  petal_length  petal_width           class\n",
       "100           6.3          3.3           6.0          2.5  Iris-virginica\n",
       "109           7.2          3.6           6.1          2.5  Iris-virginica\n",
       "144           6.7          3.3           5.7          2.5  Iris-virginica"
      ]
     },
     "execution_count": 119,
     "metadata": {},
     "output_type": "execute_result"
    }
   ],
   "source": [
    "data[data['petal_width'] == data.petal_width.max()]"
   ]
  },
  {
   "cell_type": "markdown",
   "id": "026e8281",
   "metadata": {},
   "source": [
    "快速切片"
   ]
  },
  {
   "cell_type": "code",
   "execution_count": 120,
   "id": "636aa597",
   "metadata": {},
   "outputs": [
    {
     "data": {
      "text/html": [
       "<div>\n",
       "<style scoped>\n",
       "    .dataframe tbody tr th:only-of-type {\n",
       "        vertical-align: middle;\n",
       "    }\n",
       "\n",
       "    .dataframe tbody tr th {\n",
       "        vertical-align: top;\n",
       "    }\n",
       "\n",
       "    .dataframe thead th {\n",
       "        text-align: right;\n",
       "    }\n",
       "</style>\n",
       "<table border=\"1\" class=\"dataframe\">\n",
       "  <thead>\n",
       "    <tr style=\"text-align: right;\">\n",
       "      <th></th>\n",
       "      <th>sepal_length</th>\n",
       "      <th>sepal_width</th>\n",
       "    </tr>\n",
       "  </thead>\n",
       "  <tbody>\n",
       "    <tr>\n",
       "      <th>0</th>\n",
       "      <td>5.1</td>\n",
       "      <td>3.5</td>\n",
       "    </tr>\n",
       "    <tr>\n",
       "      <th>30</th>\n",
       "      <td>4.8</td>\n",
       "      <td>3.1</td>\n",
       "    </tr>\n",
       "    <tr>\n",
       "      <th>60</th>\n",
       "      <td>5.0</td>\n",
       "      <td>2.0</td>\n",
       "    </tr>\n",
       "    <tr>\n",
       "      <th>90</th>\n",
       "      <td>5.5</td>\n",
       "      <td>2.6</td>\n",
       "    </tr>\n",
       "    <tr>\n",
       "      <th>120</th>\n",
       "      <td>6.9</td>\n",
       "      <td>3.2</td>\n",
       "    </tr>\n",
       "  </tbody>\n",
       "</table>\n",
       "</div>"
      ],
      "text/plain": [
       "     sepal_length  sepal_width\n",
       "0             5.1          3.5\n",
       "30            4.8          3.1\n",
       "60            5.0          2.0\n",
       "90            5.5          2.6\n",
       "120           6.9          3.2"
      ]
     },
     "execution_count": 120,
     "metadata": {},
     "output_type": "execute_result"
    }
   ],
   "source": [
    "data.iloc[::30, :2]"
   ]
  },
  {
   "cell_type": "markdown",
   "id": "ea2cf7bd",
   "metadata": {},
   "source": [
    "快速统计"
   ]
  },
  {
   "cell_type": "code",
   "execution_count": 121,
   "id": "f37df729",
   "metadata": {},
   "outputs": [
    {
     "data": {
      "text/plain": [
       "Iris-setosa        50\n",
       "Iris-versicolor    50\n",
       "Iris-virginica     50\n",
       "Name: class, dtype: int64"
      ]
     },
     "execution_count": 121,
     "metadata": {},
     "output_type": "execute_result"
    }
   ],
   "source": [
    "data['class'].value_counts()"
   ]
  },
  {
   "cell_type": "code",
   "execution_count": 122,
   "id": "fdd7bab8",
   "metadata": {},
   "outputs": [
    {
     "name": "stdout",
     "output_type": "stream",
     "text": [
      "sepal_length  Statistics:    7.9    4.3   5.84   0.83\n",
      "sepal_width   Statistics:    4.4    2.0   3.05   0.43\n",
      "petal_length  Statistics:    6.9    1.0   3.76   1.76\n",
      "petal_width   Statistics:    2.5    0.1    1.2   0.76\n"
     ]
    }
   ],
   "source": [
    "for x in range(4):\n",
    "    s = data.iloc[:,x]\n",
    "    print('{0:<12}'.format(s.name), \" Statistics: \",\n",
    "    '{0:>5}  {1:>5}  {2:>5}  {3:>5}'.format(s.max(), s.min(), round(s.mean(),2),round(s.std(),2)))"
   ]
  },
  {
   "cell_type": "markdown",
   "id": "91559049",
   "metadata": {},
   "source": [
    "快速“MapReduce”"
   ]
  },
  {
   "cell_type": "code",
   "execution_count": 123,
   "id": "6421893d",
   "metadata": {},
   "outputs": [
    {
     "data": {
      "text/html": [
       "<div>\n",
       "<style scoped>\n",
       "    .dataframe tbody tr th:only-of-type {\n",
       "        vertical-align: middle;\n",
       "    }\n",
       "\n",
       "    .dataframe tbody tr th {\n",
       "        vertical-align: top;\n",
       "    }\n",
       "\n",
       "    .dataframe thead th {\n",
       "        text-align: right;\n",
       "    }\n",
       "</style>\n",
       "<table border=\"1\" class=\"dataframe\">\n",
       "  <thead>\n",
       "    <tr style=\"text-align: right;\">\n",
       "      <th></th>\n",
       "      <th>sepal_length</th>\n",
       "      <th>sepal_width</th>\n",
       "      <th>petal_length</th>\n",
       "      <th>petal_width</th>\n",
       "    </tr>\n",
       "    <tr>\n",
       "      <th>class</th>\n",
       "      <th></th>\n",
       "      <th></th>\n",
       "      <th></th>\n",
       "      <th></th>\n",
       "    </tr>\n",
       "  </thead>\n",
       "  <tbody>\n",
       "    <tr>\n",
       "      <th>Iris-setosa</th>\n",
       "      <td>49.878745</td>\n",
       "      <td>49.695242</td>\n",
       "      <td>49.654909</td>\n",
       "      <td>45.810069</td>\n",
       "    </tr>\n",
       "    <tr>\n",
       "      <th>Iris-versicolor</th>\n",
       "      <td>49.815081</td>\n",
       "      <td>49.680665</td>\n",
       "      <td>49.694505</td>\n",
       "      <td>49.452305</td>\n",
       "    </tr>\n",
       "    <tr>\n",
       "      <th>Iris-virginica</th>\n",
       "      <td>49.772059</td>\n",
       "      <td>49.714500</td>\n",
       "      <td>49.761700</td>\n",
       "      <td>49.545918</td>\n",
       "    </tr>\n",
       "  </tbody>\n",
       "</table>\n",
       "</div>"
      ],
      "text/plain": [
       "                 sepal_length  sepal_width  petal_length  petal_width\n",
       "class                                                                \n",
       "Iris-setosa         49.878745    49.695242     49.654909    45.810069\n",
       "Iris-versicolor     49.815081    49.680665     49.694505    49.452305\n",
       "Iris-virginica      49.772059    49.714500     49.761700    49.545918"
      ]
     },
     "execution_count": 123,
     "metadata": {},
     "output_type": "execute_result"
    }
   ],
   "source": [
    "slogs = lambda x:np.log(x)*x\n",
    "entpy = lambda x:np.exp((slogs(x.sum())-x.map(slogs).sum())/x.sum())\n",
    "data.groupby('class').agg(entpy)"
   ]
  },
  {
   "cell_type": "markdown",
   "id": "cb69bb8c",
   "metadata": {},
   "source": [
    "按照`'class'`列进行分组，并对每个分组应用`entpy`函数进行聚合操作。换句话说，它计算了每个类别的信息熵。"
   ]
  },
  {
   "cell_type": "markdown",
   "id": "2c15137e",
   "metadata": {},
   "source": [
    "### Pandas的重要数据类型"
   ]
  },
  {
   "cell_type": "markdown",
   "id": "bbd68961",
   "metadata": {},
   "source": [
    "- DataFrame(二维表)\n",
    "- Series(一维序列)\n",
    "- Index(行索引，行级元数据)"
   ]
  },
  {
   "cell_type": "markdown",
   "id": "9230098b",
   "metadata": {},
   "source": [
    "**Series**"
   ]
  },
  {
   "cell_type": "markdown",
   "id": "e485b867",
   "metadata": {},
   "source": [
    "数据世界中对于任意一个个体的全面观测，或者对于任意一组个体某一属性的观测，全部可以抽象为Series的概念。\n",
    "\n",
    "用值构建一个Series：\n",
    "\n",
    "由默认index和values组成。"
   ]
  },
  {
   "cell_type": "code",
   "execution_count": 124,
   "id": "790936a0",
   "metadata": {},
   "outputs": [
    {
     "data": {
      "text/plain": [
       "0    1.188933\n",
       "1   -0.150223\n",
       "2    1.250500\n",
       "3   -0.952842\n",
       "dtype: float64"
      ]
     },
     "execution_count": 124,
     "metadata": {},
     "output_type": "execute_result"
    }
   ],
   "source": [
    "series1 = pd.Series(np.random.randn(4))\n",
    "series1"
   ]
  },
  {
   "cell_type": "code",
   "execution_count": 125,
   "id": "da125354",
   "metadata": {},
   "outputs": [
    {
     "name": "stdout",
     "output_type": "stream",
     "text": [
      "<class 'pandas.core.series.Series'>\n",
      "RangeIndex(start=0, stop=4, step=1)\n",
      "[ 1.1889329  -0.15022274  1.25049977 -0.95284222]\n"
     ]
    }
   ],
   "source": [
    "print(type(series1))\n",
    "print(series1.index)\n",
    "print(series1.values)"
   ]
  },
  {
   "cell_type": "markdown",
   "id": "e3b375a1",
   "metadata": {},
   "source": [
    "Series支持过滤的原理就如同NumPy："
   ]
  },
  {
   "cell_type": "code",
   "execution_count": 126,
   "id": "9fa028d3",
   "metadata": {},
   "outputs": [
    {
     "data": {
      "text/plain": [
       "0     True\n",
       "1    False\n",
       "2     True\n",
       "3    False\n",
       "dtype: bool"
      ]
     },
     "execution_count": 126,
     "metadata": {},
     "output_type": "execute_result"
    }
   ],
   "source": [
    "series1 > 0"
   ]
  },
  {
   "cell_type": "code",
   "execution_count": 127,
   "id": "bab395d2",
   "metadata": {},
   "outputs": [
    {
     "data": {
      "text/plain": [
       "0    1.188933\n",
       "2    1.250500\n",
       "dtype: float64"
      ]
     },
     "execution_count": 127,
     "metadata": {},
     "output_type": "execute_result"
    }
   ],
   "source": [
    "series1[series1 > 0]"
   ]
  },
  {
   "cell_type": "markdown",
   "id": "d7854311",
   "metadata": {},
   "source": [
    "当然也支持Broadcasting："
   ]
  },
  {
   "cell_type": "code",
   "execution_count": 128,
   "id": "e2a79f86",
   "metadata": {},
   "outputs": [
    {
     "data": {
      "text/plain": [
       "0    2.377866\n",
       "1   -0.300445\n",
       "2    2.501000\n",
       "3   -1.905684\n",
       "dtype: float64"
      ]
     },
     "execution_count": 128,
     "metadata": {},
     "output_type": "execute_result"
    }
   ],
   "source": [
    "series1*2"
   ]
  },
  {
   "cell_type": "code",
   "execution_count": 129,
   "id": "d6aaf621",
   "metadata": {},
   "outputs": [
    {
     "data": {
      "text/plain": [
       "0    6.188933\n",
       "1    4.849777\n",
       "2    6.250500\n",
       "3    4.047158\n",
       "dtype: float64"
      ]
     },
     "execution_count": 129,
     "metadata": {},
     "output_type": "execute_result"
    }
   ],
   "source": [
    "series1+5"
   ]
  },
  {
   "cell_type": "markdown",
   "id": "00d14e1d",
   "metadata": {},
   "source": [
    "以及Universal Function："
   ]
  },
  {
   "cell_type": "code",
   "execution_count": 130,
   "id": "cd060296",
   "metadata": {},
   "outputs": [
    {
     "name": "stdout",
     "output_type": "stream",
     "text": [
      "0    1.188933\n",
      "1   -0.150223\n",
      "2    1.250500\n",
      "3   -0.952842\n",
      "dtype: float64\n",
      "0    3.283575\n",
      "1    0.860516\n",
      "2    3.492088\n",
      "3    0.385643\n",
      "dtype: float64\n"
     ]
    },
    {
     "data": {
      "text/plain": [
       "0    1600.171052\n",
       "1     109.898203\n",
       "2    1809.850532\n",
       "3      22.072126\n",
       "dtype: object"
      ]
     },
     "execution_count": 130,
     "metadata": {},
     "output_type": "execute_result"
    }
   ],
   "source": [
    "print(series1)\n",
    "print(np.exp(series1))\n",
    "\n",
    "#NumPy Universal Function\n",
    "f_np = np.frompyfunc(lambda x:np.exp(x*2 + 5), 1, 1)\n",
    "f_np(series1)"
   ]
  },
  {
   "cell_type": "markdown",
   "id": "12ecf6c6",
   "metadata": {},
   "source": [
    "在序列上就使用行标，而不是创建一个2列的数据表，能够轻松辨别哪里是数据，哪里是元数据："
   ]
  },
  {
   "cell_type": "code",
   "execution_count": 131,
   "id": "9862c1e0",
   "metadata": {},
   "outputs": [
    {
     "name": "stdout",
     "output_type": "stream",
     "text": [
      "norm_0    1.188933\n",
      "norm_1   -0.150223\n",
      "norm_2    1.250500\n",
      "norm_3   -0.952842\n",
      "dtype: float64 <class 'pandas.core.series.Series'>\n",
      "Index(['norm_0', 'norm_1', 'norm_2', 'norm_3'], dtype='object')\n",
      "<class 'pandas.core.indexes.base.Index'>\n",
      "[ 1.1889329  -0.15022274  1.25049977 -0.95284222]\n"
     ]
    },
    {
     "data": {
      "text/plain": [
       "norm_0    1.188933\n",
       "norm_1   -0.150223\n",
       "norm_2    1.250500\n",
       "norm_3   -0.952842\n",
       "dtype: float64"
      ]
     },
     "execution_count": 131,
     "metadata": {},
     "output_type": "execute_result"
    }
   ],
   "source": [
    "series2 = pd.Series(series1.values, index=['norm_' + str(i) for i in range(4)])\n",
    "print(series2, type(series2))\n",
    "print(series2.index)\n",
    "print(type(series2.index))\n",
    "print(series2.values)\n",
    "series2"
   ]
  },
  {
   "cell_type": "markdown",
   "id": "577ebf78",
   "metadata": {},
   "source": [
    "虽然行是有顺序的，但是仍然能够通过行级的index来访问到数据：\n",
    "\n",
    "（当然也不尽然像Ordered Dict，因为行索引甚至可以重复，不推荐重复的行索引不代表不能用）"
   ]
  },
  {
   "cell_type": "code",
   "execution_count": 132,
   "id": "6bb5d8f6",
   "metadata": {},
   "outputs": [
    {
     "data": {
      "text/plain": [
       "norm_0    1.188933\n",
       "norm_3   -0.952842\n",
       "dtype: float64"
      ]
     },
     "execution_count": 132,
     "metadata": {},
     "output_type": "execute_result"
    }
   ],
   "source": [
    "series2[['norm_0','norm_3']]"
   ]
  },
  {
   "cell_type": "code",
   "execution_count": 133,
   "id": "61bcf2d5",
   "metadata": {},
   "outputs": [
    {
     "data": {
      "text/plain": [
       "True"
      ]
     },
     "execution_count": 133,
     "metadata": {},
     "output_type": "execute_result"
    }
   ],
   "source": [
    "'norm_0' in series2"
   ]
  },
  {
   "cell_type": "code",
   "execution_count": 134,
   "id": "3fa448a3",
   "metadata": {},
   "outputs": [
    {
     "data": {
      "text/plain": [
       "False"
      ]
     },
     "execution_count": 134,
     "metadata": {},
     "output_type": "execute_result"
    }
   ],
   "source": [
    "'norm_6' in series2"
   ]
  },
  {
   "cell_type": "markdown",
   "id": "972b224c",
   "metadata": {},
   "source": [
    "默认行索引就像行号一样："
   ]
  },
  {
   "cell_type": "code",
   "execution_count": 135,
   "id": "9d269d02",
   "metadata": {},
   "outputs": [
    {
     "data": {
      "text/plain": [
       "RangeIndex(start=0, stop=4, step=1)"
      ]
     },
     "execution_count": 135,
     "metadata": {},
     "output_type": "execute_result"
    }
   ],
   "source": [
    "series1.index"
   ]
  },
  {
   "cell_type": "markdown",
   "id": "d353a0fe",
   "metadata": {},
   "source": [
    "从Key不重复的Ordered Dict或者从Dict来定义Series就不需要担心行索引重复："
   ]
  },
  {
   "cell_type": "code",
   "execution_count": 136,
   "id": "3000dc55",
   "metadata": {},
   "outputs": [
    {
     "name": "stdout",
     "output_type": "stream",
     "text": [
      "Index(['Japan', 'Korea', 'China'], dtype='object')\n",
      "['Tokyo' 'Seoul' 'Beijing']\n"
     ]
    },
    {
     "data": {
      "text/plain": [
       "Japan      Tokyo\n",
       "Korea      Seoul\n",
       "China    Beijing\n",
       "dtype: object"
      ]
     },
     "execution_count": 136,
     "metadata": {},
     "output_type": "execute_result"
    }
   ],
   "source": [
    "s_dict = {\"Japan\":\"Tokyo\", \"Korea\":\"Seoul\", \"China\":\"Beijing\"}\n",
    "series3 = pd.Series(s_dict)\n",
    "\n",
    "print(series3.index)\n",
    "print(series3.values)\n",
    "series3"
   ]
  },
  {
   "cell_type": "markdown",
   "id": "2877253c",
   "metadata": {},
   "source": [
    "与Dict区别一： 有序"
   ]
  },
  {
   "cell_type": "code",
   "execution_count": 137,
   "id": "0ce6ef70",
   "metadata": {},
   "outputs": [
    {
     "data": {
      "text/plain": [
       "Japan          Tokyo\n",
       "China        Beijing\n",
       "Singapore        NaN\n",
       "Korea          Seoul\n",
       "dtype: object"
      ]
     },
     "execution_count": 137,
     "metadata": {},
     "output_type": "execute_result"
    }
   ],
   "source": [
    "lst = [\"Japan\", \"China\", \"Singapore\", \"Korea\"]\n",
    "series4 = pd.Series(s_dict, index =lst)\n",
    "series4"
   ]
  },
  {
   "cell_type": "code",
   "execution_count": 138,
   "id": "e7fee225",
   "metadata": {},
   "outputs": [
    {
     "name": "stdout",
     "output_type": "stream",
     "text": [
      "['Tokyo' 'Beijing' nan 'Seoul']\n",
      "Index(['Japan', 'China', 'Singapore', 'Korea'], dtype='object')\n",
      "Japan        False\n",
      "China        False\n",
      "Singapore     True\n",
      "Korea        False\n",
      "dtype: bool\n",
      "Japan         True\n",
      "China         True\n",
      "Singapore    False\n",
      "Korea         True\n",
      "dtype: bool\n"
     ]
    }
   ],
   "source": [
    "print(series4.values)\n",
    "print(series4.index)\n",
    "print(series4.isnull())\n",
    "print(series4.notnull())"
   ]
  },
  {
   "cell_type": "markdown",
   "id": "c14b1a08",
   "metadata": {},
   "source": [
    "与Dict区别二： index内值可以重复，尽管不推荐。"
   ]
  },
  {
   "cell_type": "code",
   "execution_count": 139,
   "id": "0f22261a",
   "metadata": {},
   "outputs": [
    {
     "data": {
      "text/plain": [
       "A    1.188933\n",
       "B   -0.150223\n",
       "B    1.250500\n",
       "C   -0.952842\n",
       "dtype: float64"
      ]
     },
     "execution_count": 139,
     "metadata": {},
     "output_type": "execute_result"
    }
   ],
   "source": [
    "lst = ['A', 'B', 'B', 'C']\n",
    "series5 = pd.Series(series1.values, index=lst)\n",
    "series5"
   ]
  },
  {
   "cell_type": "code",
   "execution_count": 140,
   "id": "39907ffe",
   "metadata": {},
   "outputs": [
    {
     "data": {
      "text/plain": [
       "B   -0.150223\n",
       "B    1.250500\n",
       "A    1.188933\n",
       "dtype: float64"
      ]
     },
     "execution_count": 140,
     "metadata": {},
     "output_type": "execute_result"
    }
   ],
   "source": [
    "series5[['B', 'A']]"
   ]
  },
  {
   "cell_type": "markdown",
   "id": "af1d0761",
   "metadata": {},
   "source": [
    "整个序列级别的元数据信息：name\n",
    "\n",
    "当数据序列以及index本身有了名字，就可以更方便的进行后续的数据关联啦！"
   ]
  },
  {
   "cell_type": "code",
   "execution_count": 141,
   "id": "edf971cb",
   "metadata": {},
   "outputs": [],
   "source": [
    "series4.name"
   ]
  },
  {
   "cell_type": "code",
   "execution_count": 142,
   "id": "db996e03",
   "metadata": {},
   "outputs": [],
   "source": [
    "series4.index.name"
   ]
  },
  {
   "cell_type": "code",
   "execution_count": 143,
   "id": "12b675d6",
   "metadata": {},
   "outputs": [
    {
     "data": {
      "text/plain": [
       "Nation\n",
       "Japan          Tokyo\n",
       "China        Beijing\n",
       "Singapore        NaN\n",
       "Korea          Seoul\n",
       "Name: Capital Series, dtype: object"
      ]
     },
     "execution_count": 143,
     "metadata": {},
     "output_type": "execute_result"
    }
   ],
   "source": [
    "series4.name = \"Capital Series\"\n",
    "series4.index.name = \"Nation\"\n",
    "series4"
   ]
  },
  {
   "cell_type": "code",
   "execution_count": 144,
   "id": "e93f3038",
   "metadata": {},
   "outputs": [
    {
     "data": {
      "text/html": [
       "<div>\n",
       "<style scoped>\n",
       "    .dataframe tbody tr th:only-of-type {\n",
       "        vertical-align: middle;\n",
       "    }\n",
       "\n",
       "    .dataframe tbody tr th {\n",
       "        vertical-align: top;\n",
       "    }\n",
       "\n",
       "    .dataframe thead th {\n",
       "        text-align: right;\n",
       "    }\n",
       "</style>\n",
       "<table border=\"1\" class=\"dataframe\">\n",
       "  <thead>\n",
       "    <tr style=\"text-align: right;\">\n",
       "      <th></th>\n",
       "      <th>Capital Series</th>\n",
       "    </tr>\n",
       "    <tr>\n",
       "      <th>Nation</th>\n",
       "      <th></th>\n",
       "    </tr>\n",
       "  </thead>\n",
       "  <tbody>\n",
       "    <tr>\n",
       "      <th>Japan</th>\n",
       "      <td>Tokyo</td>\n",
       "    </tr>\n",
       "    <tr>\n",
       "      <th>China</th>\n",
       "      <td>Beijing</td>\n",
       "    </tr>\n",
       "    <tr>\n",
       "      <th>Singapore</th>\n",
       "      <td>NaN</td>\n",
       "    </tr>\n",
       "    <tr>\n",
       "      <th>Korea</th>\n",
       "      <td>Seoul</td>\n",
       "    </tr>\n",
       "  </tbody>\n",
       "</table>\n",
       "</div>"
      ],
      "text/plain": [
       "          Capital Series\n",
       "Nation                  \n",
       "Japan              Tokyo\n",
       "China            Beijing\n",
       "Singapore            NaN\n",
       "Korea              Seoul"
      ]
     },
     "execution_count": 144,
     "metadata": {},
     "output_type": "execute_result"
    }
   ],
   "source": [
    "pd.DataFrame(series4)"
   ]
  },
  {
   "cell_type": "markdown",
   "id": "f1ffb19d",
   "metadata": {},
   "source": [
    "**DataFrame**"
   ]
  },
  {
   "cell_type": "markdown",
   "id": "bfbd7ce8",
   "metadata": {},
   "source": [
    "Series的有序集合，就像R的DataFrame一样方便。\n",
    "\n",
    "仔细想想，绝大部分的数据形式都可以表现为DataFrame。"
   ]
  },
  {
   "cell_type": "markdown",
   "id": "46f416f0",
   "metadata": {},
   "source": [
    "从Numpy二维数组、从文件或者从数据库定义：数据虽好，勿忘列名"
   ]
  },
  {
   "cell_type": "code",
   "execution_count": 145,
   "id": "726c11c9",
   "metadata": {},
   "outputs": [
    {
     "data": {
      "text/html": [
       "<div>\n",
       "<style scoped>\n",
       "    .dataframe tbody tr th:only-of-type {\n",
       "        vertical-align: middle;\n",
       "    }\n",
       "\n",
       "    .dataframe tbody tr th {\n",
       "        vertical-align: top;\n",
       "    }\n",
       "\n",
       "    .dataframe thead th {\n",
       "        text-align: right;\n",
       "    }\n",
       "</style>\n",
       "<table border=\"1\" class=\"dataframe\">\n",
       "  <thead>\n",
       "    <tr style=\"text-align: right;\">\n",
       "      <th></th>\n",
       "      <th>nation</th>\n",
       "      <th>capital</th>\n",
       "      <th>GDP</th>\n",
       "    </tr>\n",
       "  </thead>\n",
       "  <tbody>\n",
       "    <tr>\n",
       "      <th>0</th>\n",
       "      <td>Japan</td>\n",
       "      <td>Tokyo</td>\n",
       "      <td>4000</td>\n",
       "    </tr>\n",
       "    <tr>\n",
       "      <th>1</th>\n",
       "      <td>Korea</td>\n",
       "      <td>Seoul</td>\n",
       "      <td>1300</td>\n",
       "    </tr>\n",
       "    <tr>\n",
       "      <th>2</th>\n",
       "      <td>China</td>\n",
       "      <td>Beijing</td>\n",
       "      <td>9100</td>\n",
       "    </tr>\n",
       "  </tbody>\n",
       "</table>\n",
       "</div>"
      ],
      "text/plain": [
       "  nation  capital   GDP\n",
       "0  Japan    Tokyo  4000\n",
       "1  Korea    Seoul  1300\n",
       "2  China  Beijing  9100"
      ]
     },
     "execution_count": 145,
     "metadata": {},
     "output_type": "execute_result"
    }
   ],
   "source": [
    "data_np = np.asarray([('Japan', 'Tokyo', 4000),\n",
    "                      ('Korea', 'Seoul', 1300),\n",
    "                      ('China', 'Beijing', 9100)])\n",
    "df1 = pd.DataFrame(data_np, columns=['nation','capital','GDP'])\n",
    "df1"
   ]
  },
  {
   "cell_type": "markdown",
   "id": "c243fe25",
   "metadata": {},
   "source": [
    "等长的列数据保存在一个字典里（JSON）：很不幸，字典key是无序的"
   ]
  },
  {
   "cell_type": "code",
   "execution_count": 146,
   "id": "90e4f151",
   "metadata": {},
   "outputs": [
    {
     "data": {
      "text/html": [
       "<div>\n",
       "<style scoped>\n",
       "    .dataframe tbody tr th:only-of-type {\n",
       "        vertical-align: middle;\n",
       "    }\n",
       "\n",
       "    .dataframe tbody tr th {\n",
       "        vertical-align: top;\n",
       "    }\n",
       "\n",
       "    .dataframe thead th {\n",
       "        text-align: right;\n",
       "    }\n",
       "</style>\n",
       "<table border=\"1\" class=\"dataframe\">\n",
       "  <thead>\n",
       "    <tr style=\"text-align: right;\">\n",
       "      <th></th>\n",
       "      <th>nation</th>\n",
       "      <th>capital</th>\n",
       "      <th>GDP</th>\n",
       "    </tr>\n",
       "  </thead>\n",
       "  <tbody>\n",
       "    <tr>\n",
       "      <th>0</th>\n",
       "      <td>Japan</td>\n",
       "      <td>Tokyo</td>\n",
       "      <td>4900</td>\n",
       "    </tr>\n",
       "    <tr>\n",
       "      <th>1</th>\n",
       "      <td>Korea</td>\n",
       "      <td>Seoul</td>\n",
       "      <td>1300</td>\n",
       "    </tr>\n",
       "    <tr>\n",
       "      <th>2</th>\n",
       "      <td>China</td>\n",
       "      <td>Beijing</td>\n",
       "      <td>9100</td>\n",
       "    </tr>\n",
       "  </tbody>\n",
       "</table>\n",
       "</div>"
      ],
      "text/plain": [
       "  nation  capital   GDP\n",
       "0  Japan    Tokyo  4900\n",
       "1  Korea    Seoul  1300\n",
       "2  China  Beijing  9100"
      ]
     },
     "execution_count": 146,
     "metadata": {},
     "output_type": "execute_result"
    }
   ],
   "source": [
    "data_dict = {'nation': ['Japan', 'Korea', 'China'],\n",
    "             'capital': ['Tokyo', 'Seoul', 'Beijing'],\n",
    "             'GDP': [4900, 1300, 9100]}\n",
    "df2 = pd.DataFrame(data_dict)\n",
    "df2"
   ]
  },
  {
   "cell_type": "markdown",
   "id": "8f2e9479",
   "metadata": {},
   "source": [
    "从另一个DataFrame定义DataFrame"
   ]
  },
  {
   "cell_type": "code",
   "execution_count": 147,
   "id": "39dfbd35",
   "metadata": {},
   "outputs": [
    {
     "data": {
      "text/html": [
       "<div>\n",
       "<style scoped>\n",
       "    .dataframe tbody tr th:only-of-type {\n",
       "        vertical-align: middle;\n",
       "    }\n",
       "\n",
       "    .dataframe tbody tr th {\n",
       "        vertical-align: top;\n",
       "    }\n",
       "\n",
       "    .dataframe thead th {\n",
       "        text-align: right;\n",
       "    }\n",
       "</style>\n",
       "<table border=\"1\" class=\"dataframe\">\n",
       "  <thead>\n",
       "    <tr style=\"text-align: right;\">\n",
       "      <th></th>\n",
       "      <th>nation</th>\n",
       "      <th>capital</th>\n",
       "      <th>GDP</th>\n",
       "    </tr>\n",
       "  </thead>\n",
       "  <tbody>\n",
       "    <tr>\n",
       "      <th>0</th>\n",
       "      <td>Japan</td>\n",
       "      <td>Tokyo</td>\n",
       "      <td>4900</td>\n",
       "    </tr>\n",
       "    <tr>\n",
       "      <th>1</th>\n",
       "      <td>Korea</td>\n",
       "      <td>Seoul</td>\n",
       "      <td>1300</td>\n",
       "    </tr>\n",
       "    <tr>\n",
       "      <th>2</th>\n",
       "      <td>China</td>\n",
       "      <td>Beijing</td>\n",
       "      <td>9100</td>\n",
       "    </tr>\n",
       "  </tbody>\n",
       "</table>\n",
       "</div>"
      ],
      "text/plain": [
       "  nation  capital   GDP\n",
       "0  Japan    Tokyo  4900\n",
       "1  Korea    Seoul  1300\n",
       "2  China  Beijing  9100"
      ]
     },
     "execution_count": 147,
     "metadata": {},
     "output_type": "execute_result"
    }
   ],
   "source": [
    "df21 = pd.DataFrame(df2, columns=['nation', 'capital', 'GDP'])\n",
    "df21"
   ]
  },
  {
   "cell_type": "code",
   "execution_count": 148,
   "id": "54248d45",
   "metadata": {},
   "outputs": [
    {
     "data": {
      "text/html": [
       "<div>\n",
       "<style scoped>\n",
       "    .dataframe tbody tr th:only-of-type {\n",
       "        vertical-align: middle;\n",
       "    }\n",
       "\n",
       "    .dataframe tbody tr th {\n",
       "        vertical-align: top;\n",
       "    }\n",
       "\n",
       "    .dataframe thead th {\n",
       "        text-align: right;\n",
       "    }\n",
       "</style>\n",
       "<table border=\"1\" class=\"dataframe\">\n",
       "  <thead>\n",
       "    <tr style=\"text-align: right;\">\n",
       "      <th></th>\n",
       "      <th>nation</th>\n",
       "      <th>capital</th>\n",
       "      <th>GDP</th>\n",
       "    </tr>\n",
       "  </thead>\n",
       "  <tbody>\n",
       "    <tr>\n",
       "      <th>2</th>\n",
       "      <td>China</td>\n",
       "      <td>Beijing</td>\n",
       "      <td>9100</td>\n",
       "    </tr>\n",
       "    <tr>\n",
       "      <th>0</th>\n",
       "      <td>Japan</td>\n",
       "      <td>Tokyo</td>\n",
       "      <td>4900</td>\n",
       "    </tr>\n",
       "    <tr>\n",
       "      <th>1</th>\n",
       "      <td>Korea</td>\n",
       "      <td>Seoul</td>\n",
       "      <td>1300</td>\n",
       "    </tr>\n",
       "  </tbody>\n",
       "</table>\n",
       "</div>"
      ],
      "text/plain": [
       "  nation  capital   GDP\n",
       "2  China  Beijing  9100\n",
       "0  Japan    Tokyo  4900\n",
       "1  Korea    Seoul  1300"
      ]
     },
     "execution_count": 148,
     "metadata": {},
     "output_type": "execute_result"
    }
   ],
   "source": [
    "df22 = pd.DataFrame(df2, columns=['nation', 'capital', 'GDP'], index = [2, 0, 1])\n",
    "df22"
   ]
  },
  {
   "cell_type": "markdown",
   "id": "44382804",
   "metadata": {},
   "source": [
    "从DataFrame中取出列？两种方法  \n",
    "- '.'的写法容易与其他预留关键字产生冲突\n",
    "- '[ ]'的写法最安全。"
   ]
  },
  {
   "cell_type": "code",
   "execution_count": 149,
   "id": "cd068dbb",
   "metadata": {},
   "outputs": [
    {
     "name": "stdout",
     "output_type": "stream",
     "text": [
      "2    China\n",
      "0    Japan\n",
      "1    Korea\n",
      "Name: nation, dtype: object\n",
      "2    Beijing\n",
      "0      Tokyo\n",
      "1      Seoul\n",
      "Name: capital, dtype: object\n",
      "2    9100\n",
      "0    4900\n",
      "1    1300\n",
      "Name: GDP, dtype: int64\n"
     ]
    }
   ],
   "source": [
    "print(df22.nation)\n",
    "print(df22.capital)\n",
    "print(df22['GDP'])"
   ]
  },
  {
   "cell_type": "code",
   "execution_count": 150,
   "id": "c7098803",
   "metadata": {},
   "outputs": [
    {
     "data": {
      "text/plain": [
       "2    Beijing\n",
       "0      Tokyo\n",
       "1      Seoul\n",
       "Name: capital, dtype: object"
      ]
     },
     "execution_count": 150,
     "metadata": {},
     "output_type": "execute_result"
    }
   ],
   "source": [
    "df22['capital']"
   ]
  },
  {
   "cell_type": "markdown",
   "id": "80191563",
   "metadata": {},
   "source": [
    "从DataFrame中取出行"
   ]
  },
  {
   "cell_type": "code",
   "execution_count": 151,
   "id": "49c55f2f",
   "metadata": {},
   "outputs": [
    {
     "data": {
      "text/html": [
       "<div>\n",
       "<style scoped>\n",
       "    .dataframe tbody tr th:only-of-type {\n",
       "        vertical-align: middle;\n",
       "    }\n",
       "\n",
       "    .dataframe tbody tr th {\n",
       "        vertical-align: top;\n",
       "    }\n",
       "\n",
       "    .dataframe thead th {\n",
       "        text-align: right;\n",
       "    }\n",
       "</style>\n",
       "<table border=\"1\" class=\"dataframe\">\n",
       "  <thead>\n",
       "    <tr style=\"text-align: right;\">\n",
       "      <th></th>\n",
       "      <th>nation</th>\n",
       "      <th>capital</th>\n",
       "      <th>GDP</th>\n",
       "    </tr>\n",
       "  </thead>\n",
       "  <tbody>\n",
       "    <tr>\n",
       "      <th>2</th>\n",
       "      <td>China</td>\n",
       "      <td>Beijing</td>\n",
       "      <td>9100</td>\n",
       "    </tr>\n",
       "  </tbody>\n",
       "</table>\n",
       "</div>"
      ],
      "text/plain": [
       "  nation  capital   GDP\n",
       "2  China  Beijing  9100"
      ]
     },
     "execution_count": 151,
     "metadata": {},
     "output_type": "execute_result"
    }
   ],
   "source": [
    "df22[0:1] # 给出的实际是DataFrame"
   ]
  },
  {
   "cell_type": "code",
   "execution_count": 152,
   "id": "bf594012",
   "metadata": {},
   "outputs": [
    {
     "data": {
      "text/plain": [
       "nation       China\n",
       "capital    Beijing\n",
       "GDP           9100\n",
       "Name: 2, dtype: object"
      ]
     },
     "execution_count": 152,
     "metadata": {},
     "output_type": "execute_result"
    }
   ],
   "source": [
    "df22.iloc[0] # 通过对应Index给出行"
   ]
  },
  {
   "cell_type": "markdown",
   "id": "fc8b73ab",
   "metadata": {},
   "source": [
    "像Numpy切片一样的：iloc"
   ]
  },
  {
   "cell_type": "code",
   "execution_count": 153,
   "id": "4929cf74",
   "metadata": {},
   "outputs": [
    {
     "data": {
      "text/plain": [
       "nation       China\n",
       "capital    Beijing\n",
       "GDP           9100\n",
       "Name: 2, dtype: object"
      ]
     },
     "execution_count": 153,
     "metadata": {},
     "output_type": "execute_result"
    }
   ],
   "source": [
    "df22.iloc[0,:]"
   ]
  },
  {
   "cell_type": "code",
   "execution_count": 154,
   "id": "cf2a7b94",
   "metadata": {},
   "outputs": [
    {
     "data": {
      "text/plain": [
       "2    China\n",
       "0    Japan\n",
       "1    Korea\n",
       "Name: nation, dtype: object"
      ]
     },
     "execution_count": 154,
     "metadata": {},
     "output_type": "execute_result"
    }
   ],
   "source": [
    "df22.iloc[:,0]"
   ]
  },
  {
   "cell_type": "markdown",
   "id": "b5260f5a",
   "metadata": {},
   "source": [
    "然而动态增加列无法用\".\"的方式完成，只能用\"[ ]\""
   ]
  },
  {
   "cell_type": "code",
   "execution_count": 155,
   "id": "fd7830ca",
   "metadata": {},
   "outputs": [
    {
     "data": {
      "text/html": [
       "<div>\n",
       "<style scoped>\n",
       "    .dataframe tbody tr th:only-of-type {\n",
       "        vertical-align: middle;\n",
       "    }\n",
       "\n",
       "    .dataframe tbody tr th {\n",
       "        vertical-align: top;\n",
       "    }\n",
       "\n",
       "    .dataframe thead th {\n",
       "        text-align: right;\n",
       "    }\n",
       "</style>\n",
       "<table border=\"1\" class=\"dataframe\">\n",
       "  <thead>\n",
       "    <tr style=\"text-align: right;\">\n",
       "      <th></th>\n",
       "      <th>nation</th>\n",
       "      <th>capital</th>\n",
       "      <th>GDP</th>\n",
       "      <th>population</th>\n",
       "      <th>region</th>\n",
       "    </tr>\n",
       "  </thead>\n",
       "  <tbody>\n",
       "    <tr>\n",
       "      <th>2</th>\n",
       "      <td>China</td>\n",
       "      <td>Beijing</td>\n",
       "      <td>9100</td>\n",
       "      <td>1600</td>\n",
       "      <td>East_Asian</td>\n",
       "    </tr>\n",
       "    <tr>\n",
       "      <th>0</th>\n",
       "      <td>Japan</td>\n",
       "      <td>Tokyo</td>\n",
       "      <td>4900</td>\n",
       "      <td>130</td>\n",
       "      <td>East_Asian</td>\n",
       "    </tr>\n",
       "    <tr>\n",
       "      <th>1</th>\n",
       "      <td>Korea</td>\n",
       "      <td>Seoul</td>\n",
       "      <td>1300</td>\n",
       "      <td>55</td>\n",
       "      <td>East_Asian</td>\n",
       "    </tr>\n",
       "  </tbody>\n",
       "</table>\n",
       "</div>"
      ],
      "text/plain": [
       "  nation  capital   GDP  population      region\n",
       "2  China  Beijing  9100        1600  East_Asian\n",
       "0  Japan    Tokyo  4900         130  East_Asian\n",
       "1  Korea    Seoul  1300          55  East_Asian"
      ]
     },
     "execution_count": 155,
     "metadata": {},
     "output_type": "execute_result"
    }
   ],
   "source": [
    "df22['population'] = [1600, 130, 55]\n",
    "df22['region'] = 'East_Asian'\n",
    "df22"
   ]
  },
  {
   "cell_type": "code",
   "execution_count": null,
   "id": "0685fbd6",
   "metadata": {},
   "outputs": [],
   "source": []
  },
  {
   "cell_type": "code",
   "execution_count": null,
   "id": "ee4e196a",
   "metadata": {},
   "outputs": [],
   "source": []
  },
  {
   "cell_type": "code",
   "execution_count": null,
   "id": "a9c30e83",
   "metadata": {},
   "outputs": [],
   "source": []
  }
 ],
 "metadata": {
  "kernelspec": {
   "display_name": "base",
   "language": "python",
   "name": "python3"
  },
  "language_info": {
   "codemirror_mode": {
    "name": "ipython",
    "version": 3
   },
   "file_extension": ".py",
   "mimetype": "text/x-python",
   "name": "python",
   "nbconvert_exporter": "python",
   "pygments_lexer": "ipython3",
   "version": "3.9.16"
  }
 },
 "nbformat": 4,
 "nbformat_minor": 5
}
