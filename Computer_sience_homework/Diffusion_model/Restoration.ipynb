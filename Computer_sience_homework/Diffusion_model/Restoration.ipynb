{
 "cells": [
  {
   "attachments": {},
   "cell_type": "markdown",
   "metadata": {},
   "source": [
    "## First"
   ]
  },
  {
   "cell_type": "code",
   "execution_count": 1,
   "metadata": {},
   "outputs": [
    {
     "name": "stdout",
     "output_type": "stream",
     "text": [
      "Iteration 0, loss=1112.374267578125\n",
      "Iteration 100, loss=1094.1341552734375\n",
      "Iteration 200, loss=1096.8145751953125\n",
      "Iteration 300, loss=1095.30322265625\n",
      "Iteration 400, loss=1092.378662109375\n",
      "Iteration 500, loss=1095.5574951171875\n",
      "Iteration 600, loss=1092.4552001953125\n",
      "Iteration 700, loss=1090.390380859375\n",
      "Iteration 800, loss=1087.1929931640625\n",
      "Iteration 900, loss=1085.6495361328125\n",
      "Final loss=1087.9185791015625\n"
     ]
    }
   ],
   "source": [
    "import numpy as np\n",
    "import matplotlib.pyplot as plt\n",
    "import torch\n",
    "import torch.nn.functional as F\n",
    "\n",
    "# Define the noise distribution\n",
    "def noise(x, noise_std):\n",
    "    return np.random.normal(loc=0.0, scale=noise_std, size=x.shape)\n",
    "\n",
    "# Define the diffusion process\n",
    "def diffuse(x, noise_std):\n",
    "    for t in range(x.shape[0]-1, 0, -1):\n",
    "        x[t-1] += noise(x[t], noise_std)\n",
    "    return x\n",
    "\n",
    "# Define the inverse diffusion process\n",
    "class InverseDiffusionNet(torch.nn.Module):\n",
    "    def __init__(self, in_channels, hidden_channels):\n",
    "        super().__init__()\n",
    "        self.conv1 = torch.nn.Conv2d(in_channels, hidden_channels, kernel_size=3, padding=1)\n",
    "        self.conv2 = torch.nn.Conv2d(hidden_channels, hidden_channels, kernel_size=3, padding=1)\n",
    "        self.conv3 = torch.nn.Conv2d(hidden_channels, in_channels, kernel_size=3, padding=1)\n",
    "        self.relu = torch.nn.ReLU()\n",
    "\n",
    "    def forward(self, x):\n",
    "        h = self.relu(self.conv1(x))\n",
    "        h = self.relu(self.conv2(h))\n",
    "        h = self.conv3(h)\n",
    "        return h\n",
    "\n",
    "# Define the objective function\n",
    "def vlb_loss(x, x_hat, log_q, log_p):\n",
    "    recon_loss = F.mse_loss(x_hat, x, reduction='sum')\n",
    "    kl_div = -0.5 * torch.sum(1 + log_q - log_p.exp() - log_q.exp())\n",
    "    return recon_loss + kl_div\n",
    "\n",
    "# Generate a random wavefunction\n",
    "x = np.random.normal(loc=0.0, scale=1.0, size=(1, 1, 28, 28))\n",
    "\n",
    "# Set the diffusion parameters\n",
    "noise_std = 0.1\n",
    "diffusion_steps = 20\n",
    "\n",
    "# Apply the diffusion process\n",
    "for i in range(diffusion_steps):\n",
    "    x = diffuse(x, noise_std)\n",
    "\n",
    "# Convert the wavefunction to a torch tensor\n",
    "x = torch.tensor(x, dtype=torch.float32)\n",
    "\n",
    "# Train the inverse diffusion network\n",
    "net = InverseDiffusionNet(in_channels=1, hidden_channels=64)\n",
    "optimizer = torch.optim.Adam(net.parameters(), lr=1e-3)\n",
    "\n",
    "for i in range(1000):\n",
    "    optimizer.zero_grad()\n",
    "\n",
    "    z = torch.randn_like(x)\n",
    "    x_hat = net(z)\n",
    "\n",
    "    log_q = -0.5 * np.log(2 * np.pi) - 0.5 * noise_std**2 * (x - x_hat)**2\n",
    "    log_p = -0.5 * np.log(2 * np.pi) - 0.5 * x_hat**2\n",
    "\n",
    "    loss = vlb_loss(x, x_hat, log_q, log_p)\n",
    "    loss.backward()\n",
    "    optimizer.step()\n",
    "\n",
    "    if i % 100 == 0:\n",
    "        print(f'Iteration {i}, loss={loss.item()}')\n",
    "\n",
    "# Apply the inverse diffusion process\n",
    "with torch.no_grad():\n",
    "    z = torch.randn_like(x)\n",
    "    x_hat = net(z)\n",
    "    log_q = -0.5 * np.log(2 * np.pi) - 0.5 * noise_std**2 * (x - x_hat)**2\n",
    "    log_p = -0.5 * np.log(2 * np.pi) - 0.5 * x_hat**2\n",
    "    loss = vlb_loss(x, x_hat, log_q, log_p)\n",
    "    print(f'Final loss={loss.item()}')\n",
    "    x_hat = x_hat.numpy()\n",
    "\n",
    "# Visual\n"
   ]
  },
  {
   "attachments": {},
   "cell_type": "markdown",
   "metadata": {},
   "source": [
    "## Second"
   ]
  },
  {
   "cell_type": "code",
   "execution_count": 2,
   "metadata": {},
   "outputs": [
    {
     "name": "stderr",
     "output_type": "stream",
     "text": [
      "/home/jesse_chen/anaconda3/lib/python3.9/site-packages/torchvision/io/image.py:13: UserWarning: Failed to load image Python extension: /home/jesse_chen/anaconda3/lib/python3.9/site-packages/torchvision/image.so: undefined symbol: _ZN3c105ErrorC2ENS_14SourceLocationESs\n",
      "  warn(f\"Failed to load image Python extension: {e}\")\n"
     ]
    }
   ],
   "source": [
    "import torch\n",
    "import torch.nn as nn\n",
    "import torchvision\n",
    "import torchvision.transforms as transforms\n",
    "import numpy as np\n",
    "import matplotlib.pyplot as plt\n",
    "\n",
    "num_iter = 10000\n",
    "batch_size = 32\n",
    "lr = 1e-4\n",
    "\n",
    "# Define the diffusion process\n",
    "def diffusion_process(x, timesteps, q):\n",
    "    for i in range(timesteps):\n",
    "        noise = torch.randn_like(x)\n",
    "        x = x + noise * q[i]\n",
    "    return x\n",
    "\n",
    "# Define the inverse diffusion process\n",
    "def inverse_diffusion_process(x, timesteps, p):\n",
    "    for i in reversed(range(timesteps)):\n",
    "        noise = torch.randn_like(x)\n",
    "        mean, std = p[i](x, noise)\n",
    "        x = mean + std * noise\n",
    "    return x\n",
    "\n",
    "# Define the variational lower bound loss function\n",
    "class VLB_Loss(nn.Module):\n",
    "    def __init__(self):\n",
    "        super().__init__()\n",
    "\n",
    "    def forward(self, x, timesteps, q, p):\n",
    "        # Calculate the reconstruction loss\n",
    "        z = diffusion_process(x, timesteps, q)\n",
    "        x_recon = inverse_diffusion_process(z, timesteps, p)\n",
    "        recon_loss = ((x - x_recon) ** 2).mean()\n",
    "\n",
    "        # Calculate the KL divergence loss\n",
    "        kl_loss = 0\n",
    "        for i in range(timesteps):\n",
    "            mean, std = p[i](z)\n",
    "            kl_loss += torch.mean(torch.log(std) + 0.5 * ((x - mean) ** 2) / (std ** 2) - 0.5)\n",
    "        kl_loss /= timesteps\n",
    "\n",
    "        # Combine the losses to get the VLB loss\n",
    "        vlb_loss = recon_loss + kl_loss\n",
    "\n",
    "        return vlb_loss\n",
    "\n",
    "# Define the network for p\n",
    "class P_Net(nn.Module):\n",
    "    def __init__(self, in_channels):\n",
    "        super().__init__()\n",
    "\n",
    "        self.conv1 = nn.Conv2d(in_channels, 64, kernel_size=3, padding=1)\n",
    "        self.conv2 = nn.Conv2d(64, 64, kernel_size=3, padding=1)\n",
    "        self.conv3 = nn.Conv2d(64, 64, kernel_size=3, padding=1)\n",
    "        self.conv4 = nn.Conv2d(64, in_channels * 2, kernel_size=3, padding=1)\n",
    "\n",
    "        self.relu = nn.ReLU()\n",
    "        self.tanh = nn.Tanh()\n",
    "        self.softplus = nn.Softplus()\n",
    "\n",
    "    def forward(self, x, noise=None):\n",
    "        if noise is not None:\n",
    "            x = x + noise\n",
    "\n",
    "        x = self.relu(self.conv1(x))\n",
    "        x = self.relu(self.conv2(x))\n",
    "        x = self.relu(self.conv3(x))\n",
    "        x = self.conv4(x)\n",
    "\n",
    "        mean, log_std = torch.chunk(x, 2, dim=1)\n",
    "        std = self.softplus(log_std) + 1e-6\n",
    "        noise = torch.randn_like(std)\n",
    "\n",
    "        return mean, std\n",
    "\n",
    "\n",
    "# Define the network for q\n",
    "class Q_Net(nn.Module):\n",
    "    def __init__(self, in_channels):\n",
    "        super().__init__()\n",
    "\n",
    "        self.conv1 = nn.Conv2d(in_channels, 64, kernel_size=3, padding=1)\n",
    "        self.conv2 = nn.Conv2d(64, 64, kernel_size=3, padding=1)\n",
    "        self.conv3 = nn.Conv2d(64, 64, kernel_size=3, padding=1)\n",
    "        self.conv4 = nn.Conv2d(64, in_channels, kernel_size=3, padding=1)\n",
    "\n",
    "        self.relu = nn.ReLU()\n",
    "        self.tanh = nn.Tanh()\n",
    "        self.softplus = nn.Softplus()\n",
    "    def forward(self, x):\n",
    "        x = self.relu(self.conv1(x))\n",
    "        x = self.relu(self.conv2(x))\n",
    "        x = self.relu(self.conv3(x))\n",
    "        x = self.tanh(self.conv4(x))\n",
    "        return x\n",
    "#Define the network for p\n",
    "class P_Net(nn.Module):\n",
    "    def init(self, in_channels):\n",
    "        super().init()\n",
    "        self.conv1 = nn.Conv2d(in_channels, 64, kernel_size=3, padding=1)\n",
    "        self.conv2 = nn.Conv2d(64, 64, kernel_size=3, padding=1)\n",
    "        self.conv3 = nn.Conv2d(64, 64, kernel_size=3, padding=1)\n",
    "        self.conv4 = nn.Conv2d(64, in_channels * 2, kernel_size=3, padding=1)\n",
    "\n",
    "        self.relu = nn.ReLU()\n",
    "        self.softplus = nn.Softplus()\n",
    "\n",
    "def forward(self, x):\n",
    "    x = self.relu(self.conv1(x))\n",
    "    x = self.relu(self.conv2(x))\n",
    "    x = self.relu(self.conv3(x))\n",
    "    x = self.conv4(x)\n",
    "    mean = x[:, :x.shape[1]//2, :, :]\n",
    "    std = self.softplus(x[:, x.shape[1]//2:, :, :])\n",
    "    return mean, std\n"
   ]
  },
  {
   "attachments": {},
   "cell_type": "markdown",
   "metadata": {},
   "source": [
    "### Define the loss function"
   ]
  },
  {
   "cell_type": "code",
   "execution_count": 3,
   "metadata": {},
   "outputs": [],
   "source": [
    "def loss_fn(x, x_hat, mean, std):\n",
    "# Reconstruction loss\n",
    "    recon_loss = F.mse_loss(x_hat, x)"
   ]
  },
  {
   "attachments": {},
   "cell_type": "markdown",
   "metadata": {},
   "source": [
    "### Train the model"
   ]
  },
  {
   "cell_type": "code",
   "execution_count": 4,
   "metadata": {},
   "outputs": [],
   "source": [
    "def train_model(q, p, train_loader, optimizer, device):\n",
    "    q.train()   \n",
    "    p.train()\n",
    "    total_loss = 0.0\n",
    "    for i, (x, _) in enumerate(train_loader):\n",
    "        x = x.to(device)\n",
    "\n",
    "        # Forward pass through q and p\n",
    "        z = q(x)\n",
    "        mean, std = p(z)\n",
    "\n",
    "        # Sample from the distribution defined by mean and std\n",
    "        eps = torch.randn_like(std)\n",
    "        y = mean + std * eps\n",
    "\n",
    "        # Inverse diffusion process\n",
    "        x_hat = y\n",
    "        for t in reversed(range(T)):\n",
    "            x_hat = x_hat - q(x_hat) * delta_t\n",
    "            x_hat = torch.clamp(x_hat, 0.0, 1.0)\n",
    "\n",
    "        # Compute the loss and backpropagate\n",
    "        loss = loss_fn(x, x_hat, mean, std)\n",
    "        optimizer.zero_grad()\n",
    "        loss.backward()\n",
    "        optimizer.step()\n",
    "\n",
    "        total_loss += loss.item()\n",
    "\n",
    "    return total_loss / len(train_loader)\n"
   ]
  },
  {
   "attachments": {},
   "cell_type": "markdown",
   "metadata": {},
   "source": [
    "### Test the model"
   ]
  },
  {
   "cell_type": "code",
   "execution_count": 5,
   "metadata": {},
   "outputs": [],
   "source": [
    "def test_model(q, p, test_loader, device):\n",
    "    q.eval()    \n",
    "    p.eval()\n",
    "    total_loss = 0.0\n",
    "    with torch.no_grad():\n",
    "        for i, (x, _) in enumerate(test_loader):\n",
    "            x = x.to(device)\n",
    "\n",
    "            # Forward pass through q and p\n",
    "            z = q(x)\n",
    "            mean, std = p(z)\n",
    "\n",
    "            # Sample from the distribution defined by mean and std\n",
    "            eps = torch.randn_like(std)\n",
    "            y = mean + std * eps\n",
    "\n",
    "            # Inverse diffusion process\n",
    "            x_hat = y\n",
    "            for t in reversed(range(T)):\n",
    "                x_hat = x_hat - q(x_hat) * delta_t\n",
    "                x_hat = torch.clamp(x_hat, 0.0, 1.0)\n",
    "\n",
    "            # Compute the loss\n",
    "            loss = loss_fn(x, x_hat, sigma)\n",
    "                # Backward and optimize\n",
    "        optimizer.zero_grad()\n",
    "        loss.backward()\n",
    "        optimizer.step()\n",
    "        \n",
    "        # Print the loss every `print_every` iterations\n",
    "        if (i + 1) % print_every == 0:\n",
    "            print(f\"Iteration [{i+1}/{num_iter}], Loss: {loss.item():.4f}\")\n",
    "\n",
    "    # Return the trained model\n",
    "    return p_theta  \n",
    "\n"
   ]
  },
  {
   "attachments": {},
   "cell_type": "markdown",
   "metadata": {},
   "source": [
    "### Define the optimizer and train the network"
   ]
  },
  {
   "cell_type": "code",
   "execution_count": 8,
   "metadata": {},
   "outputs": [
    {
     "ename": "TypeError",
     "evalue": "'int' object is not iterable",
     "output_type": "error",
     "traceback": [
      "\u001b[0;31m---------------------------------------------------------------------------\u001b[0m",
      "\u001b[0;31mTypeError\u001b[0m                                 Traceback (most recent call last)",
      "\u001b[1;32m/home/jesse_chen/anaconda3/A_computer_science/Diffusion_model/Restoration.ipynb 单元格 10\u001b[0m in \u001b[0;36m1\n\u001b[1;32m      <a href='vscode-notebook-cell://wsl%2Bubuntu-22.04/home/jesse_chen/anaconda3/A_computer_science/Diffusion_model/Restoration.ipynb#X13sdnNjb2RlLXJlbW90ZQ%3D%3D?line=6'>7</a>\u001b[0m optimizer \u001b[39m=\u001b[39m torch\u001b[39m.\u001b[39moptim\u001b[39m.\u001b[39mAdam(net\u001b[39m.\u001b[39mparameters(), lr)\n\u001b[1;32m      <a href='vscode-notebook-cell://wsl%2Bubuntu-22.04/home/jesse_chen/anaconda3/A_computer_science/Diffusion_model/Restoration.ipynb#X13sdnNjb2RlLXJlbW90ZQ%3D%3D?line=8'>9</a>\u001b[0m \u001b[39mfor\u001b[39;00m epoch \u001b[39min\u001b[39;00m \u001b[39mrange\u001b[39m(num_epochs):\n\u001b[0;32m---> <a href='vscode-notebook-cell://wsl%2Bubuntu-22.04/home/jesse_chen/anaconda3/A_computer_science/Diffusion_model/Restoration.ipynb#X13sdnNjb2RlLXJlbW90ZQ%3D%3D?line=9'>10</a>\u001b[0m     \u001b[39mfor\u001b[39;00m batch_idx, (x, y) \u001b[39min\u001b[39;00m \u001b[39menumerate\u001b[39;49m(train_loader):\n\u001b[1;32m     <a href='vscode-notebook-cell://wsl%2Bubuntu-22.04/home/jesse_chen/anaconda3/A_computer_science/Diffusion_model/Restoration.ipynb#X13sdnNjb2RlLXJlbW90ZQ%3D%3D?line=10'>11</a>\u001b[0m         \u001b[39m# Forward pass\u001b[39;00m\n\u001b[1;32m     <a href='vscode-notebook-cell://wsl%2Bubuntu-22.04/home/jesse_chen/anaconda3/A_computer_science/Diffusion_model/Restoration.ipynb#X13sdnNjb2RlLXJlbW90ZQ%3D%3D?line=11'>12</a>\u001b[0m         x \u001b[39m=\u001b[39m x\u001b[39m.\u001b[39mto(device)\n\u001b[1;32m     <a href='vscode-notebook-cell://wsl%2Bubuntu-22.04/home/jesse_chen/anaconda3/A_computer_science/Diffusion_model/Restoration.ipynb#X13sdnNjb2RlLXJlbW90ZQ%3D%3D?line=12'>13</a>\u001b[0m         y \u001b[39m=\u001b[39m y\u001b[39m.\u001b[39mto(device)\n",
      "\u001b[0;31mTypeError\u001b[0m: 'int' object is not iterable"
     ]
    }
   ],
   "source": [
    "\n",
    "optimizer = torch.optim.Adam(net.parameters(), lr)\n",
    "\n",
    "for epoch in range(num_epochs):\n",
    "    for batch_idx, (x, y) in enumerate(train_loader):\n",
    "        # Forward pass\n",
    "        x = x.to(device)\n",
    "        y = y.to(device)\n",
    "        loss = train_step(x, y, net, q, optimizer, delta_t)\n",
    "    # Log training progress\n",
    "    if batch_idx % log_interval == 0:\n",
    "        print(f\"Epoch {epoch}, Batch {batch_idx}, Loss {loss.item():.4f}\")\n"
   ]
  },
  {
   "attachments": {},
   "cell_type": "markdown",
   "metadata": {},
   "source": [
    "### Evaluate the network on test data"
   ]
  },
  {
   "cell_type": "code",
   "execution_count": null,
   "metadata": {},
   "outputs": [],
   "source": [
    "test_loss = 0.0\n",
    "with torch.no_grad():\n",
    "for x, y in test_loader:\n",
    "x = x.to(device)\n",
    "y = y.to(device)\n",
    "x_hat = net(y)\n",
    "test_loss += loss_fn(x, x_hat).item() * x.size(0)\n",
    "\n",
    "test_loss /= len(test_loader.dataset)\n",
    "print(f\"Test Loss: {test_loss:.4f}\")"
   ]
  },
  {
   "attachments": {},
   "cell_type": "markdown",
   "metadata": {},
   "source": [
    "## Third"
   ]
  },
  {
   "cell_type": "code",
   "execution_count": 28,
   "metadata": {},
   "outputs": [
    {
     "name": "stdout",
     "output_type": "stream",
     "text": [
      "Step 0: loss = -8.49901294708252\n"
     ]
    },
    {
     "name": "stderr",
     "output_type": "stream",
     "text": [
      "/tmp/ipykernel_402/373367222.py:39: UserWarning: To copy construct from a tensor, it is recommended to use sourceTensor.clone().detach() or sourceTensor.clone().detach().requires_grad_(True), rather than torch.tensor(sourceTensor).\n",
      "  x_prev = torch.tensor(x_prev, dtype=torch.float32).unsqueeze(0)\n"
     ]
    },
    {
     "ename": "RuntimeError",
     "evalue": "only tensors with up to 64 dims are supported",
     "output_type": "error",
     "traceback": [
      "\u001b[0;31m---------------------------------------------------------------------------\u001b[0m",
      "\u001b[0;31mRuntimeError\u001b[0m                              Traceback (most recent call last)",
      "\u001b[1;32m/home/jesse_chen/anaconda3/A_computer_science/Diffusion_model/Restoration.ipynb 单元格 15\u001b[0m in \u001b[0;36m4\n\u001b[1;32m     <a href='vscode-notebook-cell://wsl%2Bubuntu-22.04/home/jesse_chen/anaconda3/A_computer_science/Diffusion_model/Restoration.ipynb#X21sdnNjb2RlLXJlbW90ZQ%3D%3D?line=38'>39</a>\u001b[0m x_prev \u001b[39m=\u001b[39m torch\u001b[39m.\u001b[39mtensor(x_prev, dtype\u001b[39m=\u001b[39mtorch\u001b[39m.\u001b[39mfloat32)\u001b[39m.\u001b[39munsqueeze(\u001b[39m0\u001b[39m)\n\u001b[1;32m     <a href='vscode-notebook-cell://wsl%2Bubuntu-22.04/home/jesse_chen/anaconda3/A_computer_science/Diffusion_model/Restoration.ipynb#X21sdnNjb2RlLXJlbW90ZQ%3D%3D?line=39'>40</a>\u001b[0m loss \u001b[39m=\u001b[39m criterion(x_prev, x_prev_pred)\n\u001b[0;32m---> <a href='vscode-notebook-cell://wsl%2Bubuntu-22.04/home/jesse_chen/anaconda3/A_computer_science/Diffusion_model/Restoration.ipynb#X21sdnNjb2RlLXJlbW90ZQ%3D%3D?line=40'>41</a>\u001b[0m loss\u001b[39m.\u001b[39;49mbackward()\n\u001b[1;32m     <a href='vscode-notebook-cell://wsl%2Bubuntu-22.04/home/jesse_chen/anaconda3/A_computer_science/Diffusion_model/Restoration.ipynb#X21sdnNjb2RlLXJlbW90ZQ%3D%3D?line=41'>42</a>\u001b[0m optimizer\u001b[39m.\u001b[39mstep()\n\u001b[1;32m     <a href='vscode-notebook-cell://wsl%2Bubuntu-22.04/home/jesse_chen/anaconda3/A_computer_science/Diffusion_model/Restoration.ipynb#X21sdnNjb2RlLXJlbW90ZQ%3D%3D?line=43'>44</a>\u001b[0m \u001b[39mif\u001b[39;00m i \u001b[39m%\u001b[39m \u001b[39m100\u001b[39m \u001b[39m==\u001b[39m \u001b[39m0\u001b[39m:\n",
      "File \u001b[0;32m~/anaconda3/lib/python3.9/site-packages/torch/_tensor.py:396\u001b[0m, in \u001b[0;36mTensor.backward\u001b[0;34m(self, gradient, retain_graph, create_graph, inputs)\u001b[0m\n\u001b[1;32m    387\u001b[0m \u001b[39mif\u001b[39;00m has_torch_function_unary(\u001b[39mself\u001b[39m):\n\u001b[1;32m    388\u001b[0m     \u001b[39mreturn\u001b[39;00m handle_torch_function(\n\u001b[1;32m    389\u001b[0m         Tensor\u001b[39m.\u001b[39mbackward,\n\u001b[1;32m    390\u001b[0m         (\u001b[39mself\u001b[39m,),\n\u001b[0;32m   (...)\u001b[0m\n\u001b[1;32m    394\u001b[0m         create_graph\u001b[39m=\u001b[39mcreate_graph,\n\u001b[1;32m    395\u001b[0m         inputs\u001b[39m=\u001b[39minputs)\n\u001b[0;32m--> 396\u001b[0m torch\u001b[39m.\u001b[39;49mautograd\u001b[39m.\u001b[39;49mbackward(\u001b[39mself\u001b[39;49m, gradient, retain_graph, create_graph, inputs\u001b[39m=\u001b[39;49minputs)\n",
      "File \u001b[0;32m~/anaconda3/lib/python3.9/site-packages/torch/autograd/__init__.py:173\u001b[0m, in \u001b[0;36mbackward\u001b[0;34m(tensors, grad_tensors, retain_graph, create_graph, grad_variables, inputs)\u001b[0m\n\u001b[1;32m    168\u001b[0m     retain_graph \u001b[39m=\u001b[39m create_graph\n\u001b[1;32m    170\u001b[0m \u001b[39m# The reason we repeat same the comment below is that\u001b[39;00m\n\u001b[1;32m    171\u001b[0m \u001b[39m# some Python versions print out the first line of a multi-line function\u001b[39;00m\n\u001b[1;32m    172\u001b[0m \u001b[39m# calls in the traceback and some print out the last line\u001b[39;00m\n\u001b[0;32m--> 173\u001b[0m Variable\u001b[39m.\u001b[39;49m_execution_engine\u001b[39m.\u001b[39;49mrun_backward(  \u001b[39m# Calls into the C++ engine to run the backward pass\u001b[39;49;00m\n\u001b[1;32m    174\u001b[0m     tensors, grad_tensors_, retain_graph, create_graph, inputs,\n\u001b[1;32m    175\u001b[0m     allow_unreachable\u001b[39m=\u001b[39;49m\u001b[39mTrue\u001b[39;49;00m, accumulate_grad\u001b[39m=\u001b[39;49m\u001b[39mTrue\u001b[39;49;00m)\n",
      "\u001b[0;31mRuntimeError\u001b[0m: only tensors with up to 64 dims are supported"
     ]
    }
   ],
   "source": [
    "import numpy as np\n",
    "import matplotlib.pyplot as plt\n",
    "import torch\n",
    "\n",
    "# Step 1: Generate a random initial wavefunction\n",
    "x = np.linspace(-5, 5, num=100)\n",
    "psi = np.random.normal(0, 1, size=100) + 1j * np.random.normal(0, 1, size=100)\n",
    "psi /= np.linalg.norm(psi)\n",
    "\n",
    "# Step 2: Apply the diffusion process\n",
    "q = lambda x, x_prev, sigma: np.exp(-(x - x_prev) ** 2 / (2 * sigma ** 2)) / np.sqrt(2 * np.pi * sigma ** 2)\n",
    "sigma = 0.5\n",
    "x_prev = x.copy()\n",
    "for i in range(1000):\n",
    "    noise = np.random.normal(0, sigma, size=100) + 1j * np.random.normal(0, sigma, size=100)\n",
    "    psi *= q(x, x_prev, sigma) * np.exp(-1j * noise)\n",
    "    x_prev = x.copy()\n",
    "\n",
    "# Step 3: Apply the inverse diffusion process using a neural network\n",
    "class InverseDiffusionNet(torch.nn.Module):\n",
    "    def __init__(self):\n",
    "        super().__init__()\n",
    "        self.fc1 = torch.nn.Linear(100, 100)\n",
    "        self.fc2 = torch.nn.Linear(100, 100)\n",
    "        \n",
    "    def forward(self, x_t):\n",
    "        h = torch.relu(self.fc1(x_t))\n",
    "        x_prev = self.fc2(h)\n",
    "        return x_prev\n",
    "\n",
    "net = InverseDiffusionNet()\n",
    "optimizer = torch.optim.Adam(net.parameters(), lr=1e-3)\n",
    "criterion = lambda x_prev, x_t: -torch.mean(torch.abs(x_prev - x_t) ** 2)\n",
    "\n",
    "for i in range(1000):\n",
    "    optimizer.zero_grad()\n",
    "    x_t = torch.tensor(psi.real, dtype=torch.float32).unsqueeze(0)\n",
    "    x_prev_pred = net(x_t)\n",
    "    x_prev = torch.tensor(x_prev, dtype=torch.float32).unsqueeze(0)\n",
    "    loss = criterion(x_prev, x_prev_pred)\n",
    "    loss.backward()\n",
    "    optimizer.step()\n",
    "    \n",
    "    if i % 100 == 0:\n",
    "        print(f\"Step {i}: loss = {loss.item()}\")\n",
    "\n",
    "# Step 4: Repeat steps 2 and 3 for multiple iterations\n",
    "for i in range(1000):\n",
    "    noise = np.random.normal(0, sigma, size=100) + 1j * np.random.normal(0, sigma, size=100)\n",
    "    psi *= q(x, x_prev, sigma) * np.exp(-1j * noise)\n",
    "    x_prev = net(torch.tensor(psi.real, dtype=torch.float32).unsqueeze(0)).detach().numpy().squeeze()\n",
    "    \n",
    "# Step 5: Analyze the resulting wavefunction\n",
    "plt.plot(x, np.abs(psi) ** 2)\n",
    "plt.show()\n"
   ]
  },
  {
   "attachments": {},
   "cell_type": "markdown",
   "metadata": {},
   "source": [
    "## Four"
   ]
  },
  {
   "cell_type": "code",
   "execution_count": 31,
   "metadata": {},
   "outputs": [
    {
     "data": {
      "image/png": "[encoded data removed]",
      "text/plain": [
       "<Figure size 640x480 with 1 Axes>"
      ]
     },
     "metadata": {},
     "output_type": "display_data"
    },
    {
     "name": "stdout",
     "output_type": "stream",
     "text": [
      "32/32 [==============================] - 0s 11ms/step\n"
     ]
    },
    {
     "ename": "ValueError",
     "evalue": "operands could not be broadcast together with shapes (1000000,) (1000,) ",
     "output_type": "error",
     "traceback": [
      "\u001b[0;31m---------------------------------------------------------------------------\u001b[0m",
      "\u001b[0;31mValueError\u001b[0m                                Traceback (most recent call last)",
      "\u001b[1;32m/home/jesse_chen/anaconda3/A_computer_science/Diffusion_model/Restoration.ipynb 单元格 18\u001b[0m in \u001b[0;36m4\n\u001b[1;32m     <a href='vscode-notebook-cell://wsl%2Bubuntu-22.04/home/jesse_chen/anaconda3/A_computer_science/Diffusion_model/Restoration.ipynb#X25sdnNjb2RlLXJlbW90ZQ%3D%3D?line=43'>44</a>\u001b[0m \u001b[39mfor\u001b[39;00m i \u001b[39min\u001b[39;00m \u001b[39mrange\u001b[39m(num_iterations):\n\u001b[1;32m     <a href='vscode-notebook-cell://wsl%2Bubuntu-22.04/home/jesse_chen/anaconda3/A_computer_science/Diffusion_model/Restoration.ipynb#X25sdnNjb2RlLXJlbW90ZQ%3D%3D?line=44'>45</a>\u001b[0m     noise_data \u001b[39m=\u001b[39m noise(x)\n\u001b[0;32m---> <a href='vscode-notebook-cell://wsl%2Bubuntu-22.04/home/jesse_chen/anaconda3/A_computer_science/Diffusion_model/Restoration.ipynb#X25sdnNjb2RlLXJlbW90ZQ%3D%3D?line=45'>46</a>\u001b[0m     noisy_psi \u001b[39m=\u001b[39m np\u001b[39m.\u001b[39;49mabs(psi)\u001b[39m*\u001b[39;49m\u001b[39m*\u001b[39;49m\u001b[39m2\u001b[39;49m \u001b[39m+\u001b[39;49m noise_data\n\u001b[1;32m     <a href='vscode-notebook-cell://wsl%2Bubuntu-22.04/home/jesse_chen/anaconda3/A_computer_science/Diffusion_model/Restoration.ipynb#X25sdnNjb2RlLXJlbW90ZQ%3D%3D?line=46'>47</a>\u001b[0m     noisy_psi \u001b[39m/\u001b[39m\u001b[39m=\u001b[39m np\u001b[39m.\u001b[39msum(noisy_psi)\n\u001b[1;32m     <a href='vscode-notebook-cell://wsl%2Bubuntu-22.04/home/jesse_chen/anaconda3/A_computer_science/Diffusion_model/Restoration.ipynb#X25sdnNjb2RlLXJlbW90ZQ%3D%3D?line=47'>48</a>\u001b[0m     X_train \u001b[39m=\u001b[39m noisy_psi\u001b[39m.\u001b[39mreshape(\u001b[39m-\u001b[39m\u001b[39m1\u001b[39m, \u001b[39m1\u001b[39m)\n",
      "\u001b[0;31mValueError\u001b[0m: operands could not be broadcast together with shapes (1000000,) (1000,) "
     ]
    }
   ],
   "source": [
    "import numpy as np\n",
    "import matplotlib.pyplot as plt\n",
    "import tensorflow as tf\n",
    "\n",
    "# Define the diffusion model parameters\n",
    "num_iterations = 1000\n",
    "dt = 0.01\n",
    "sigma = 0.1\n",
    "\n",
    "# Generate a random initial wavefunction\n",
    "def initial_wavefunction(x):\n",
    "    return np.exp(-x**2/2) / np.sqrt(np.pi)\n",
    "\n",
    "x = np.linspace(-5, 5, 1000)\n",
    "psi = initial_wavefunction(x)\n",
    "\n",
    "# Plot the initial wavefunction\n",
    "plt.plot(x, np.abs(psi)**2)\n",
    "plt.title('Initial Wavefunction')\n",
    "plt.xlabel('Position')\n",
    "plt.ylabel('Probability Density')\n",
    "plt.show()\n",
    "\n",
    "# Define the noise distribution\n",
    "def noise(x):\n",
    "    return np.random.normal(scale=sigma, size=len(x))\n",
    "\n",
    "# Define the inverse diffusion model\n",
    "model = tf.keras.Sequential([\n",
    "    tf.keras.layers.Dense(32, activation='relu'),\n",
    "    tf.keras.layers.Dense(32, activation='relu'),\n",
    "    tf.keras.layers.Dense(len(x))\n",
    "])\n",
    "\n",
    "# Define the loss function\n",
    "def loss_fn(y_true, y_pred):\n",
    "    kl_divergence = 0.5 * tf.reduce_sum(tf.square(y_true - y_pred), axis=1) / sigma**2\n",
    "    return tf.reduce_mean(kl_divergence)\n",
    "\n",
    "# Compile the model\n",
    "model.compile(optimizer=tf.keras.optimizers.Adam(learning_rate=0.001), loss=loss_fn)\n",
    "\n",
    "# Train the inverse diffusion model\n",
    "for i in range(num_iterations):\n",
    "    noise_data = noise(x)\n",
    "    noisy_psi = np.abs(psi)**2 + noise_data\n",
    "    noisy_psi /= np.sum(noisy_psi)\n",
    "    X_train = noisy_psi.reshape(-1, 1)\n",
    "    y_train = psi.reshape(-1, 1)\n",
    "    model.train_on_batch(X_train, y_train)\n",
    "    psi = model.predict(X_train).reshape(-1)\n",
    "\n",
    "# Plot the final wavefunction\n",
    "plt.plot(x, np.abs(psi)**2)\n",
    "plt.title('Final Wavefunction')\n",
    "plt.xlabel('Position')\n",
    "plt.ylabel('Probability Density')\n",
    "plt.show()\n"
   ]
  },
  {
   "attachments": {},
   "cell_type": "markdown",
   "metadata": {},
   "source": [
    "## 4.1"
   ]
  },
  {
   "cell_type": "code",
   "execution_count": 6,
   "metadata": {},
   "outputs": [
    {
     "name": "stderr",
     "output_type": "stream",
     "text": [
      "/tmp/ipykernel_2682/1808065234.py:25: RuntimeWarning: invalid value encountered in sqrt\n",
      "  psi = np.sqrt(noisy_psi)\n"
     ]
    },
    {
     "data": {
      "image/png": "[encoded data removed]",
      "text/plain": [
       "<Figure size 640x480 with 1 Axes>"
      ]
     },
     "metadata": {},
     "output_type": "display_data"
    }
   ],
   "source": [
    "import numpy as np\n",
    "import matplotlib.pyplot as plt\n",
    "\n",
    "# Define the parameters of the diffusion model\n",
    "num_iterations = 100\n",
    "dt = 0.01\n",
    "sigma = 0.1\n",
    "\n",
    "# Generate the initial wavefunction\n",
    "def initial_wavefunction(x):\n",
    "    return np.exp(-x**2/2) / np.sqrt(np.pi)\n",
    "\n",
    "x = np.linspace(-5, 5, 1000)\n",
    "psi = initial_wavefunction(x)\n",
    "\n",
    "# Define the noise distribution\n",
    "def noise(shape):\n",
    "    return np.random.normal(scale=sigma, size=shape)\n",
    "\n",
    "# Apply the diffusion process\n",
    "for i in range(num_iterations):\n",
    "    noise_data = noise(psi.shape)\n",
    "    noisy_psi = np.abs(psi)**2 + noise_data\n",
    "    noisy_psi /= np.sum(noisy_psi)\n",
    "    psi = np.sqrt(noisy_psi)\n",
    "\n",
    "# Plot the final wavefunction\n",
    "plt.plot(x, np.abs(psi)**2)\n",
    "plt.title('Final Wavefunction')\n",
    "plt.xlabel('Position')\n",
    "plt.ylabel('Probability Density')\n",
    "plt.show()\n"
   ]
  },
  {
   "cell_type": "markdown",
   "metadata": {},
   "source": []
  }
 ],
 "metadata": {
  "kernelspec": {
   "display_name": "base",
   "language": "python",
   "name": "python3"
  },
  "language_info": {
   "codemirror_mode": {
    "name": "ipython",
    "version": 3
   },
   "file_extension": ".py",
   "mimetype": "text/x-python",
   "name": "python",
   "nbconvert_exporter": "python",
   "pygments_lexer": "ipython3",
   "version": "3.9.16"
  },
  "orig_nbformat": 4
 },
 "nbformat": 4,
 "nbformat_minor": 2
}
