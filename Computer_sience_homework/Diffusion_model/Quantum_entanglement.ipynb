{
 "cells": [
  {
   "cell_type": "code",
   "execution_count": 1,
   "metadata": {},
   "outputs": [],
   "source": [
    "import numpy as np\n",
    "from scipy.linalg import sqrtm\n",
    "\n",
    "# 初始化密度矩阵\n",
    "N = 100  # 系统自由度数量\n",
    "rho = np.zeros((N, N), dtype=np.complex128)  # 密度矩阵\n",
    "rho[0, 0] = 1  # 初始状态\n",
    "\n",
    "# 构建哈密顿量和演化算符\n",
    "H = np.random.normal(0, 1, size=(N, N)) + 1j * np.random.normal(0, 1, size=(N, N))  # 哈密顿量\n",
    "U = sqrtm(np.exp(-1j * H))  # 演化算符\n",
    "\n",
    "# 进行多次时间步长的演化\n",
    "n_steps = 100  # 时间步长数\n",
    "for i in range(n_steps):\n",
    "    # 计算下一个时间步长的密度矩阵\n",
    "    rho = np.abs(U @ rho @ U.T.conj())  # 进行矩阵乘法运算，并将结果转换为实数矩阵"
   ]
  },
  {
   "cell_type": "code",
   "execution_count": 2,
   "metadata": {},
   "outputs": [
    {
     "name": "stdout",
     "output_type": "stream",
     "text": [
      "Entanglement transfer successful!\n"
     ]
    }
   ],
   "source": [
    "import numpy as np\n",
    "import random\n",
    "\n",
    "# Define the size of the grid and the number of time steps\n",
    "size = 10\n",
    "steps = 1000\n",
    "\n",
    "# Define the initial state of the qubits\n",
    "qubit = np.array([1, 0])\n",
    "\n",
    "# Define the initial position of the photons\n",
    "photons = np.zeros(size)\n",
    "photons[0] = 1\n",
    "#接下来，我们使用一个for循环来模拟随机行走和扩散过程。\n",
    "# 在每个时间步长中，我们随机选择一个光子，并将它向左或向右移动一个位置。\n",
    "# 如果光子到达了接收方的位置，我们就可以读取接收方的量子比特的状态，\n",
    "# 并与发送方的量子比特的状态进行比较，从而验证纠缠的传输是否成功。\n",
    "# Simulate the diffusion process\n",
    "for i in range(steps):\n",
    "    # Choose a photon at random\n",
    "    index = random.randint(0, size - 1)\n",
    "    \n",
    "    # Move the photon left or right\n",
    "    direction = random.choice([-1, 1])\n",
    "    photons[index] = 0\n",
    "    index += direction\n",
    "    photons[index] = 1\n",
    "    \n",
    "    # Check if the photon has reached the receiver\n",
    "    if index == size - 1:\n",
    "        # Measure the state of the qubits\n",
    "        measurement = np.dot(qubit, qubit)\n",
    "        \n",
    "        # Compare the measurement with the initial state\n",
    "        if measurement == 1:\n",
    "            print(\"Entanglement transfer successful!\")\n",
    "            break\n",
    "        else:\n",
    "            print(\"Entanglement transfer failed.\")\n"
   ]
  }
 ],
 "metadata": {
  "kernelspec": {
   "display_name": "Python 3",
   "language": "python",
   "name": "python3"
  },
  "language_info": {
   "codemirror_mode": {
    "name": "ipython",
    "version": 3
   },
   "file_extension": ".py",
   "mimetype": "text/x-python",
   "name": "python",
   "nbconvert_exporter": "python",
   "pygments_lexer": "ipython3",
   "version": "3.9.16"
  },
  "orig_nbformat": 4
 },
 "nbformat": 4,
 "nbformat_minor": 2
}
