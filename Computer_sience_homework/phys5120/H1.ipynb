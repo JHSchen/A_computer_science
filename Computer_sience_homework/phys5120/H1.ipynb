{
 "cells": [
  {
   "cell_type": "markdown",
   "id": "9edd84e9",
   "metadata": {},
   "source": [
    "### **Part 1: The Linear Pendulum (Analytical Solution)**\n",
    "\n",
    "#### **1.1 Equation of Motion & Derivation**\n",
    "\n",
    "For a simple pendulum, the equation of motion comes from the rotational form of Newton's second law, $\\tau = I\\alpha$.\n",
    "\n",
    "  * **Torque ($\\tau$)**: The restoring torque is provided by the tangential component of gravity, $\\tau = -mgl \\sin\\theta$.\n",
    "  * **Moment of Inertia ($I$)**: For a point mass, $I = ml^2$.\n",
    "  * **Angular Acceleration ($\\alpha$)**: $\\alpha = \\ddot{\\theta}$.\n",
    "\n",
    "Combining these gives the general equation for the pendulum: $\\ddot{\\theta} = -\\frac{g}{l} \\sin\\theta$.\n",
    "\n",
    "[cite\\_start]For the linear approximation, we consider small angle oscillations ($\\theta \\ll 1$), which allows the approximation $\\sin\\theta \\approx \\theta$[cite: 16]. The equation of motion simplifies to:\n",
    "$$\\ddot{\\theta} = -\\frac{g}{l} \\theta$$\n",
    "This is the classic equation for a Simple Harmonic Oscillator (SHO).\n",
    "\n",
    "#### **1.2 Period Calculation**\n",
    "\n",
    "The general solution for an SHO is $\\theta(t) = A \\cos(\\omega\\_0 t + \\phi)$, where the angular frequency is $\\omega\\_0 = \\sqrt{g/l}$. The period $T$ is related by $T = 2\\pi / \\omega\\_0$. Therefore, the period of a linear pendulum is:\n",
    "$$T = 2\\pi \\sqrt{\\frac{l}{g}}$$\n",
    "This period depends only on the length of the pendulum.\n",
    "\n",
    "***[Self-correction Note]:*** *The statement \"This period depends only on the length of the pendulum\" isn't entirely accurate. It's true on the surface of the Earth, but strictly speaking, the period $T$ also depends on the gravitational acceleration $g$. A more precise statement would be: \"In a given gravitational field ($g$ is constant), the period of a linear pendulum depends only on its length.\"*\n",
    "\n",
    "Now, let's calculate this theoretical period with a code snippet."
   ]
  }
 ],
 "metadata": {
  "kernelspec": {
   "display_name": "base",
   "language": "python",
   "name": "python3"
  },
  "language_info": {
   "name": "python",
   "version": "3.13.2"
  }
 },
 "nbformat": 4,
 "nbformat_minor": 5
}
